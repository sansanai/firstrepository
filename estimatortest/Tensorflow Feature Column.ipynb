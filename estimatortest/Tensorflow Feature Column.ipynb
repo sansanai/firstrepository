{
 "cells": [
  {
   "cell_type": "code",
   "execution_count": null,
   "id": "beaa055a",
   "metadata": {},
   "outputs": [],
   "source": [
    "# 텐서플로에서는 tf.feature_column을 이용해 모델에 맞게 데이터를 변형하거나, 데이터 형식을 지정해 줄 수 있다.\n",
    "# 이러한 tf.feature_column을 통해 처리한 데이터를 tf.estimator에 쉽게 적용하여 모델링 할 수 있다.\n",
    "# feature_column을 이용해 데이터를 처리하는 방법과 Estimator가 아닌 텐서플로의 LowLevel API를 \n",
    "# 이용해 feature_column의 결과가 어떠한 모양을 가지는지, 범주형 데이터에 대한 입력층 형태는 어떠한지\n",
    "# 알아본다.\n",
    "# 데이터는 크게 범주형(categorical, qualitative) 데이터와 수치형(numerical, quantitative) 데이터로 \n",
    "# 나눈다."
   ]
  },
  {
   "cell_type": "code",
   "execution_count": null,
   "id": "e7239ffa",
   "metadata": {},
   "outputs": [],
   "source": [
    "# 데이터의 형식을 머신러닝/딥러닝 모델에 맞게 데이터를 표현(data representation)하는 것이 중요하며,  적합한 데이터\n",
    "# 표현을 찾는 것을 feature engineering이라고 한다."
   ]
  },
  {
   "cell_type": "code",
   "execution_count": null,
   "id": "24564edb",
   "metadata": {},
   "outputs": [],
   "source": [
    "# pandas의 get_dummies()를 이용한 one-hot encoding\n",
    "# pandas의 get_dummies() 함수를 이용해 간단히 원핫인코딩을 할 수 있다. get_dummies() 함수는 문자열 같은 object 나 category 타입의\n",
    "# 데이터를 자동으로 원-핫-인코딩 해준다."
   ]
  },
  {
   "cell_type": "code",
   "execution_count": 1,
   "id": "5d7e1e69",
   "metadata": {},
   "outputs": [
    {
     "data": {
      "text/html": [
       "<div>\n",
       "<style scoped>\n",
       "    .dataframe tbody tr th:only-of-type {\n",
       "        vertical-align: middle;\n",
       "    }\n",
       "\n",
       "    .dataframe tbody tr th {\n",
       "        vertical-align: top;\n",
       "    }\n",
       "\n",
       "    .dataframe thead th {\n",
       "        text-align: right;\n",
       "    }\n",
       "</style>\n",
       "<table border=\"1\" class=\"dataframe\">\n",
       "  <thead>\n",
       "    <tr style=\"text-align: right;\">\n",
       "      <th></th>\n",
       "      <th>color</th>\n",
       "    </tr>\n",
       "  </thead>\n",
       "  <tbody>\n",
       "    <tr>\n",
       "      <th>0</th>\n",
       "      <td>red</td>\n",
       "    </tr>\n",
       "    <tr>\n",
       "      <th>1</th>\n",
       "      <td>green</td>\n",
       "    </tr>\n",
       "    <tr>\n",
       "      <th>2</th>\n",
       "      <td>blue</td>\n",
       "    </tr>\n",
       "    <tr>\n",
       "      <th>3</th>\n",
       "      <td>red</td>\n",
       "    </tr>\n",
       "  </tbody>\n",
       "</table>\n",
       "</div>"
      ],
      "text/plain": [
       "   color\n",
       "0    red\n",
       "1  green\n",
       "2   blue\n",
       "3    red"
      ]
     },
     "metadata": {},
     "output_type": "display_data"
    },
    {
     "data": {
      "text/html": [
       "<div>\n",
       "<style scoped>\n",
       "    .dataframe tbody tr th:only-of-type {\n",
       "        vertical-align: middle;\n",
       "    }\n",
       "\n",
       "    .dataframe tbody tr th {\n",
       "        vertical-align: top;\n",
       "    }\n",
       "\n",
       "    .dataframe thead th {\n",
       "        text-align: right;\n",
       "    }\n",
       "</style>\n",
       "<table border=\"1\" class=\"dataframe\">\n",
       "  <thead>\n",
       "    <tr style=\"text-align: right;\">\n",
       "      <th></th>\n",
       "      <th>color_blue</th>\n",
       "      <th>color_green</th>\n",
       "      <th>color_red</th>\n",
       "    </tr>\n",
       "  </thead>\n",
       "  <tbody>\n",
       "    <tr>\n",
       "      <th>0</th>\n",
       "      <td>0</td>\n",
       "      <td>0</td>\n",
       "      <td>1</td>\n",
       "    </tr>\n",
       "    <tr>\n",
       "      <th>1</th>\n",
       "      <td>0</td>\n",
       "      <td>1</td>\n",
       "      <td>0</td>\n",
       "    </tr>\n",
       "    <tr>\n",
       "      <th>2</th>\n",
       "      <td>1</td>\n",
       "      <td>0</td>\n",
       "      <td>0</td>\n",
       "    </tr>\n",
       "    <tr>\n",
       "      <th>3</th>\n",
       "      <td>0</td>\n",
       "      <td>0</td>\n",
       "      <td>1</td>\n",
       "    </tr>\n",
       "  </tbody>\n",
       "</table>\n",
       "</div>"
      ],
      "text/plain": [
       "   color_blue  color_green  color_red\n",
       "0           0            0          1\n",
       "1           0            1          0\n",
       "2           1            0          0\n",
       "3           0            0          1"
      ]
     },
     "metadata": {},
     "output_type": "display_data"
    }
   ],
   "source": [
    "import pandas as pd\n",
    "\n",
    "colors=['red', 'green', 'blue', 'red']\n",
    "\n",
    "df = pd.DataFrame(colors, columns=['color'])\n",
    "df_dummies = pd.get_dummies(df)\n",
    "display(df)\n",
    "display(df_dummies)"
   ]
  },
  {
   "cell_type": "code",
   "execution_count": null,
   "id": "19331b12",
   "metadata": {},
   "outputs": [],
   "source": [
    "# scikit-learn의 onehotencoder를 이용한 one-hot-encoding\n",
    "# scikit-learn의 OneHotEncoder를 사용하여 원-핫-인코딩을 해 줄 수 있다. 하지만 OneHotEncoder는 int 형식의 array를 입력으로 받기때문에,\n",
    "# LabelEncoder를 이용해 문자열(str) 타입인 색깔을 int로 인덱싱해 준후에 OneHotEncoder로 원-핫-인코딩 해줘야 한다.\n",
    "# LabelEncoder 객체 생성 후 fit()와 transform()을 호출하여 레이블 인코딩을 수행한다."
   ]
  },
  {
   "cell_type": "code",
   "execution_count": 3,
   "id": "bc11e214",
   "metadata": {},
   "outputs": [
    {
     "name": "stdout",
     "output_type": "stream",
     "text": [
      "LabelEncoder()\n",
      "[2 1 0 2]\n",
      "[[2]\n",
      " [1]\n",
      " [0]\n",
      " [2]]\n"
     ]
    }
   ],
   "source": [
    "from sklearn.preprocessing import LabelEncoder, OneHotEncoder\n",
    "\n",
    "# str -> int: indexing\n",
    "encoder = LabelEncoder()\n",
    "le = encoder.fit(colors)\n",
    "print(le)\n",
    "le_color = encoder.transform(colors)\n",
    "print(le_color)\n",
    "le_color = le_color.reshape(-1, 1) # 2차원 데이터로 변환..\n",
    "print(le_color)"
   ]
  },
  {
   "cell_type": "code",
   "execution_count": 5,
   "id": "4cf5b0ad",
   "metadata": {},
   "outputs": [
    {
     "data": {
      "text/plain": [
       "array([2, 1, 0, 2])"
      ]
     },
     "execution_count": 5,
     "metadata": {},
     "output_type": "execute_result"
    }
   ],
   "source": [
    "a = le_color.reshape(-1)\n",
    "a"
   ]
  },
  {
   "cell_type": "code",
   "execution_count": 6,
   "id": "a193a989",
   "metadata": {},
   "outputs": [
    {
     "name": "stdout",
     "output_type": "stream",
     "text": [
      "[0 1 4 5 3 3 2 2]\n"
     ]
    }
   ],
   "source": [
    "from sklearn.preprocessing import LabelEncoder\n",
    "\n",
    "items = ['TV', '냉장고', '전자렌지', '컴퓨터', '선풍기', '선풍기', '믹서', '믹서']\n",
    "\n",
    "# LabelEncoder 객체 생성 후  fit( )과 transform( ) 적용\n",
    "encoder = LabelEncoder()\n",
    "encoder.fit(items)\n",
    "labels = encoder.transform(items)\n",
    "print(labels)"
   ]
  },
  {
   "cell_type": "code",
   "execution_count": null,
   "id": "d8a5458d",
   "metadata": {},
   "outputs": [],
   "source": [
    "# 지금은 데이터가 작아서 문자열 값이 어떤 숫자 값으로 인코딩 되었는지 직관적으로 알 수 있지만, 데이터가 많은 경우에는 이를 알지 못한다. \n",
    "# 이 경우에는 LabelEncoder 객체의 classes_ 속성값으로 확인 가능하다. 이 classes_ 속성은 0 번부터 순서대로 변환된 인코딩 값에 대한\n",
    "# 원본 값을 가지고 있다. 즉 1이 냉장고 임을 알 수 있다. 이를 다시 디코딩하기 위해서는 inverse_transform()을 적용하면 된다."
   ]
  },
  {
   "cell_type": "code",
   "execution_count": 7,
   "id": "f2d69f38",
   "metadata": {},
   "outputs": [
    {
     "name": "stdout",
     "output_type": "stream",
     "text": [
      "classes: ['TV' '냉장고' '믹서' '선풍기' '전자렌지' '컴퓨터'] \n",
      "\n",
      "decoding: ['TV' '냉장고' '전자렌지' '컴퓨터' '선풍기' '선풍기' '믹서' '믹서']\n"
     ]
    }
   ],
   "source": [
    "print('classes:', encoder.classes_, '\\n')\n",
    "print('decoding:', encoder.inverse_transform(labels))"
   ]
  },
  {
   "cell_type": "code",
   "execution_count": null,
   "id": "87a611e7",
   "metadata": {},
   "outputs": [],
   "source": [
    "# 레이블 인코딩은 간단하게 문자열 값을 숫자형 카테고리 값으로 변환한다. 그러나 일괄적인 숫자값으로의 변환이 예측성능을 떨어뜨니는 원인이 될 수 있다.\n",
    "# 이는 할당받은 카테고리 별 숫자값의 크고 작음에 대한 특성이 작용하기 때문이다. 냉장고 1이 믹서 2보다 작은 값을 가지므로 믹서가 냉장고보다 특정\n",
    "# 알고리즘에서 가중치가 더 부여되거나, 더 중요하게 인식할 가능성이 발생한다. \n",
    "# 이러한 특성 때문에 레이블 인코딩은 선형회귀와 같은 ML 알고리즘에서 적용하지 않아야 한다. 트리 계열의 기계학습 알고리즘은\n",
    "# 숮자의 이러한 특성을 반영하지 암ㅎ으므로 레이블 인토딩을 사용해도 된다."
   ]
  },
  {
   "cell_type": "code",
   "execution_count": 8,
   "id": "215e2182",
   "metadata": {},
   "outputs": [
    {
     "name": "stdout",
     "output_type": "stream",
     "text": [
      "[[0. 0. 1.]\n",
      " [0. 1. 0.]\n",
      " [1. 0. 0.]\n",
      " [0. 0. 1.]]\n"
     ]
    }
   ],
   "source": [
    "# indexing -> one-hot\n",
    "ohe =OneHotEncoder(sparse=False).fit(le_color)\n",
    "ohe_color = ohe.transform(le_color)\n",
    "print(ohe_color)"
   ]
  },
  {
   "cell_type": "code",
   "execution_count": null,
   "id": "7a64a358",
   "metadata": {},
   "outputs": [],
   "source": [
    "# 원-핫-인코딩은 레이블 인코딩의 이러한 문제점 (인덱스의 대소관계)를 해결하기 위한 인코딩 방식\n",
    "# 원-핫-인코딩은 피처값의 유형에 따라 새로운 피처를 추가하고 고유 값에 해당하는 컬럼에만 1을 표시, 나머지는 다 0을 표시하는 방식이다.\n",
    "# 즉 행 형태로 되어 있는 피처의 고유값을 열 형태로 차원을 변환하 뒤, 고유 값에 해당하는 컬럼에만 1을 표시하고, 나머지 컬럼에는 0을 표시\n",
    "# 원-핫 인코딩은 사이킷런에 OneHotEncoder 클래스로 쉽게 변환가능하다. 조금 주의할 점이 있는데, 첫번째는 OneHotEncoder로 변환하기 전에 \n",
    "# 모든 문자열 값이 숫자형 값으로 변환돼야 하며, 두번째는 입력값으로 2차원 데이터가 필요하다는점이다. 즉 LabelEncoder를 거쳐서 바꾸는게 용이하다\n"
   ]
  },
  {
   "cell_type": "code",
   "execution_count": 9,
   "id": "9b85906e",
   "metadata": {},
   "outputs": [
    {
     "name": "stdout",
     "output_type": "stream",
     "text": [
      "[0 1 4 5 3 3 2 2]\n",
      "[[0]\n",
      " [1]\n",
      " [4]\n",
      " [5]\n",
      " [3]\n",
      " [3]\n",
      " [2]\n",
      " [2]]\n",
      "[[1. 0. 0. 0. 0. 0.]\n",
      " [0. 1. 0. 0. 0. 0.]\n",
      " [0. 0. 0. 0. 1. 0.]\n",
      " [0. 0. 0. 0. 0. 1.]\n",
      " [0. 0. 0. 1. 0. 0.]\n",
      " [0. 0. 0. 1. 0. 0.]\n",
      " [0. 0. 1. 0. 0. 0.]\n",
      " [0. 0. 1. 0. 0. 0.]]\n"
     ]
    }
   ],
   "source": [
    "from sklearn.preprocessing import LabelEncoder, OneHotEncoder\n",
    "import numpy as np\n",
    "\n",
    "items = ['TV', '냉장고', '전자렌지', '컴퓨터', '선풍기', '선풍기', '믹서', '믹서']\n",
    "\n",
    "# 숫자값으로 변환하기 위해 LabelEncoder로 먼저 변환한다.\n",
    "encoder = LabelEncoder()\n",
    "encoder.fit(items)\n",
    "labels = encoder.transform(items)\n",
    "print(labels)\n",
    "\n",
    "# 2차원 데이터로 변환하기\n",
    "labels = labels.reshape(-1, 1)\n",
    "print(labels)\n",
    "\n",
    "# 원-핫 인코딩 적용\n",
    "oh_encoder = OneHotEncoder()\n",
    "oh_encoder.fit(labels)\n",
    "oh_labels=oh_encoder.transform(labels)\n",
    "print(oh_labels.toarray())"
   ]
  },
  {
   "cell_type": "code",
   "execution_count": null,
   "id": "485904ee",
   "metadata": {},
   "outputs": [],
   "source": [
    "# pandas에는 원핫 인코딩을 더 쉽게 지원하는 API가 있다. get_dummies()이다. 사이킷런과 다르게 문자열 카테고리를\n",
    "# 숫자형으로 변경할 필요없이 바로 적용가능하다."
   ]
  },
  {
   "cell_type": "code",
   "execution_count": 10,
   "id": "9bc4e2ac",
   "metadata": {},
   "outputs": [
    {
     "name": "stdout",
     "output_type": "stream",
     "text": [
      "   item\n",
      "0    TV\n",
      "1   냉장고\n",
      "2  전자렌지\n",
      "3   컴퓨터\n",
      "4   선풍기\n",
      "5   선풍기\n",
      "6    믹서\n",
      "7    믹서\n"
     ]
    },
    {
     "data": {
      "text/html": [
       "<div>\n",
       "<style scoped>\n",
       "    .dataframe tbody tr th:only-of-type {\n",
       "        vertical-align: middle;\n",
       "    }\n",
       "\n",
       "    .dataframe tbody tr th {\n",
       "        vertical-align: top;\n",
       "    }\n",
       "\n",
       "    .dataframe thead th {\n",
       "        text-align: right;\n",
       "    }\n",
       "</style>\n",
       "<table border=\"1\" class=\"dataframe\">\n",
       "  <thead>\n",
       "    <tr style=\"text-align: right;\">\n",
       "      <th></th>\n",
       "      <th>item_TV</th>\n",
       "      <th>item_냉장고</th>\n",
       "      <th>item_믹서</th>\n",
       "      <th>item_선풍기</th>\n",
       "      <th>item_전자렌지</th>\n",
       "      <th>item_컴퓨터</th>\n",
       "    </tr>\n",
       "  </thead>\n",
       "  <tbody>\n",
       "    <tr>\n",
       "      <th>0</th>\n",
       "      <td>1</td>\n",
       "      <td>0</td>\n",
       "      <td>0</td>\n",
       "      <td>0</td>\n",
       "      <td>0</td>\n",
       "      <td>0</td>\n",
       "    </tr>\n",
       "    <tr>\n",
       "      <th>1</th>\n",
       "      <td>0</td>\n",
       "      <td>1</td>\n",
       "      <td>0</td>\n",
       "      <td>0</td>\n",
       "      <td>0</td>\n",
       "      <td>0</td>\n",
       "    </tr>\n",
       "    <tr>\n",
       "      <th>2</th>\n",
       "      <td>0</td>\n",
       "      <td>0</td>\n",
       "      <td>0</td>\n",
       "      <td>0</td>\n",
       "      <td>1</td>\n",
       "      <td>0</td>\n",
       "    </tr>\n",
       "    <tr>\n",
       "      <th>3</th>\n",
       "      <td>0</td>\n",
       "      <td>0</td>\n",
       "      <td>0</td>\n",
       "      <td>0</td>\n",
       "      <td>0</td>\n",
       "      <td>1</td>\n",
       "    </tr>\n",
       "    <tr>\n",
       "      <th>4</th>\n",
       "      <td>0</td>\n",
       "      <td>0</td>\n",
       "      <td>0</td>\n",
       "      <td>1</td>\n",
       "      <td>0</td>\n",
       "      <td>0</td>\n",
       "    </tr>\n",
       "    <tr>\n",
       "      <th>5</th>\n",
       "      <td>0</td>\n",
       "      <td>0</td>\n",
       "      <td>0</td>\n",
       "      <td>1</td>\n",
       "      <td>0</td>\n",
       "      <td>0</td>\n",
       "    </tr>\n",
       "    <tr>\n",
       "      <th>6</th>\n",
       "      <td>0</td>\n",
       "      <td>0</td>\n",
       "      <td>1</td>\n",
       "      <td>0</td>\n",
       "      <td>0</td>\n",
       "      <td>0</td>\n",
       "    </tr>\n",
       "    <tr>\n",
       "      <th>7</th>\n",
       "      <td>0</td>\n",
       "      <td>0</td>\n",
       "      <td>1</td>\n",
       "      <td>0</td>\n",
       "      <td>0</td>\n",
       "      <td>0</td>\n",
       "    </tr>\n",
       "  </tbody>\n",
       "</table>\n",
       "</div>"
      ],
      "text/plain": [
       "   item_TV  item_냉장고  item_믹서  item_선풍기  item_전자렌지  item_컴퓨터\n",
       "0        1         0        0         0          0         0\n",
       "1        0         1        0         0          0         0\n",
       "2        0         0        0         0          1         0\n",
       "3        0         0        0         0          0         1\n",
       "4        0         0        0         1          0         0\n",
       "5        0         0        0         1          0         0\n",
       "6        0         0        1         0          0         0\n",
       "7        0         0        1         0          0         0"
      ]
     },
     "execution_count": 10,
     "metadata": {},
     "output_type": "execute_result"
    }
   ],
   "source": [
    "import pandas as pd\n",
    "\n",
    "items = pd.DataFrame(['TV','냉장고','전자렌지','컴퓨터','선풍기','선풍기','믹서','믹서'],\n",
    "                    columns=['item'])\n",
    "print(items)\n",
    "\n",
    "pd.get_dummies(items)"
   ]
  },
  {
   "cell_type": "code",
   "execution_count": null,
   "id": "2ed7c172",
   "metadata": {},
   "outputs": [],
   "source": [
    "#1.2 구간분할(Binning), 버킷화(Bucketization), 이산화(Discretization)\n",
    "# 선형 모델(linear model)은 선형 관계로만 모델링 하므로 특성(feature)이 하나일 때에는 직선으로 적합(fitting)된다. 이러한 선형모델을 더 좋게 강력하게 \n",
    "# 모델링하기 위해서는 수치형 데이터인 하나의 특성을 일정한 구간으로 분할하여 여러개의 특성으로 만들어 주는 방법이 있다. 이러한 방법을 구간분할(binning), \n",
    "# 버킷화(bucketization) 또는 이산화(Discretization) 이라고 한다. 즉 수치형 데이터를 구간분할을 통해 범주형 데이터로 바꾸어 주는 것이다."
   ]
  },
  {
   "cell_type": "code",
   "execution_count": 12,
   "id": "b1e30a32",
   "metadata": {},
   "outputs": [],
   "source": [
    "from sklearn.linear_model import LinearRegression\n",
    "from sklearn.preprocessing import OneHotEncoder\n",
    "\n",
    "# create sample dataset\n",
    "def make_wave(n_samples=100):\n",
    "    rnd = np.random.RandomState(42)\n",
    "    x = rnd.uniform(-3, 3, size=n_samples)\n",
    "    y_no_noise = (np.sin(4*x)+x)\n",
    "    y = (y_no_noise+rnd.normal(size=(len(x))))/2\n",
    "    \n",
    "    return x.reshape(-1,1), y\n",
    "\n",
    "X,y=make_wave(n_samples=100)\n",
    "line = np.linspace(-3,3, 1000, endpoint=False).reshape(-1,1)"
   ]
  },
  {
   "cell_type": "code",
   "execution_count": 14,
   "id": "554a0812",
   "metadata": {},
   "outputs": [],
   "source": [
    "###############################\n",
    "# 1. LinearRegression         #\n",
    "###############################\n",
    "reg = LinearRegression().fit(X, y)"
   ]
  },
  {
   "cell_type": "code",
   "execution_count": 13,
   "id": "5937de18",
   "metadata": {},
   "outputs": [
    {
     "name": "stdout",
     "output_type": "stream",
     "text": [
      "bins : [-3.  -2.4 -1.8 -1.2 -0.6  0.   0.6  1.2  1.8  2.4  3. ]\n",
      "\n",
      " Data points: \n",
      " [[-0.75275929]\n",
      " [ 2.70428584]\n",
      " [ 1.39196365]\n",
      " [ 0.59195091]\n",
      " [-2.06388816]]\n",
      "\n",
      " 데이터 포인트의 소속구간:\n",
      " [[ 4]\n",
      " [10]\n",
      " [ 8]\n",
      " [ 6]\n",
      " [ 2]]\n",
      "[[0. 0. 0. 1. 0. 0. 0. 0. 0. 0.]\n",
      " [0. 0. 0. 0. 0. 0. 0. 0. 0. 1.]\n",
      " [0. 0. 0. 0. 0. 0. 0. 1. 0. 0.]\n",
      " [0. 0. 0. 0. 0. 1. 0. 0. 0. 0.]\n",
      " [0. 1. 0. 0. 0. 0. 0. 0. 0. 0.]]\n"
     ]
    }
   ],
   "source": [
    "#####################################\n",
    "# 2. LinearRegression after binning #\n",
    "#####################################\n",
    "# binning\n",
    "# np.linspace(start, stop, num): start: 배열의 시작값, stop:배열의 끝값, num:strat와 stop 사이를 몇개의 일정한 간격으로 요소를 만들 것인지 나타냄\n",
    "# 예: x = np.linspace(0, 10, 11) --> x = [0. 1. 2. 3. 4. 5. 6. 7. 8. 9. 10.]\n",
    "# 0 에서 10 까지 11개의 요소를 만들라는 것\n",
    "bins = np.linspace(-3, 3, 11) \n",
    "print('bins : {}'.format(bins))\n",
    "# -3에서 3까지 11개의 요소를 등간격으로 만들라는 것.. bin을 만들었음..\n",
    "\n",
    "# 데이터가 어느 구간에 속하는지 labeling\n",
    "# 연속형 변수를 범주형으로 변환하는 np.digitize(X, bins)\n",
    "# 연속형 변수 X를 여러개 구간별 bins로 범주화\n",
    "# bins=[a b] 이면.. 크게 X < a 인 0, a <= X < b 인 내부 범주 1~n개, X>=b 인 n+1 범주로 변환\n",
    "which_bin = np.digitize(X, bins=bins)\n",
    "print('\\n Data points: \\n', X[:5])\n",
    "print('\\n 데이터 포인트의 소속구간:\\n', which_bin[:5])\n",
    "\n",
    "encoder = OneHotEncoder(sparse=False)\n",
    "encoder.fit(which_bin)\n",
    "# One-hotencoding으로 변환\n",
    "X_binned = encoder.transform(which_bin)\n",
    "print(X_binned[:5])"
   ]
  },
  {
   "cell_type": "code",
   "execution_count": 15,
   "id": "f693f91f",
   "metadata": {},
   "outputs": [],
   "source": [
    "line_binned=encoder.transform(np.digitize(line, bins=bins))\n",
    "\n",
    "reg_ohe=LinearRegression().fit(X_binned, y)"
   ]
  },
  {
   "cell_type": "code",
   "execution_count": 17,
   "id": "2064ff9f",
   "metadata": {},
   "outputs": [
    {
     "data": {
      "text/plain": [
       "<matplotlib.legend.Legend at 0x7f9a3318ffd0>"
      ]
     },
     "execution_count": 17,
     "metadata": {},
     "output_type": "execute_result"
    },
    {
     "data": {
      "image/png": "[encoded data removed]",
      "text/plain": [
       "<Figure size 432x288 with 1 Axes>"
      ]
     },
     "metadata": {
      "needs_background": "light"
     },
     "output_type": "display_data"
    }
   ],
   "source": [
    "import matplotlib.pyplot as plt\n",
    "\n",
    "plt.plot(line, reg.predict(line), label='linear regression')\n",
    "plt.plot(line, reg_ohe.predict(line_binned), label='linear regression binned')\n",
    "plt.plot(X[:, 0], y, 'o', c='k' )\n",
    "plt.vlines(bins, -3, 3, linewidth=1, alpha=.2)\n",
    "plt.ylabel('Regression output')\n",
    "plt.xlabel('Input feature')\n",
    "plt.legend(loc='best')"
   ]
  },
  {
   "cell_type": "code",
   "execution_count": null,
   "id": "f19cbc31",
   "metadata": {},
   "outputs": [],
   "source": [
    "# 특성 교차 feature cross\n",
    "# feature cross는 두개 이상의 features를 곱하여 새로운 feature를 만드는 방법\n",
    "# feature cross는 비선형 문제를 해결할 수 있는 방법중 하나로 사용가능\n",
    "# 선형으로 분리할 수 없었던 문제를 x_3 = x_1*x_2 feature cross를 추가함으로써, "
   ]
  },
  {
   "cell_type": "code",
   "execution_count": null,
   "id": "2aec2ac5",
   "metadata": {},
   "outputs": [],
   "source": [
    "# 범주형 데이터의 feature cross\n",
    "# feature cross는 범주형 데이터에도 사용가능하다. 예를들어 california housing price 데이터 셋에서\n",
    "# 위도(latitude)와 경도(longitude)를 각각 5개의 구간으로 분할(binning)한 뒤 feature cross를 적용한 것으로 격자(0,0) 부분을\n",
    "# 원핫인코딩으로 나타내면 다음과 같이 나타낼 수 있다.\n",
    "# [1, 0, 0, 0, 0, 0, 0, 0, 0, 0, 0, 0, 0, 0, 0, 0, 0, 0, 0, 0,0, 0, 0, 0, 0]  <- (5x5)격자의 (0,0) 타일을 원핫인코딩 표현\n",
    "# latitude와 longitude를 각각 5개 구간으로 분할(binning) 한 뒤 feature cross를 이용해서 좌상단 타일을 원핫인코딩으로 나타내면\n",
    "# 25차원 중에서 하나만 1이고, 나머지는 모두 0 인 Sparse representation이 된다. \n",
    "# 만약 범주형 데이터 차원이 커질 수록 feature cross의 원핫인코딩은 더욱 sparse 해진다. 이러한 문제를 해결하기 위해\n",
    "# 원핫인코딩이 아닌 저차원으로 매핑해주는 임베딩(embedding)을 이용한다."
   ]
  },
  {
   "cell_type": "code",
   "execution_count": null,
   "id": "06716263",
   "metadata": {},
   "outputs": [],
   "source": [
    "# 2. TensorFlow Feature Column\n",
    "# 텐서플로에서는 tf.feature_column을 이용해서 위에서 알아본 feature engineering을 적용한다.\n",
    "# tf.feature_column은 크게 CategoricalColumn과 DenseColumn으로 구성되어 있으며, 이 둘을 동시에 상속받는 bucketized_column이 있다."
   ]
  },
  {
   "cell_type": "code",
   "execution_count": null,
   "id": "b43c44cd",
   "metadata": {},
   "outputs": [],
   "source": [
    "# 2.1 categorical_column_with_vocabulary_list\n",
    "# tf.feature_colum.categorical_column_with_vocabulary_list()는  str로 구성된 리스트를 범주형 데이터로 나타낸다. \n",
    "# categorical_column_with_vocabulary_list()를 사용하기 위해서는 나중에 살펴볼 indicator_column을 이용해 Multi-hot-encoding으로 wrapping하거나,\n",
    "# embedding_column을 이용해서 저차원으로 임베딩을 wrapping 해주어야 한다.\n",
    "# 아래 예제는 str 타입의 ['Python', 'Java', 'C++'] 리스트를 categorical_column_with_vocabulary_list()를 사용하여 범주형 데이터로 나타낸 뒤,\n",
    "# indicator_column()을 이용해 멀티-핫-인코딩을 하는 코드이다."
   ]
  },
  {
   "cell_type": "code",
   "execution_count": 19,
   "id": "0e0a0c77",
   "metadata": {},
   "outputs": [
    {
     "name": "stdout",
     "output_type": "stream",
     "text": [
      "WARNING:tensorflow:From /mnt/d/linuxuserhome/sanmaro/.pyenv/versions/py3_7_tf115/lib/python3.7/site-packages/tensorflow_core/python/feature_column/feature_column.py:206: IndicatorColumn._get_dense_tensor (from tensorflow.python.feature_column.feature_column_v2) is deprecated and will be removed in a future version.\n",
      "Instructions for updating:\n",
      "The old _FeatureColumn APIs are being deprecated. Please use the new FeatureColumn APIs instead.\n",
      "WARNING:tensorflow:From /mnt/d/linuxuserhome/sanmaro/.pyenv/versions/py3_7_tf115/lib/python3.7/site-packages/tensorflow_core/python/feature_column/feature_column.py:2158: IndicatorColumn._transform_feature (from tensorflow.python.feature_column.feature_column_v2) is deprecated and will be removed in a future version.\n",
      "Instructions for updating:\n",
      "The old _FeatureColumn APIs are being deprecated. Please use the new FeatureColumn APIs instead.\n",
      "WARNING:tensorflow:From /mnt/d/linuxuserhome/sanmaro/.pyenv/versions/py3_7_tf115/lib/python3.7/site-packages/tensorflow_core/python/feature_column/feature_column_v2.py:4300: VocabularyListCategoricalColumn._get_sparse_tensors (from tensorflow.python.feature_column.feature_column_v2) is deprecated and will be removed in a future version.\n",
      "Instructions for updating:\n",
      "The old _FeatureColumn APIs are being deprecated. Please use the new FeatureColumn APIs instead.\n",
      "WARNING:tensorflow:From /mnt/d/linuxuserhome/sanmaro/.pyenv/versions/py3_7_tf115/lib/python3.7/site-packages/tensorflow_core/python/feature_column/feature_column.py:2158: VocabularyListCategoricalColumn._transform_feature (from tensorflow.python.feature_column.feature_column_v2) is deprecated and will be removed in a future version.\n",
      "Instructions for updating:\n",
      "The old _FeatureColumn APIs are being deprecated. Please use the new FeatureColumn APIs instead.\n",
      "WARNING:tensorflow:From /mnt/d/linuxuserhome/sanmaro/.pyenv/versions/py3_7_tf115/lib/python3.7/site-packages/tensorflow_core/python/feature_column/feature_column_v2.py:4271: IndicatorColumn._variable_shape (from tensorflow.python.feature_column.feature_column_v2) is deprecated and will be removed in a future version.\n",
      "Instructions for updating:\n",
      "The old _FeatureColumn APIs are being deprecated. Please use the new FeatureColumn APIs instead.\n",
      "WARNING:tensorflow:From /mnt/d/linuxuserhome/sanmaro/.pyenv/versions/py3_7_tf115/lib/python3.7/site-packages/tensorflow_core/python/feature_column/feature_column_v2.py:4326: VocabularyListCategoricalColumn._num_buckets (from tensorflow.python.feature_column.feature_column_v2) is deprecated and will be removed in a future version.\n",
      "Instructions for updating:\n",
      "The old _FeatureColumn APIs are being deprecated. Please use the new FeatureColumn APIs instead.\n"
     ]
    }
   ],
   "source": [
    "import tensorflow as tf\n",
    "\n",
    "# categorical variable\n",
    "programming = tf.feature_column.categorical_column_with_vocabulary_list(\n",
    "    key='programming',\n",
    "    vocabulary_list=['Python', 'Java', 'C++'])\n",
    "\n",
    "# multi-hot-encoding\n",
    "programming_mh = tf.feature_column.indicator_column(programming)\n",
    "\n",
    "feature_columns = [programming_mh]\n",
    "features = {\n",
    "    'programming':['Python', 'Java', 'C++'],\n",
    "}\n",
    "\n",
    "# input value\n",
    "input_layer = tf.feature_column.input_layer(\n",
    "    features = features,\n",
    "    feature_columns=feature_columns)"
   ]
  },
  {
   "cell_type": "code",
   "execution_count": 20,
   "id": "4f1a1e5f",
   "metadata": {},
   "outputs": [
    {
     "name": "stdout",
     "output_type": "stream",
     "text": [
      "[[1. 0. 0.]\n",
      " [0. 1. 0.]\n",
      " [0. 0. 1.]]\n"
     ]
    }
   ],
   "source": [
    "# 결과값 확인\n",
    "with tf.Session() as sess:\n",
    "    tf.global_variables_initializer().run()\n",
    "    tf.tables_initializer().run()\n",
    "    inputs = input_layer.eval()\n",
    "    \n",
    "print(inputs)"
   ]
  },
  {
   "cell_type": "code",
   "execution_count": null,
   "id": "e1e2538e",
   "metadata": {},
   "outputs": [],
   "source": [
    "# 2.2 indicator_column\n",
    "# tf.feature_column.indicator_column()은 범주형 데이터를 멀티 핫(multi-hot) 인코딩으로 나타낸다. 아래 예제는 위의 예제를 이어서  ['Python', 'Python', 'C++']을 멀티 핫 인코딩한다."
   ]
  },
  {
   "cell_type": "code",
   "execution_count": 21,
   "id": "1d502d16",
   "metadata": {},
   "outputs": [],
   "source": [
    "feature_columns=[programming_mh]\n",
    "features = {\n",
    "    'programming':[['Python', 'Python', 'C++']],\n",
    "}\n",
    "\n",
    "#input value\n",
    "input_layer = tf.feature_column.input_layer(\n",
    "    features=features,\n",
    "    feature_columns = feature_columns)"
   ]
  },
  {
   "cell_type": "code",
   "execution_count": 24,
   "id": "49caa84c",
   "metadata": {},
   "outputs": [],
   "source": [
    "# 결과값 확인\n",
    "with tf.Session() as sess :\n",
    "    tf.global_variables_initializer().run()\n",
    "    tf.tables_initializer().run()\n",
    "    inputs = input_layer.eval()"
   ]
  },
  {
   "cell_type": "code",
   "execution_count": 25,
   "id": "1f7f2e5a",
   "metadata": {},
   "outputs": [
    {
     "name": "stdout",
     "output_type": "stream",
     "text": [
      "[[2. 0. 1.]]\n"
     ]
    }
   ],
   "source": [
    "print(inputs) # [[2, 0, 1]] Python:2, Java:0, C++:1"
   ]
  },
  {
   "cell_type": "code",
   "execution_count": null,
   "id": "2c3e3ee6",
   "metadata": {},
   "outputs": [],
   "source": [
    "# 2.3 numeric_column\n",
    "# tf.feature_column.numeric_column()은 수치형 데이터를 나타낸다.\n",
    "# 이 예제에 나오는 데이터는 California Housing Price 데이터셋을 가지고 작성한 코드이다. "
   ]
  },
  {
   "cell_type": "code",
   "execution_count": 26,
   "id": "f1e81770",
   "metadata": {},
   "outputs": [
    {
     "data": {
      "text/html": [
       "<div>\n",
       "<style scoped>\n",
       "    .dataframe tbody tr th:only-of-type {\n",
       "        vertical-align: middle;\n",
       "    }\n",
       "\n",
       "    .dataframe tbody tr th {\n",
       "        vertical-align: top;\n",
       "    }\n",
       "\n",
       "    .dataframe thead th {\n",
       "        text-align: right;\n",
       "    }\n",
       "</style>\n",
       "<table border=\"1\" class=\"dataframe\">\n",
       "  <thead>\n",
       "    <tr style=\"text-align: right;\">\n",
       "      <th></th>\n",
       "      <th>longitude</th>\n",
       "      <th>latitude</th>\n",
       "      <th>housing_median_age</th>\n",
       "      <th>total_rooms</th>\n",
       "      <th>total_bedrooms</th>\n",
       "      <th>population</th>\n",
       "      <th>households</th>\n",
       "      <th>median_income</th>\n",
       "      <th>median_house_value</th>\n",
       "    </tr>\n",
       "  </thead>\n",
       "  <tbody>\n",
       "    <tr>\n",
       "      <th>0</th>\n",
       "      <td>-114.31</td>\n",
       "      <td>34.19</td>\n",
       "      <td>15.0</td>\n",
       "      <td>5612.0</td>\n",
       "      <td>1283.0</td>\n",
       "      <td>1015.0</td>\n",
       "      <td>472.0</td>\n",
       "      <td>1.4936</td>\n",
       "      <td>66900.0</td>\n",
       "    </tr>\n",
       "    <tr>\n",
       "      <th>1</th>\n",
       "      <td>-114.47</td>\n",
       "      <td>34.40</td>\n",
       "      <td>19.0</td>\n",
       "      <td>7650.0</td>\n",
       "      <td>1901.0</td>\n",
       "      <td>1129.0</td>\n",
       "      <td>463.0</td>\n",
       "      <td>1.8200</td>\n",
       "      <td>80100.0</td>\n",
       "    </tr>\n",
       "    <tr>\n",
       "      <th>2</th>\n",
       "      <td>-114.56</td>\n",
       "      <td>33.69</td>\n",
       "      <td>17.0</td>\n",
       "      <td>720.0</td>\n",
       "      <td>174.0</td>\n",
       "      <td>333.0</td>\n",
       "      <td>117.0</td>\n",
       "      <td>1.6509</td>\n",
       "      <td>85700.0</td>\n",
       "    </tr>\n",
       "    <tr>\n",
       "      <th>3</th>\n",
       "      <td>-114.57</td>\n",
       "      <td>33.64</td>\n",
       "      <td>14.0</td>\n",
       "      <td>1501.0</td>\n",
       "      <td>337.0</td>\n",
       "      <td>515.0</td>\n",
       "      <td>226.0</td>\n",
       "      <td>3.1917</td>\n",
       "      <td>73400.0</td>\n",
       "    </tr>\n",
       "    <tr>\n",
       "      <th>4</th>\n",
       "      <td>-114.57</td>\n",
       "      <td>33.57</td>\n",
       "      <td>20.0</td>\n",
       "      <td>1454.0</td>\n",
       "      <td>326.0</td>\n",
       "      <td>624.0</td>\n",
       "      <td>262.0</td>\n",
       "      <td>1.9250</td>\n",
       "      <td>65500.0</td>\n",
       "    </tr>\n",
       "  </tbody>\n",
       "</table>\n",
       "</div>"
      ],
      "text/plain": [
       "   longitude  latitude  housing_median_age  total_rooms  total_bedrooms  \\\n",
       "0    -114.31     34.19                15.0       5612.0          1283.0   \n",
       "1    -114.47     34.40                19.0       7650.0          1901.0   \n",
       "2    -114.56     33.69                17.0        720.0           174.0   \n",
       "3    -114.57     33.64                14.0       1501.0           337.0   \n",
       "4    -114.57     33.57                20.0       1454.0           326.0   \n",
       "\n",
       "   population  households  median_income  median_house_value  \n",
       "0      1015.0       472.0         1.4936             66900.0  \n",
       "1      1129.0       463.0         1.8200             80100.0  \n",
       "2       333.0       117.0         1.6509             85700.0  \n",
       "3       515.0       226.0         3.1917             73400.0  \n",
       "4       624.0       262.0         1.9250             65500.0  "
      ]
     },
     "execution_count": 26,
     "metadata": {},
     "output_type": "execute_result"
    }
   ],
   "source": [
    "# 데이터셋 확인\n",
    "\n",
    "#cf_housing_df=pd.read_csv('https://storage.googleapis.com/mledu-datasets/california_housing_train.csv')\n",
    "\n",
    "cf_housing_df = pd.read_csv('./data/california_housing_train.csv')\n",
    "cf_housing_df.head()"
   ]
  },
  {
   "cell_type": "code",
   "execution_count": 27,
   "id": "5e1a3a57",
   "metadata": {},
   "outputs": [
    {
     "data": {
      "text/html": [
       "<div>\n",
       "<style scoped>\n",
       "    .dataframe tbody tr th:only-of-type {\n",
       "        vertical-align: middle;\n",
       "    }\n",
       "\n",
       "    .dataframe tbody tr th {\n",
       "        vertical-align: top;\n",
       "    }\n",
       "\n",
       "    .dataframe thead th {\n",
       "        text-align: right;\n",
       "    }\n",
       "</style>\n",
       "<table border=\"1\" class=\"dataframe\">\n",
       "  <thead>\n",
       "    <tr style=\"text-align: right;\">\n",
       "      <th></th>\n",
       "      <th>longitude</th>\n",
       "      <th>latitude</th>\n",
       "      <th>housing_median_age</th>\n",
       "      <th>total_rooms</th>\n",
       "      <th>total_bedrooms</th>\n",
       "      <th>population</th>\n",
       "      <th>households</th>\n",
       "      <th>median_income</th>\n",
       "      <th>median_house_value</th>\n",
       "    </tr>\n",
       "  </thead>\n",
       "  <tbody>\n",
       "    <tr>\n",
       "      <th>0</th>\n",
       "      <td>-114.31</td>\n",
       "      <td>34.19</td>\n",
       "      <td>15.0</td>\n",
       "      <td>5612.0</td>\n",
       "      <td>1283.0</td>\n",
       "      <td>1015.0</td>\n",
       "      <td>472.0</td>\n",
       "      <td>1.4936</td>\n",
       "      <td>66.9</td>\n",
       "    </tr>\n",
       "    <tr>\n",
       "      <th>1</th>\n",
       "      <td>-114.47</td>\n",
       "      <td>34.40</td>\n",
       "      <td>19.0</td>\n",
       "      <td>7650.0</td>\n",
       "      <td>1901.0</td>\n",
       "      <td>1129.0</td>\n",
       "      <td>463.0</td>\n",
       "      <td>1.8200</td>\n",
       "      <td>80.1</td>\n",
       "    </tr>\n",
       "    <tr>\n",
       "      <th>2</th>\n",
       "      <td>-114.56</td>\n",
       "      <td>33.69</td>\n",
       "      <td>17.0</td>\n",
       "      <td>720.0</td>\n",
       "      <td>174.0</td>\n",
       "      <td>333.0</td>\n",
       "      <td>117.0</td>\n",
       "      <td>1.6509</td>\n",
       "      <td>85.7</td>\n",
       "    </tr>\n",
       "    <tr>\n",
       "      <th>3</th>\n",
       "      <td>-114.57</td>\n",
       "      <td>33.64</td>\n",
       "      <td>14.0</td>\n",
       "      <td>1501.0</td>\n",
       "      <td>337.0</td>\n",
       "      <td>515.0</td>\n",
       "      <td>226.0</td>\n",
       "      <td>3.1917</td>\n",
       "      <td>73.4</td>\n",
       "    </tr>\n",
       "    <tr>\n",
       "      <th>4</th>\n",
       "      <td>-114.57</td>\n",
       "      <td>33.57</td>\n",
       "      <td>20.0</td>\n",
       "      <td>1454.0</td>\n",
       "      <td>326.0</td>\n",
       "      <td>624.0</td>\n",
       "      <td>262.0</td>\n",
       "      <td>1.9250</td>\n",
       "      <td>65.5</td>\n",
       "    </tr>\n",
       "  </tbody>\n",
       "</table>\n",
       "</div>"
      ],
      "text/plain": [
       "   longitude  latitude  housing_median_age  total_rooms  total_bedrooms  \\\n",
       "0    -114.31     34.19                15.0       5612.0          1283.0   \n",
       "1    -114.47     34.40                19.0       7650.0          1901.0   \n",
       "2    -114.56     33.69                17.0        720.0           174.0   \n",
       "3    -114.57     33.64                14.0       1501.0           337.0   \n",
       "4    -114.57     33.57                20.0       1454.0           326.0   \n",
       "\n",
       "   population  households  median_income  median_house_value  \n",
       "0      1015.0       472.0         1.4936                66.9  \n",
       "1      1129.0       463.0         1.8200                80.1  \n",
       "2       333.0       117.0         1.6509                85.7  \n",
       "3       515.0       226.0         3.1917                73.4  \n",
       "4       624.0       262.0         1.9250                65.5  "
      ]
     },
     "execution_count": 27,
     "metadata": {},
     "output_type": "execute_result"
    }
   ],
   "source": [
    "cf_housing_df['median_house_value']=cf_housing_df['median_house_value']/1000.0\n",
    "cf_housing_df.head()"
   ]
  },
  {
   "cell_type": "code",
   "execution_count": 29,
   "id": "ac3e101a",
   "metadata": {},
   "outputs": [],
   "source": [
    "# 아래 코드는 latitude와 longitude를 numeric_column()을 이용해 수치형 데이터로 나타낸 것이다.\n",
    "longitude = tf.feature_column.numeric_column('longitude')\n",
    "latitude =tf.feature_column.numeric_column('latitude')"
   ]
  },
  {
   "cell_type": "code",
   "execution_count": 30,
   "id": "6256bc6e",
   "metadata": {},
   "outputs": [
    {
     "name": "stdout",
     "output_type": "stream",
     "text": [
      "WARNING:tensorflow:From /mnt/d/linuxuserhome/sanmaro/.pyenv/versions/py3_7_tf115/lib/python3.7/site-packages/tensorflow_core/python/feature_column/feature_column.py:206: NumericColumn._get_dense_tensor (from tensorflow.python.feature_column.feature_column_v2) is deprecated and will be removed in a future version.\n",
      "Instructions for updating:\n",
      "The old _FeatureColumn APIs are being deprecated. Please use the new FeatureColumn APIs instead.\n",
      "WARNING:tensorflow:From /mnt/d/linuxuserhome/sanmaro/.pyenv/versions/py3_7_tf115/lib/python3.7/site-packages/tensorflow_core/python/feature_column/feature_column.py:2158: NumericColumn._transform_feature (from tensorflow.python.feature_column.feature_column_v2) is deprecated and will be removed in a future version.\n",
      "Instructions for updating:\n",
      "The old _FeatureColumn APIs are being deprecated. Please use the new FeatureColumn APIs instead.\n",
      "WARNING:tensorflow:From /mnt/d/linuxuserhome/sanmaro/.pyenv/versions/py3_7_tf115/lib/python3.7/site-packages/tensorflow_core/python/feature_column/feature_column.py:207: NumericColumn._variable_shape (from tensorflow.python.feature_column.feature_column_v2) is deprecated and will be removed in a future version.\n",
      "Instructions for updating:\n",
      "The old _FeatureColumn APIs are being deprecated. Please use the new FeatureColumn APIs instead.\n"
     ]
    }
   ],
   "source": [
    "feature_columns = [longitude, latitude]\n",
    "features = {\n",
    "    'longitude':[-114.31],\n",
    "    'latitude':[34.19]\n",
    "}\n",
    "\n",
    "input_layer = tf.feature_column.input_layer(\n",
    "    features=features,\n",
    "    feature_columns=feature_columns)"
   ]
  },
  {
   "cell_type": "code",
   "execution_count": 31,
   "id": "fd4df53c",
   "metadata": {},
   "outputs": [],
   "source": [
    "with tf.Session() as sess:\n",
    "    inputs = input_layer.eval()"
   ]
  },
  {
   "cell_type": "code",
   "execution_count": 32,
   "id": "139c6b4e",
   "metadata": {},
   "outputs": [
    {
     "name": "stdout",
     "output_type": "stream",
     "text": [
      "[[  34.19 -114.31]]\n"
     ]
    }
   ],
   "source": [
    "print(inputs)"
   ]
  },
  {
   "cell_type": "code",
   "execution_count": null,
   "id": "983c5c6e",
   "metadata": {},
   "outputs": [],
   "source": [
    "# 2.4 bucketized_column\n",
    "# tf.feature_column.bucketized_column()은 수치형 데이터를 구간분할(binning), 즉 버킷화(bucketization)하여 나타낸다. boundaries 인자에 구간을 설정해주면,\n",
    "# 해당 구간에 맞춰 원-핫 인코딩을 해준다. 에를 들어, boundaries=[0., 1., 2.]와 같이 설정하면 (-inf, 0.), [0., 1.), [1., 2.) 그리고 [2, +inf)로 버킷화 한다.\n",
    "# 아래 예제는 위에서 .numeric_column()을 이용해 수치형 데이터로 나타낸 다음 bucketized_column()을 이용해 버킷화 해준다."
   ]
  },
  {
   "cell_type": "code",
   "execution_count": 33,
   "id": "9d4bf3a7",
   "metadata": {},
   "outputs": [
    {
     "name": "stdout",
     "output_type": "stream",
     "text": [
      "WARNING:tensorflow:From /mnt/d/linuxuserhome/sanmaro/.pyenv/versions/py3_7_tf115/lib/python3.7/site-packages/tensorflow_core/python/feature_column/feature_column.py:206: BucketizedColumn._get_dense_tensor (from tensorflow.python.feature_column.feature_column_v2) is deprecated and will be removed in a future version.\n",
      "Instructions for updating:\n",
      "The old _FeatureColumn APIs are being deprecated. Please use the new FeatureColumn APIs instead.\n",
      "WARNING:tensorflow:From /mnt/d/linuxuserhome/sanmaro/.pyenv/versions/py3_7_tf115/lib/python3.7/site-packages/tensorflow_core/python/feature_column/feature_column.py:2158: BucketizedColumn._transform_feature (from tensorflow.python.feature_column.feature_column_v2) is deprecated and will be removed in a future version.\n",
      "Instructions for updating:\n",
      "The old _FeatureColumn APIs are being deprecated. Please use the new FeatureColumn APIs instead.\n",
      "WARNING:tensorflow:From /mnt/d/linuxuserhome/sanmaro/.pyenv/versions/py3_7_tf115/lib/python3.7/site-packages/tensorflow_core/python/feature_column/feature_column.py:207: BucketizedColumn._variable_shape (from tensorflow.python.feature_column.feature_column_v2) is deprecated and will be removed in a future version.\n",
      "Instructions for updating:\n",
      "The old _FeatureColumn APIs are being deprecated. Please use the new FeatureColumn APIs instead.\n"
     ]
    }
   ],
   "source": [
    "import numpy as np\n",
    "\n",
    "# boundary 설정 함수 (min, max)\n",
    "def get_minmax_based_boundaries(feature_values, num_buckets):\n",
    "    min_feature_values = feature_values.min()\n",
    "    max_feature_values = feature_values.max()\n",
    "    boundaries = np.linspace(min_feature_values, max_feature_values, num_buckets-1)\n",
    "    \n",
    "    return boundaries.tolist()\n",
    "\n",
    "# 위도\n",
    "latitude = tf.feature_column.numeric_column('latitude')\n",
    "\n",
    "# Divide latitude into 5 buckets\n",
    "bucketized_latitude =  tf.feature_column.bucketized_column(\n",
    "    latitude,boundaries = get_minmax_based_boundaries(cf_housing_df['latitude'], 5))\n",
    "\n",
    "feature_columns=[bucketized_latitude]\n",
    "input_layer = tf.feature_column.input_layer(\n",
    "    features={'latitude':[33]},\n",
    "    feature_columns = feature_columns)"
   ]
  },
  {
   "cell_type": "code",
   "execution_count": 34,
   "id": "c5fea55f",
   "metadata": {},
   "outputs": [],
   "source": [
    "with tf.Session() as sess:\n",
    "    inputs = input_layer.eval()"
   ]
  },
  {
   "cell_type": "code",
   "execution_count": 35,
   "id": "a14f3817",
   "metadata": {},
   "outputs": [
    {
     "name": "stdout",
     "output_type": "stream",
     "text": [
      "[[0. 1. 0. 0. 0.]]\n"
     ]
    }
   ],
   "source": [
    "print(inputs)"
   ]
  },
  {
   "cell_type": "code",
   "execution_count": 36,
   "id": "311c8518",
   "metadata": {},
   "outputs": [
    {
     "name": "stdout",
     "output_type": "stream",
     "text": [
      "(32.54, 35.67666666666667, 38.81333333333333, 41.95)\n"
     ]
    }
   ],
   "source": [
    "print(bucketized_latitude.boundaries)"
   ]
  },
  {
   "cell_type": "code",
   "execution_count": 39,
   "id": "5c58fb2e",
   "metadata": {},
   "outputs": [],
   "source": [
    "# 경도\n",
    "longitude =  tf.feature_column.numeric_column('longitude')\n",
    "\n",
    "# Divide longitude into 5 buckets\n",
    "bucketized_longitude = tf.feature_column.bucketized_column(\n",
    "    longitude, boundaries=get_minmax_based_boundaries(\n",
    "        cf_housing_df['longitude'], 5))\n",
    "\n",
    "feature_columns = [bucketized_longitude]\n",
    "input_layer = tf.feature_column.input_layer(\n",
    "    features={'longitude':[-123.3]},\n",
    "    feature_columns =feature_columns)"
   ]
  },
  {
   "cell_type": "code",
   "execution_count": 40,
   "id": "4da5dc10",
   "metadata": {},
   "outputs": [],
   "source": [
    "with tf.Session() as sess:\n",
    "    inputs = input_layer.eval()"
   ]
  },
  {
   "cell_type": "code",
   "execution_count": 41,
   "id": "e6d14103",
   "metadata": {},
   "outputs": [
    {
     "name": "stdout",
     "output_type": "stream",
     "text": [
      "[[0. 1. 0. 0. 0.]]\n"
     ]
    }
   ],
   "source": [
    "print(inputs)"
   ]
  },
  {
   "cell_type": "code",
   "execution_count": 42,
   "id": "9c523451",
   "metadata": {},
   "outputs": [
    {
     "name": "stdout",
     "output_type": "stream",
     "text": [
      "(-124.35, -121.00333333333333, -117.65666666666667, -114.31)\n"
     ]
    }
   ],
   "source": [
    "print(bucketized_longitude.boundaries)"
   ]
  },
  {
   "cell_type": "code",
   "execution_count": null,
   "id": "acc1157b",
   "metadata": {},
   "outputs": [],
   "source": [
    "# 2.5 crossed_column\n",
    "# tf.feature_column.crossed_column()은 범주형 feature들에 대해 feature cross를 제공해 준다. 아래 예제는 위에서 살펴보았듯이 latitude와 longitude를 각각 5 개\n",
    "# 구간으로 분할binning 한 뒤 feature cross를 적용한다."
   ]
  },
  {
   "cell_type": "code",
   "execution_count": 43,
   "id": "a41f375c",
   "metadata": {},
   "outputs": [
    {
     "name": "stdout",
     "output_type": "stream",
     "text": [
      "WARNING:tensorflow:From /mnt/d/linuxuserhome/sanmaro/.pyenv/versions/py3_7_tf115/lib/python3.7/site-packages/tensorflow_core/python/feature_column/feature_column_v2.py:4300: CrossedColumn._get_sparse_tensors (from tensorflow.python.feature_column.feature_column_v2) is deprecated and will be removed in a future version.\n",
      "Instructions for updating:\n",
      "The old _FeatureColumn APIs are being deprecated. Please use the new FeatureColumn APIs instead.\n",
      "WARNING:tensorflow:From /mnt/d/linuxuserhome/sanmaro/.pyenv/versions/py3_7_tf115/lib/python3.7/site-packages/tensorflow_core/python/feature_column/feature_column.py:2158: CrossedColumn._transform_feature (from tensorflow.python.feature_column.feature_column_v2) is deprecated and will be removed in a future version.\n",
      "Instructions for updating:\n",
      "The old _FeatureColumn APIs are being deprecated. Please use the new FeatureColumn APIs instead.\n",
      "WARNING:tensorflow:From /mnt/d/linuxuserhome/sanmaro/.pyenv/versions/py3_7_tf115/lib/python3.7/site-packages/tensorflow_core/python/feature_column/feature_column_v2.py:4118: BucketizedColumn._get_sparse_tensors (from tensorflow.python.feature_column.feature_column_v2) is deprecated and will be removed in a future version.\n",
      "Instructions for updating:\n",
      "The old _FeatureColumn APIs are being deprecated. Please use the new FeatureColumn APIs instead.\n",
      "WARNING:tensorflow:From /mnt/d/linuxuserhome/sanmaro/.pyenv/versions/py3_7_tf115/lib/python3.7/site-packages/tensorflow_core/python/feature_column/feature_column_v2.py:4326: CrossedColumn._num_buckets (from tensorflow.python.feature_column.feature_column_v2) is deprecated and will be removed in a future version.\n",
      "Instructions for updating:\n",
      "The old _FeatureColumn APIs are being deprecated. Please use the new FeatureColumn APIs instead.\n"
     ]
    }
   ],
   "source": [
    "# feature cross\n",
    "long_x_lat=tf.feature_column.crossed_column(\n",
    "    [bucketized_longitude, bucketized_latitude], 5*5)\n",
    "\n",
    "# crossed feature -> one-hot(indicator column)\n",
    "long_x_lat_ohe = tf.feature_column.indicator_column(long_x_lat)\n",
    "\n",
    "feature_columns=[long_x_lat_ohe]\n",
    "\n",
    "input_layer = tf.feature_column.input_layer(\n",
    "    features = { 'longitude':[-123], 'latitude':[41]},\n",
    "    feature_columns = feature_columns)"
   ]
  },
  {
   "cell_type": "code",
   "execution_count": 44,
   "id": "4ec84ab2",
   "metadata": {},
   "outputs": [],
   "source": [
    "with tf.Session() as sess:\n",
    "    inputs = input_layer.eval()"
   ]
  },
  {
   "cell_type": "code",
   "execution_count": 46,
   "id": "b031ed64",
   "metadata": {},
   "outputs": [
    {
     "name": "stdout",
     "output_type": "stream",
     "text": [
      "[[0. 1. 0. 0. 0. 0. 0. 0. 0. 0. 0. 0. 0. 0. 0. 0. 0. 0. 0. 0. 0. 0. 0. 0.\n",
      "  0.]]\n"
     ]
    }
   ],
   "source": [
    "print(inputs)"
   ]
  },
  {
   "cell_type": "code",
   "execution_count": null,
   "id": "96b5547e",
   "metadata": {},
   "outputs": [],
   "source": [
    "# crossed_column()은 hash_bucket_size를 인자로 받는다 .이 hash_bucket_size에 따라 feature cross는 해시화(예:featur_cross%hash_bucket_size) 되어 원핫인코딩된다.\n",
    "# 하지만 hash_bucket_size가 feature_cross 보다 작을 경우(위 예제에서는 25), 해시 충돌이 일어날 가능성이 높다."
   ]
  }
 ],
 "metadata": {
  "kernelspec": {
   "display_name": "py3_7_tf115",
   "language": "python",
   "name": "py3_7_tf115"
  },
  "language_info": {
   "codemirror_mode": {
    "name": "ipython",
    "version": 3
   },
   "file_extension": ".py",
   "mimetype": "text/x-python",
   "name": "python",
   "nbconvert_exporter": "python",
   "pygments_lexer": "ipython3",
   "version": "3.7.10"
  }
 },
 "nbformat": 4,
 "nbformat_minor": 5
}
