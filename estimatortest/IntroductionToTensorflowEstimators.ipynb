{
 "cells": [
  {
   "cell_type": "code",
   "execution_count": null,
   "id": "287d600c",
   "metadata": {},
   "outputs": [],
   "source": [
    "# Tensors and Computational Graphs\n",
    "# Tensor are like numpy arrays, we can conceptually think of them as the n-dimensional abstraction of matrices. A zero-dimensional tensor is a scalar or a constant.\n",
    "# A 1-dimensional tensor is a list or vector. A 2-D tensor is same as a n x m matrix where n = rows and m= columns. Above that we can just say n-dimensional tensors."
   ]
  },
  {
   "cell_type": "code",
   "execution_count": null,
   "id": "1ab810ad",
   "metadata": {},
   "outputs": [],
   "source": [
    "a = 3 # treated as 0 dimensional tensor or scalars\n",
    "b = [3, 5]  # treated as 1D tensor or vector\n",
    "c = [[3, 5], [1,1]]  # treated as 2D tensor or a matrix"
   ]
  },
  {
   "cell_type": "code",
   "execution_count": null,
   "id": "813abffa",
   "metadata": {},
   "outputs": [],
   "source": [
    "# these tensors are passed to operations that perform computations on them. An operation is commonly known as op. \n",
    "# Operations take zero or more tensors as inputs, performs computation with them and outputs zero or more tensors."
   ]
  },
  {
   "cell_type": "code",
   "execution_count": null,
   "id": "04b6d347",
   "metadata": {},
   "outputs": [],
   "source": [
    "# The tensors and the operations are connected to each other in a computational graph. A computational graph is defined by considering the operations as nodes and the tensors as edges.\n",
    "# The operations are mathematicsl operations that are done on  data and the data is passed to the operations with the tensors."
   ]
  },
  {
   "cell_type": "code",
   "execution_count": null,
   "id": "b4f0dcd0",
   "metadata": {},
   "outputs": [],
   "source": [
    "# Constants and Running a Session"
   ]
  },
  {
   "cell_type": "code",
   "execution_count": 1,
   "id": "a6ff1329",
   "metadata": {},
   "outputs": [
    {
     "name": "stdout",
     "output_type": "stream",
     "text": [
      "1.15.0\n"
     ]
    }
   ],
   "source": [
    "import tensorflow as tf\n",
    "print(tf.__version__)"
   ]
  },
  {
   "cell_type": "code",
   "execution_count": null,
   "id": "cbefa0fc",
   "metadata": {},
   "outputs": [],
   "source": [
    "# We will define two constant tensors a and b with tf.constant with constants 5 and 3 and add them up with tf.add ..."
   ]
  },
  {
   "cell_type": "code",
   "execution_count": 2,
   "id": "2313ffa4",
   "metadata": {},
   "outputs": [
    {
     "data": {
      "text/plain": [
       "<tf.Tensor 'add_a_b:0' shape=() dtype=int32>"
      ]
     },
     "execution_count": 2,
     "metadata": {},
     "output_type": "execute_result"
    }
   ],
   "source": [
    "a = tf.constant(5, name='a')\n",
    "b = tf.constant(3, name='b')\n",
    "result = tf.add(a, b, name='add_a_b')\n",
    "result"
   ]
  },
  {
   "cell_type": "code",
   "execution_count": null,
   "id": "25db7edf",
   "metadata": {},
   "outputs": [],
   "source": [
    "# unfortunately enough, our above code has not produced the expected output.\n",
    "# We can think of tensorflow core programs as having two distinct sections, first we have to define computational graph that specifies the computations we want to do, \n",
    "# then we have to run the code to get our actual results.\n",
    "# In above code, we have defined our computational graph, but we have not run the graph yet."
   ]
  },
  {
   "cell_type": "code",
   "execution_count": null,
   "id": "533e644f",
   "metadata": {},
   "outputs": [],
   "source": [
    "# To evaluate result and get the output we have to run the code under a 'Session'.\n",
    "# A session takes a computational graph or part of a graph and execute it.\n",
    "# it also holds the intermediate values and the results of performing the computation\n",
    "# We can create an instance of a session object from tf.Session class."
   ]
  },
  {
   "cell_type": "code",
   "execution_count": 3,
   "id": "7e36b896",
   "metadata": {},
   "outputs": [
    {
     "data": {
      "text/plain": [
       "8"
      ]
     },
     "execution_count": 3,
     "metadata": {},
     "output_type": "execute_result"
    }
   ],
   "source": [
    "sess = tf.Session()\n",
    "sess.run(result)"
   ]
  },
  {
   "cell_type": "code",
   "execution_count": null,
   "id": "0a4af598",
   "metadata": {},
   "outputs": [],
   "source": [
    "# Variables and Placeholders\n",
    "# since in machine learning we want to update the parameters of the models when training simply using constants whose value don't change is not enough, we need some mechanism to add trainable parameters to the computational graph.\n",
    "# we accomplish it using variables. Variables require us to specify an initial value and the data type. We create variables with the tf.Variable op.\n",
    "\n",
    "# A graph can also be fed external inputs using placeholders so that we can feed arbitrary number of inputs from the training sets to the model.\n",
    "# Placehodlers act like tensor object that do not have their values specified and are created using the op tf.placeholder.\n",
    "\n",
    "# Placeholder values must be fed when we run them. We can use sess.run method's feed_dict argument to feed the values to the placeholders.\n",
    "# We have to specify the shape and datatype of the placeholder when we add them to the graph.\n",
    "# A shape of None indicates that the placeholder can get any arbitrary input.\n",
    "# feed_dict is just a dictionary that maps graph elements like variables, constants, or placholders to values.\n",
    "# We use it to overwrite the existing values of tensors. "
   ]
  },
  {
   "cell_type": "code",
   "execution_count": 4,
   "id": "a76be66c",
   "metadata": {},
   "outputs": [],
   "source": [
    "c = tf.Variable(3, dtype=tf.float32)\n",
    "d = tf.placeholder(dtype=tf.float32, shape=None)"
   ]
  },
  {
   "cell_type": "code",
   "execution_count": 5,
   "id": "154af987",
   "metadata": {},
   "outputs": [
    {
     "data": {
      "text/plain": [
       "<tf.Variable 'Variable:0' shape=() dtype=float32_ref>"
      ]
     },
     "execution_count": 5,
     "metadata": {},
     "output_type": "execute_result"
    }
   ],
   "source": [
    "c  # 단순 tf.Variable 선언만으로는 c 값이 초기화 안되어 있다. "
   ]
  },
  {
   "cell_type": "code",
   "execution_count": 6,
   "id": "25873c5c",
   "metadata": {},
   "outputs": [
    {
     "data": {
      "text/plain": [
       "<tf.Tensor 'Placeholder:0' shape=<unknown> dtype=float32>"
      ]
     },
     "execution_count": 6,
     "metadata": {},
     "output_type": "execute_result"
    }
   ],
   "source": [
    "d"
   ]
  },
  {
   "cell_type": "code",
   "execution_count": null,
   "id": "06f28cac",
   "metadata": {},
   "outputs": [],
   "source": [
    "# Unlike constants, variables are not initialized when we call tf.Variable. We'll have to run a special operation called tf.global_variables_initializer to initialize teh vairables by a session\n"
   ]
  },
  {
   "cell_type": "code",
   "execution_count": 7,
   "id": "2d5d0586",
   "metadata": {},
   "outputs": [
    {
     "name": "stdout",
     "output_type": "stream",
     "text": [
      "3.0\n"
     ]
    }
   ],
   "source": [
    "sess.run(tf.global_variables_initializer())\n",
    "print(sess.run(c))"
   ]
  },
  {
   "cell_type": "code",
   "execution_count": 9,
   "id": "0644deda",
   "metadata": {},
   "outputs": [
    {
     "data": {
      "text/plain": [
       "<tf.Variable 'Variable:0' shape=() dtype=float32_ref>"
      ]
     },
     "execution_count": 9,
     "metadata": {},
     "output_type": "execute_result"
    }
   ],
   "source": [
    "c"
   ]
  },
  {
   "cell_type": "code",
   "execution_count": 11,
   "id": "09a1a3af",
   "metadata": {},
   "outputs": [
    {
     "name": "stdout",
     "output_type": "stream",
     "text": [
      "3.0\n"
     ]
    }
   ],
   "source": [
    "print(sess.run(c))"
   ]
  },
  {
   "cell_type": "code",
   "execution_count": 12,
   "id": "9afe4935",
   "metadata": {},
   "outputs": [
    {
     "data": {
      "text/plain": [
       "<tf.Tensor 'Placeholder:0' shape=<unknown> dtype=float32>"
      ]
     },
     "execution_count": 12,
     "metadata": {},
     "output_type": "execute_result"
    }
   ],
   "source": [
    "d"
   ]
  },
  {
   "cell_type": "code",
   "execution_count": 13,
   "id": "9f3a3036",
   "metadata": {},
   "outputs": [
    {
     "ename": "InvalidArgumentError",
     "evalue": "You must feed a value for placeholder tensor 'Placeholder' with dtype float\n\t [[node Placeholder (defined at /mnt/d/linuxuserhome/sanmaro/.pyenv/versions/py3_7_tf115/lib/python3.7/site-packages/tensorflow_core/python/framework/ops.py:1748) ]]\n\nOriginal stack trace for 'Placeholder':\n  File \"/mnt/d/linuxuserhome/sanmaro/.pyenv/versions/3.7.10/lib/python3.7/runpy.py\", line 193, in _run_module_as_main\n    \"__main__\", mod_spec)\n  File \"/mnt/d/linuxuserhome/sanmaro/.pyenv/versions/3.7.10/lib/python3.7/runpy.py\", line 85, in _run_code\n    exec(code, run_globals)\n  File \"/mnt/d/linuxuserhome/sanmaro/.pyenv/versions/py3_7_tf115/lib/python3.7/site-packages/ipykernel/__main__.py\", line 3, in <module>\n    app.launch_new_instance()\n  File \"/mnt/d/linuxuserhome/sanmaro/.pyenv/versions/py3_7_tf115/lib/python3.7/site-packages/traitlets/config/application.py\", line 845, in launch_instance\n    app.start()\n  File \"/mnt/d/linuxuserhome/sanmaro/.pyenv/versions/py3_7_tf115/lib/python3.7/site-packages/ipykernel/kernelapp.py\", line 619, in start\n    self.io_loop.start()\n  File \"/mnt/d/linuxuserhome/sanmaro/.pyenv/versions/py3_7_tf115/lib/python3.7/site-packages/tornado/platform/asyncio.py\", line 199, in start\n    self.asyncio_loop.run_forever()\n  File \"/mnt/d/linuxuserhome/sanmaro/.pyenv/versions/3.7.10/lib/python3.7/asyncio/base_events.py\", line 541, in run_forever\n    self._run_once()\n  File \"/mnt/d/linuxuserhome/sanmaro/.pyenv/versions/3.7.10/lib/python3.7/asyncio/base_events.py\", line 1786, in _run_once\n    handle._run()\n  File \"/mnt/d/linuxuserhome/sanmaro/.pyenv/versions/3.7.10/lib/python3.7/asyncio/events.py\", line 88, in _run\n    self._context.run(self._callback, *self._args)\n  File \"/mnt/d/linuxuserhome/sanmaro/.pyenv/versions/py3_7_tf115/lib/python3.7/site-packages/tornado/ioloop.py\", line 688, in <lambda>\n    lambda f: self._run_callback(functools.partial(callback, future))\n  File \"/mnt/d/linuxuserhome/sanmaro/.pyenv/versions/py3_7_tf115/lib/python3.7/site-packages/tornado/ioloop.py\", line 741, in _run_callback\n    ret = callback()\n  File \"/mnt/d/linuxuserhome/sanmaro/.pyenv/versions/py3_7_tf115/lib/python3.7/site-packages/tornado/gen.py\", line 814, in inner\n    self.ctx_run(self.run)\n  File \"/mnt/d/linuxuserhome/sanmaro/.pyenv/versions/py3_7_tf115/lib/python3.7/site-packages/tornado/gen.py\", line 775, in run\n    yielded = self.gen.send(value)\n  File \"/mnt/d/linuxuserhome/sanmaro/.pyenv/versions/py3_7_tf115/lib/python3.7/site-packages/ipykernel/kernelbase.py\", line 358, in process_one\n    yield gen.maybe_future(dispatch(*args))\n  File \"/mnt/d/linuxuserhome/sanmaro/.pyenv/versions/py3_7_tf115/lib/python3.7/site-packages/tornado/gen.py\", line 234, in wrapper\n    yielded = ctx_run(next, result)\n  File \"/mnt/d/linuxuserhome/sanmaro/.pyenv/versions/py3_7_tf115/lib/python3.7/site-packages/ipykernel/kernelbase.py\", line 261, in dispatch_shell\n    yield gen.maybe_future(handler(stream, idents, msg))\n  File \"/mnt/d/linuxuserhome/sanmaro/.pyenv/versions/py3_7_tf115/lib/python3.7/site-packages/tornado/gen.py\", line 234, in wrapper\n    yielded = ctx_run(next, result)\n  File \"/mnt/d/linuxuserhome/sanmaro/.pyenv/versions/py3_7_tf115/lib/python3.7/site-packages/ipykernel/kernelbase.py\", line 538, in execute_request\n    user_expressions, allow_stdin,\n  File \"/mnt/d/linuxuserhome/sanmaro/.pyenv/versions/py3_7_tf115/lib/python3.7/site-packages/tornado/gen.py\", line 234, in wrapper\n    yielded = ctx_run(next, result)\n  File \"/mnt/d/linuxuserhome/sanmaro/.pyenv/versions/py3_7_tf115/lib/python3.7/site-packages/ipykernel/ipkernel.py\", line 302, in do_execute\n    res = shell.run_cell(code, store_history=store_history, silent=silent)\n  File \"/mnt/d/linuxuserhome/sanmaro/.pyenv/versions/py3_7_tf115/lib/python3.7/site-packages/ipykernel/zmqshell.py\", line 539, in run_cell\n    return super(ZMQInteractiveShell, self).run_cell(*args, **kwargs)\n  File \"/mnt/d/linuxuserhome/sanmaro/.pyenv/versions/py3_7_tf115/lib/python3.7/site-packages/IPython/core/interactiveshell.py\", line 2899, in run_cell\n    raw_cell, store_history, silent, shell_futures)\n  File \"/mnt/d/linuxuserhome/sanmaro/.pyenv/versions/py3_7_tf115/lib/python3.7/site-packages/IPython/core/interactiveshell.py\", line 2944, in _run_cell\n    return runner(coro)\n  File \"/mnt/d/linuxuserhome/sanmaro/.pyenv/versions/py3_7_tf115/lib/python3.7/site-packages/IPython/core/async_helpers.py\", line 68, in _pseudo_sync_runner\n    coro.send(None)\n  File \"/mnt/d/linuxuserhome/sanmaro/.pyenv/versions/py3_7_tf115/lib/python3.7/site-packages/IPython/core/interactiveshell.py\", line 3170, in run_cell_async\n    interactivity=interactivity, compiler=compiler, result=result)\n  File \"/mnt/d/linuxuserhome/sanmaro/.pyenv/versions/py3_7_tf115/lib/python3.7/site-packages/IPython/core/interactiveshell.py\", line 3361, in run_ast_nodes\n    if (await self.run_code(code, result,  async_=asy)):\n  File \"/mnt/d/linuxuserhome/sanmaro/.pyenv/versions/py3_7_tf115/lib/python3.7/site-packages/IPython/core/interactiveshell.py\", line 3441, in run_code\n    exec(code_obj, self.user_global_ns, self.user_ns)\n  File \"<ipython-input-4-56a07e16c0f3>\", line 2, in <module>\n    d = tf.placeholder(dtype=tf.float32, shape=None)\n  File \"/mnt/d/linuxuserhome/sanmaro/.pyenv/versions/py3_7_tf115/lib/python3.7/site-packages/tensorflow_core/python/ops/array_ops.py\", line 2619, in placeholder\n    return gen_array_ops.placeholder(dtype=dtype, shape=shape, name=name)\n  File \"/mnt/d/linuxuserhome/sanmaro/.pyenv/versions/py3_7_tf115/lib/python3.7/site-packages/tensorflow_core/python/ops/gen_array_ops.py\", line 6669, in placeholder\n    \"Placeholder\", dtype=dtype, shape=shape, name=name)\n  File \"/mnt/d/linuxuserhome/sanmaro/.pyenv/versions/py3_7_tf115/lib/python3.7/site-packages/tensorflow_core/python/framework/op_def_library.py\", line 794, in _apply_op_helper\n    op_def=op_def)\n  File \"/mnt/d/linuxuserhome/sanmaro/.pyenv/versions/py3_7_tf115/lib/python3.7/site-packages/tensorflow_core/python/util/deprecation.py\", line 507, in new_func\n    return func(*args, **kwargs)\n  File \"/mnt/d/linuxuserhome/sanmaro/.pyenv/versions/py3_7_tf115/lib/python3.7/site-packages/tensorflow_core/python/framework/ops.py\", line 3357, in create_op\n    attrs, op_def, compute_device)\n  File \"/mnt/d/linuxuserhome/sanmaro/.pyenv/versions/py3_7_tf115/lib/python3.7/site-packages/tensorflow_core/python/framework/ops.py\", line 3426, in _create_op_internal\n    op_def=op_def)\n  File \"/mnt/d/linuxuserhome/sanmaro/.pyenv/versions/py3_7_tf115/lib/python3.7/site-packages/tensorflow_core/python/framework/ops.py\", line 1748, in __init__\n    self._traceback = tf_stack.extract_stack()\n",
     "output_type": "error",
     "traceback": [
      "\u001b[0;31m---------------------------------------------------------------------------\u001b[0m",
      "\u001b[0;31mInvalidArgumentError\u001b[0m                      Traceback (most recent call last)",
      "\u001b[0;32m~/.pyenv/versions/py3_7_tf115/lib/python3.7/site-packages/tensorflow_core/python/client/session.py\u001b[0m in \u001b[0;36m_do_call\u001b[0;34m(self, fn, *args)\u001b[0m\n\u001b[1;32m   1364\u001b[0m     \u001b[0;32mtry\u001b[0m\u001b[0;34m:\u001b[0m\u001b[0;34m\u001b[0m\u001b[0;34m\u001b[0m\u001b[0m\n\u001b[0;32m-> 1365\u001b[0;31m       \u001b[0;32mreturn\u001b[0m \u001b[0mfn\u001b[0m\u001b[0;34m(\u001b[0m\u001b[0;34m*\u001b[0m\u001b[0margs\u001b[0m\u001b[0;34m)\u001b[0m\u001b[0;34m\u001b[0m\u001b[0;34m\u001b[0m\u001b[0m\n\u001b[0m\u001b[1;32m   1366\u001b[0m     \u001b[0;32mexcept\u001b[0m \u001b[0merrors\u001b[0m\u001b[0;34m.\u001b[0m\u001b[0mOpError\u001b[0m \u001b[0;32mas\u001b[0m \u001b[0me\u001b[0m\u001b[0;34m:\u001b[0m\u001b[0;34m\u001b[0m\u001b[0;34m\u001b[0m\u001b[0m\n",
      "\u001b[0;32m~/.pyenv/versions/py3_7_tf115/lib/python3.7/site-packages/tensorflow_core/python/client/session.py\u001b[0m in \u001b[0;36m_run_fn\u001b[0;34m(feed_dict, fetch_list, target_list, options, run_metadata)\u001b[0m\n\u001b[1;32m   1349\u001b[0m       return self._call_tf_sessionrun(options, feed_dict, fetch_list,\n\u001b[0;32m-> 1350\u001b[0;31m                                       target_list, run_metadata)\n\u001b[0m\u001b[1;32m   1351\u001b[0m \u001b[0;34m\u001b[0m\u001b[0m\n",
      "\u001b[0;32m~/.pyenv/versions/py3_7_tf115/lib/python3.7/site-packages/tensorflow_core/python/client/session.py\u001b[0m in \u001b[0;36m_call_tf_sessionrun\u001b[0;34m(self, options, feed_dict, fetch_list, target_list, run_metadata)\u001b[0m\n\u001b[1;32m   1442\u001b[0m                                             \u001b[0mfetch_list\u001b[0m\u001b[0;34m,\u001b[0m \u001b[0mtarget_list\u001b[0m\u001b[0;34m,\u001b[0m\u001b[0;34m\u001b[0m\u001b[0;34m\u001b[0m\u001b[0m\n\u001b[0;32m-> 1443\u001b[0;31m                                             run_metadata)\n\u001b[0m\u001b[1;32m   1444\u001b[0m \u001b[0;34m\u001b[0m\u001b[0m\n",
      "\u001b[0;31mInvalidArgumentError\u001b[0m: You must feed a value for placeholder tensor 'Placeholder' with dtype float\n\t [[{{node Placeholder}}]]",
      "\nDuring handling of the above exception, another exception occurred:\n",
      "\u001b[0;31mInvalidArgumentError\u001b[0m                      Traceback (most recent call last)",
      "\u001b[0;32m<ipython-input-13-ed050e8bddf6>\u001b[0m in \u001b[0;36m<module>\u001b[0;34m\u001b[0m\n\u001b[0;32m----> 1\u001b[0;31m \u001b[0mprint\u001b[0m\u001b[0;34m(\u001b[0m\u001b[0msess\u001b[0m\u001b[0;34m.\u001b[0m\u001b[0mrun\u001b[0m\u001b[0;34m(\u001b[0m\u001b[0md\u001b[0m\u001b[0;34m)\u001b[0m\u001b[0;34m)\u001b[0m\u001b[0;34m\u001b[0m\u001b[0;34m\u001b[0m\u001b[0m\n\u001b[0m",
      "\u001b[0;32m~/.pyenv/versions/py3_7_tf115/lib/python3.7/site-packages/tensorflow_core/python/client/session.py\u001b[0m in \u001b[0;36mrun\u001b[0;34m(self, fetches, feed_dict, options, run_metadata)\u001b[0m\n\u001b[1;32m    954\u001b[0m     \u001b[0;32mtry\u001b[0m\u001b[0;34m:\u001b[0m\u001b[0;34m\u001b[0m\u001b[0;34m\u001b[0m\u001b[0m\n\u001b[1;32m    955\u001b[0m       result = self._run(None, fetches, feed_dict, options_ptr,\n\u001b[0;32m--> 956\u001b[0;31m                          run_metadata_ptr)\n\u001b[0m\u001b[1;32m    957\u001b[0m       \u001b[0;32mif\u001b[0m \u001b[0mrun_metadata\u001b[0m\u001b[0;34m:\u001b[0m\u001b[0;34m\u001b[0m\u001b[0;34m\u001b[0m\u001b[0m\n\u001b[1;32m    958\u001b[0m         \u001b[0mproto_data\u001b[0m \u001b[0;34m=\u001b[0m \u001b[0mtf_session\u001b[0m\u001b[0;34m.\u001b[0m\u001b[0mTF_GetBuffer\u001b[0m\u001b[0;34m(\u001b[0m\u001b[0mrun_metadata_ptr\u001b[0m\u001b[0;34m)\u001b[0m\u001b[0;34m\u001b[0m\u001b[0;34m\u001b[0m\u001b[0m\n",
      "\u001b[0;32m~/.pyenv/versions/py3_7_tf115/lib/python3.7/site-packages/tensorflow_core/python/client/session.py\u001b[0m in \u001b[0;36m_run\u001b[0;34m(self, handle, fetches, feed_dict, options, run_metadata)\u001b[0m\n\u001b[1;32m   1178\u001b[0m     \u001b[0;32mif\u001b[0m \u001b[0mfinal_fetches\u001b[0m \u001b[0;32mor\u001b[0m \u001b[0mfinal_targets\u001b[0m \u001b[0;32mor\u001b[0m \u001b[0;34m(\u001b[0m\u001b[0mhandle\u001b[0m \u001b[0;32mand\u001b[0m \u001b[0mfeed_dict_tensor\u001b[0m\u001b[0;34m)\u001b[0m\u001b[0;34m:\u001b[0m\u001b[0;34m\u001b[0m\u001b[0;34m\u001b[0m\u001b[0m\n\u001b[1;32m   1179\u001b[0m       results = self._do_run(handle, final_targets, final_fetches,\n\u001b[0;32m-> 1180\u001b[0;31m                              feed_dict_tensor, options, run_metadata)\n\u001b[0m\u001b[1;32m   1181\u001b[0m     \u001b[0;32melse\u001b[0m\u001b[0;34m:\u001b[0m\u001b[0;34m\u001b[0m\u001b[0;34m\u001b[0m\u001b[0m\n\u001b[1;32m   1182\u001b[0m       \u001b[0mresults\u001b[0m \u001b[0;34m=\u001b[0m \u001b[0;34m[\u001b[0m\u001b[0;34m]\u001b[0m\u001b[0;34m\u001b[0m\u001b[0;34m\u001b[0m\u001b[0m\n",
      "\u001b[0;32m~/.pyenv/versions/py3_7_tf115/lib/python3.7/site-packages/tensorflow_core/python/client/session.py\u001b[0m in \u001b[0;36m_do_run\u001b[0;34m(self, handle, target_list, fetch_list, feed_dict, options, run_metadata)\u001b[0m\n\u001b[1;32m   1357\u001b[0m     \u001b[0;32mif\u001b[0m \u001b[0mhandle\u001b[0m \u001b[0;32mis\u001b[0m \u001b[0;32mNone\u001b[0m\u001b[0;34m:\u001b[0m\u001b[0;34m\u001b[0m\u001b[0;34m\u001b[0m\u001b[0m\n\u001b[1;32m   1358\u001b[0m       return self._do_call(_run_fn, feeds, fetches, targets, options,\n\u001b[0;32m-> 1359\u001b[0;31m                            run_metadata)\n\u001b[0m\u001b[1;32m   1360\u001b[0m     \u001b[0;32melse\u001b[0m\u001b[0;34m:\u001b[0m\u001b[0;34m\u001b[0m\u001b[0;34m\u001b[0m\u001b[0m\n\u001b[1;32m   1361\u001b[0m       \u001b[0;32mreturn\u001b[0m \u001b[0mself\u001b[0m\u001b[0;34m.\u001b[0m\u001b[0m_do_call\u001b[0m\u001b[0;34m(\u001b[0m\u001b[0m_prun_fn\u001b[0m\u001b[0;34m,\u001b[0m \u001b[0mhandle\u001b[0m\u001b[0;34m,\u001b[0m \u001b[0mfeeds\u001b[0m\u001b[0;34m,\u001b[0m \u001b[0mfetches\u001b[0m\u001b[0;34m)\u001b[0m\u001b[0;34m\u001b[0m\u001b[0;34m\u001b[0m\u001b[0m\n",
      "\u001b[0;32m~/.pyenv/versions/py3_7_tf115/lib/python3.7/site-packages/tensorflow_core/python/client/session.py\u001b[0m in \u001b[0;36m_do_call\u001b[0;34m(self, fn, *args)\u001b[0m\n\u001b[1;32m   1382\u001b[0m                     \u001b[0;34m'\\nsession_config.graph_options.rewrite_options.'\u001b[0m\u001b[0;34m\u001b[0m\u001b[0;34m\u001b[0m\u001b[0m\n\u001b[1;32m   1383\u001b[0m                     'disable_meta_optimizer = True')\n\u001b[0;32m-> 1384\u001b[0;31m       \u001b[0;32mraise\u001b[0m \u001b[0mtype\u001b[0m\u001b[0;34m(\u001b[0m\u001b[0me\u001b[0m\u001b[0;34m)\u001b[0m\u001b[0;34m(\u001b[0m\u001b[0mnode_def\u001b[0m\u001b[0;34m,\u001b[0m \u001b[0mop\u001b[0m\u001b[0;34m,\u001b[0m \u001b[0mmessage\u001b[0m\u001b[0;34m)\u001b[0m\u001b[0;34m\u001b[0m\u001b[0;34m\u001b[0m\u001b[0m\n\u001b[0m\u001b[1;32m   1385\u001b[0m \u001b[0;34m\u001b[0m\u001b[0m\n\u001b[1;32m   1386\u001b[0m   \u001b[0;32mdef\u001b[0m \u001b[0m_extend_graph\u001b[0m\u001b[0;34m(\u001b[0m\u001b[0mself\u001b[0m\u001b[0;34m)\u001b[0m\u001b[0;34m:\u001b[0m\u001b[0;34m\u001b[0m\u001b[0;34m\u001b[0m\u001b[0m\n",
      "\u001b[0;31mInvalidArgumentError\u001b[0m: You must feed a value for placeholder tensor 'Placeholder' with dtype float\n\t [[node Placeholder (defined at /mnt/d/linuxuserhome/sanmaro/.pyenv/versions/py3_7_tf115/lib/python3.7/site-packages/tensorflow_core/python/framework/ops.py:1748) ]]\n\nOriginal stack trace for 'Placeholder':\n  File \"/mnt/d/linuxuserhome/sanmaro/.pyenv/versions/3.7.10/lib/python3.7/runpy.py\", line 193, in _run_module_as_main\n    \"__main__\", mod_spec)\n  File \"/mnt/d/linuxuserhome/sanmaro/.pyenv/versions/3.7.10/lib/python3.7/runpy.py\", line 85, in _run_code\n    exec(code, run_globals)\n  File \"/mnt/d/linuxuserhome/sanmaro/.pyenv/versions/py3_7_tf115/lib/python3.7/site-packages/ipykernel/__main__.py\", line 3, in <module>\n    app.launch_new_instance()\n  File \"/mnt/d/linuxuserhome/sanmaro/.pyenv/versions/py3_7_tf115/lib/python3.7/site-packages/traitlets/config/application.py\", line 845, in launch_instance\n    app.start()\n  File \"/mnt/d/linuxuserhome/sanmaro/.pyenv/versions/py3_7_tf115/lib/python3.7/site-packages/ipykernel/kernelapp.py\", line 619, in start\n    self.io_loop.start()\n  File \"/mnt/d/linuxuserhome/sanmaro/.pyenv/versions/py3_7_tf115/lib/python3.7/site-packages/tornado/platform/asyncio.py\", line 199, in start\n    self.asyncio_loop.run_forever()\n  File \"/mnt/d/linuxuserhome/sanmaro/.pyenv/versions/3.7.10/lib/python3.7/asyncio/base_events.py\", line 541, in run_forever\n    self._run_once()\n  File \"/mnt/d/linuxuserhome/sanmaro/.pyenv/versions/3.7.10/lib/python3.7/asyncio/base_events.py\", line 1786, in _run_once\n    handle._run()\n  File \"/mnt/d/linuxuserhome/sanmaro/.pyenv/versions/3.7.10/lib/python3.7/asyncio/events.py\", line 88, in _run\n    self._context.run(self._callback, *self._args)\n  File \"/mnt/d/linuxuserhome/sanmaro/.pyenv/versions/py3_7_tf115/lib/python3.7/site-packages/tornado/ioloop.py\", line 688, in <lambda>\n    lambda f: self._run_callback(functools.partial(callback, future))\n  File \"/mnt/d/linuxuserhome/sanmaro/.pyenv/versions/py3_7_tf115/lib/python3.7/site-packages/tornado/ioloop.py\", line 741, in _run_callback\n    ret = callback()\n  File \"/mnt/d/linuxuserhome/sanmaro/.pyenv/versions/py3_7_tf115/lib/python3.7/site-packages/tornado/gen.py\", line 814, in inner\n    self.ctx_run(self.run)\n  File \"/mnt/d/linuxuserhome/sanmaro/.pyenv/versions/py3_7_tf115/lib/python3.7/site-packages/tornado/gen.py\", line 775, in run\n    yielded = self.gen.send(value)\n  File \"/mnt/d/linuxuserhome/sanmaro/.pyenv/versions/py3_7_tf115/lib/python3.7/site-packages/ipykernel/kernelbase.py\", line 358, in process_one\n    yield gen.maybe_future(dispatch(*args))\n  File \"/mnt/d/linuxuserhome/sanmaro/.pyenv/versions/py3_7_tf115/lib/python3.7/site-packages/tornado/gen.py\", line 234, in wrapper\n    yielded = ctx_run(next, result)\n  File \"/mnt/d/linuxuserhome/sanmaro/.pyenv/versions/py3_7_tf115/lib/python3.7/site-packages/ipykernel/kernelbase.py\", line 261, in dispatch_shell\n    yield gen.maybe_future(handler(stream, idents, msg))\n  File \"/mnt/d/linuxuserhome/sanmaro/.pyenv/versions/py3_7_tf115/lib/python3.7/site-packages/tornado/gen.py\", line 234, in wrapper\n    yielded = ctx_run(next, result)\n  File \"/mnt/d/linuxuserhome/sanmaro/.pyenv/versions/py3_7_tf115/lib/python3.7/site-packages/ipykernel/kernelbase.py\", line 538, in execute_request\n    user_expressions, allow_stdin,\n  File \"/mnt/d/linuxuserhome/sanmaro/.pyenv/versions/py3_7_tf115/lib/python3.7/site-packages/tornado/gen.py\", line 234, in wrapper\n    yielded = ctx_run(next, result)\n  File \"/mnt/d/linuxuserhome/sanmaro/.pyenv/versions/py3_7_tf115/lib/python3.7/site-packages/ipykernel/ipkernel.py\", line 302, in do_execute\n    res = shell.run_cell(code, store_history=store_history, silent=silent)\n  File \"/mnt/d/linuxuserhome/sanmaro/.pyenv/versions/py3_7_tf115/lib/python3.7/site-packages/ipykernel/zmqshell.py\", line 539, in run_cell\n    return super(ZMQInteractiveShell, self).run_cell(*args, **kwargs)\n  File \"/mnt/d/linuxuserhome/sanmaro/.pyenv/versions/py3_7_tf115/lib/python3.7/site-packages/IPython/core/interactiveshell.py\", line 2899, in run_cell\n    raw_cell, store_history, silent, shell_futures)\n  File \"/mnt/d/linuxuserhome/sanmaro/.pyenv/versions/py3_7_tf115/lib/python3.7/site-packages/IPython/core/interactiveshell.py\", line 2944, in _run_cell\n    return runner(coro)\n  File \"/mnt/d/linuxuserhome/sanmaro/.pyenv/versions/py3_7_tf115/lib/python3.7/site-packages/IPython/core/async_helpers.py\", line 68, in _pseudo_sync_runner\n    coro.send(None)\n  File \"/mnt/d/linuxuserhome/sanmaro/.pyenv/versions/py3_7_tf115/lib/python3.7/site-packages/IPython/core/interactiveshell.py\", line 3170, in run_cell_async\n    interactivity=interactivity, compiler=compiler, result=result)\n  File \"/mnt/d/linuxuserhome/sanmaro/.pyenv/versions/py3_7_tf115/lib/python3.7/site-packages/IPython/core/interactiveshell.py\", line 3361, in run_ast_nodes\n    if (await self.run_code(code, result,  async_=asy)):\n  File \"/mnt/d/linuxuserhome/sanmaro/.pyenv/versions/py3_7_tf115/lib/python3.7/site-packages/IPython/core/interactiveshell.py\", line 3441, in run_code\n    exec(code_obj, self.user_global_ns, self.user_ns)\n  File \"<ipython-input-4-56a07e16c0f3>\", line 2, in <module>\n    d = tf.placeholder(dtype=tf.float32, shape=None)\n  File \"/mnt/d/linuxuserhome/sanmaro/.pyenv/versions/py3_7_tf115/lib/python3.7/site-packages/tensorflow_core/python/ops/array_ops.py\", line 2619, in placeholder\n    return gen_array_ops.placeholder(dtype=dtype, shape=shape, name=name)\n  File \"/mnt/d/linuxuserhome/sanmaro/.pyenv/versions/py3_7_tf115/lib/python3.7/site-packages/tensorflow_core/python/ops/gen_array_ops.py\", line 6669, in placeholder\n    \"Placeholder\", dtype=dtype, shape=shape, name=name)\n  File \"/mnt/d/linuxuserhome/sanmaro/.pyenv/versions/py3_7_tf115/lib/python3.7/site-packages/tensorflow_core/python/framework/op_def_library.py\", line 794, in _apply_op_helper\n    op_def=op_def)\n  File \"/mnt/d/linuxuserhome/sanmaro/.pyenv/versions/py3_7_tf115/lib/python3.7/site-packages/tensorflow_core/python/util/deprecation.py\", line 507, in new_func\n    return func(*args, **kwargs)\n  File \"/mnt/d/linuxuserhome/sanmaro/.pyenv/versions/py3_7_tf115/lib/python3.7/site-packages/tensorflow_core/python/framework/ops.py\", line 3357, in create_op\n    attrs, op_def, compute_device)\n  File \"/mnt/d/linuxuserhome/sanmaro/.pyenv/versions/py3_7_tf115/lib/python3.7/site-packages/tensorflow_core/python/framework/ops.py\", line 3426, in _create_op_internal\n    op_def=op_def)\n  File \"/mnt/d/linuxuserhome/sanmaro/.pyenv/versions/py3_7_tf115/lib/python3.7/site-packages/tensorflow_core/python/framework/ops.py\", line 1748, in __init__\n    self._traceback = tf_stack.extract_stack()\n"
     ]
    }
   ],
   "source": [
    "print(sess.run(d))"
   ]
  },
  {
   "cell_type": "code",
   "execution_count": 14,
   "id": "46ac28d5",
   "metadata": {},
   "outputs": [
    {
     "name": "stdout",
     "output_type": "stream",
     "text": [
      "14.0\n"
     ]
    }
   ],
   "source": [
    "print(sess.run(c, feed_dict={c:14})) # c가 3.0으로 초기화 되어 있으나, 현재 명령에서는 동적으로 c 값을 14로 변경해서 계산함.. 이 라인이 끝나면 변경된 값이 유효하지 않고 종료됨.. feed_dict가 사용된 시점에서만 값이 변경되어서 사용됨."
   ]
  },
  {
   "cell_type": "code",
   "execution_count": 15,
   "id": "e3ad3c0b",
   "metadata": {},
   "outputs": [
    {
     "name": "stdout",
     "output_type": "stream",
     "text": [
      "[1. 1. 3. 5.]\n"
     ]
    }
   ],
   "source": [
    "print(sess.run(d, feed_dict = {d:[1,1, 3, 5]}))"
   ]
  },
  {
   "cell_type": "code",
   "execution_count": 16,
   "id": "30c42057",
   "metadata": {},
   "outputs": [
    {
     "name": "stdout",
     "output_type": "stream",
     "text": [
      "3.0\n"
     ]
    }
   ],
   "source": [
    "print(sess.run(c)) # c가 14로 영구적으로 변한 것이 아니라, 호출된 시점에서 변경되어서 사용됨.."
   ]
  },
  {
   "cell_type": "code",
   "execution_count": null,
   "id": "7e031fef",
   "metadata": {},
   "outputs": [],
   "source": [
    "# The variable c was initialized with 3, but we have changed it to 14 with the feed_dict parameter.\n",
    "# The placeholders didn't have any specified value when we initialized it, but we fed it a list of values when we ran the code"
   ]
  },
  {
   "cell_type": "code",
   "execution_count": 17,
   "id": "5ee93718",
   "metadata": {},
   "outputs": [
    {
     "ename": "InvalidArgumentError",
     "evalue": "You must feed a value for placeholder tensor 'Placeholder' with dtype float\n\t [[node Placeholder (defined at /mnt/d/linuxuserhome/sanmaro/.pyenv/versions/py3_7_tf115/lib/python3.7/site-packages/tensorflow_core/python/framework/ops.py:1748) ]]\n\nOriginal stack trace for 'Placeholder':\n  File \"/mnt/d/linuxuserhome/sanmaro/.pyenv/versions/3.7.10/lib/python3.7/runpy.py\", line 193, in _run_module_as_main\n    \"__main__\", mod_spec)\n  File \"/mnt/d/linuxuserhome/sanmaro/.pyenv/versions/3.7.10/lib/python3.7/runpy.py\", line 85, in _run_code\n    exec(code, run_globals)\n  File \"/mnt/d/linuxuserhome/sanmaro/.pyenv/versions/py3_7_tf115/lib/python3.7/site-packages/ipykernel/__main__.py\", line 3, in <module>\n    app.launch_new_instance()\n  File \"/mnt/d/linuxuserhome/sanmaro/.pyenv/versions/py3_7_tf115/lib/python3.7/site-packages/traitlets/config/application.py\", line 845, in launch_instance\n    app.start()\n  File \"/mnt/d/linuxuserhome/sanmaro/.pyenv/versions/py3_7_tf115/lib/python3.7/site-packages/ipykernel/kernelapp.py\", line 619, in start\n    self.io_loop.start()\n  File \"/mnt/d/linuxuserhome/sanmaro/.pyenv/versions/py3_7_tf115/lib/python3.7/site-packages/tornado/platform/asyncio.py\", line 199, in start\n    self.asyncio_loop.run_forever()\n  File \"/mnt/d/linuxuserhome/sanmaro/.pyenv/versions/3.7.10/lib/python3.7/asyncio/base_events.py\", line 541, in run_forever\n    self._run_once()\n  File \"/mnt/d/linuxuserhome/sanmaro/.pyenv/versions/3.7.10/lib/python3.7/asyncio/base_events.py\", line 1786, in _run_once\n    handle._run()\n  File \"/mnt/d/linuxuserhome/sanmaro/.pyenv/versions/3.7.10/lib/python3.7/asyncio/events.py\", line 88, in _run\n    self._context.run(self._callback, *self._args)\n  File \"/mnt/d/linuxuserhome/sanmaro/.pyenv/versions/py3_7_tf115/lib/python3.7/site-packages/tornado/ioloop.py\", line 688, in <lambda>\n    lambda f: self._run_callback(functools.partial(callback, future))\n  File \"/mnt/d/linuxuserhome/sanmaro/.pyenv/versions/py3_7_tf115/lib/python3.7/site-packages/tornado/ioloop.py\", line 741, in _run_callback\n    ret = callback()\n  File \"/mnt/d/linuxuserhome/sanmaro/.pyenv/versions/py3_7_tf115/lib/python3.7/site-packages/tornado/gen.py\", line 814, in inner\n    self.ctx_run(self.run)\n  File \"/mnt/d/linuxuserhome/sanmaro/.pyenv/versions/py3_7_tf115/lib/python3.7/site-packages/tornado/gen.py\", line 775, in run\n    yielded = self.gen.send(value)\n  File \"/mnt/d/linuxuserhome/sanmaro/.pyenv/versions/py3_7_tf115/lib/python3.7/site-packages/ipykernel/kernelbase.py\", line 358, in process_one\n    yield gen.maybe_future(dispatch(*args))\n  File \"/mnt/d/linuxuserhome/sanmaro/.pyenv/versions/py3_7_tf115/lib/python3.7/site-packages/tornado/gen.py\", line 234, in wrapper\n    yielded = ctx_run(next, result)\n  File \"/mnt/d/linuxuserhome/sanmaro/.pyenv/versions/py3_7_tf115/lib/python3.7/site-packages/ipykernel/kernelbase.py\", line 261, in dispatch_shell\n    yield gen.maybe_future(handler(stream, idents, msg))\n  File \"/mnt/d/linuxuserhome/sanmaro/.pyenv/versions/py3_7_tf115/lib/python3.7/site-packages/tornado/gen.py\", line 234, in wrapper\n    yielded = ctx_run(next, result)\n  File \"/mnt/d/linuxuserhome/sanmaro/.pyenv/versions/py3_7_tf115/lib/python3.7/site-packages/ipykernel/kernelbase.py\", line 538, in execute_request\n    user_expressions, allow_stdin,\n  File \"/mnt/d/linuxuserhome/sanmaro/.pyenv/versions/py3_7_tf115/lib/python3.7/site-packages/tornado/gen.py\", line 234, in wrapper\n    yielded = ctx_run(next, result)\n  File \"/mnt/d/linuxuserhome/sanmaro/.pyenv/versions/py3_7_tf115/lib/python3.7/site-packages/ipykernel/ipkernel.py\", line 302, in do_execute\n    res = shell.run_cell(code, store_history=store_history, silent=silent)\n  File \"/mnt/d/linuxuserhome/sanmaro/.pyenv/versions/py3_7_tf115/lib/python3.7/site-packages/ipykernel/zmqshell.py\", line 539, in run_cell\n    return super(ZMQInteractiveShell, self).run_cell(*args, **kwargs)\n  File \"/mnt/d/linuxuserhome/sanmaro/.pyenv/versions/py3_7_tf115/lib/python3.7/site-packages/IPython/core/interactiveshell.py\", line 2899, in run_cell\n    raw_cell, store_history, silent, shell_futures)\n  File \"/mnt/d/linuxuserhome/sanmaro/.pyenv/versions/py3_7_tf115/lib/python3.7/site-packages/IPython/core/interactiveshell.py\", line 2944, in _run_cell\n    return runner(coro)\n  File \"/mnt/d/linuxuserhome/sanmaro/.pyenv/versions/py3_7_tf115/lib/python3.7/site-packages/IPython/core/async_helpers.py\", line 68, in _pseudo_sync_runner\n    coro.send(None)\n  File \"/mnt/d/linuxuserhome/sanmaro/.pyenv/versions/py3_7_tf115/lib/python3.7/site-packages/IPython/core/interactiveshell.py\", line 3170, in run_cell_async\n    interactivity=interactivity, compiler=compiler, result=result)\n  File \"/mnt/d/linuxuserhome/sanmaro/.pyenv/versions/py3_7_tf115/lib/python3.7/site-packages/IPython/core/interactiveshell.py\", line 3361, in run_ast_nodes\n    if (await self.run_code(code, result,  async_=asy)):\n  File \"/mnt/d/linuxuserhome/sanmaro/.pyenv/versions/py3_7_tf115/lib/python3.7/site-packages/IPython/core/interactiveshell.py\", line 3441, in run_code\n    exec(code_obj, self.user_global_ns, self.user_ns)\n  File \"<ipython-input-4-56a07e16c0f3>\", line 2, in <module>\n    d = tf.placeholder(dtype=tf.float32, shape=None)\n  File \"/mnt/d/linuxuserhome/sanmaro/.pyenv/versions/py3_7_tf115/lib/python3.7/site-packages/tensorflow_core/python/ops/array_ops.py\", line 2619, in placeholder\n    return gen_array_ops.placeholder(dtype=dtype, shape=shape, name=name)\n  File \"/mnt/d/linuxuserhome/sanmaro/.pyenv/versions/py3_7_tf115/lib/python3.7/site-packages/tensorflow_core/python/ops/gen_array_ops.py\", line 6669, in placeholder\n    \"Placeholder\", dtype=dtype, shape=shape, name=name)\n  File \"/mnt/d/linuxuserhome/sanmaro/.pyenv/versions/py3_7_tf115/lib/python3.7/site-packages/tensorflow_core/python/framework/op_def_library.py\", line 794, in _apply_op_helper\n    op_def=op_def)\n  File \"/mnt/d/linuxuserhome/sanmaro/.pyenv/versions/py3_7_tf115/lib/python3.7/site-packages/tensorflow_core/python/util/deprecation.py\", line 507, in new_func\n    return func(*args, **kwargs)\n  File \"/mnt/d/linuxuserhome/sanmaro/.pyenv/versions/py3_7_tf115/lib/python3.7/site-packages/tensorflow_core/python/framework/ops.py\", line 3357, in create_op\n    attrs, op_def, compute_device)\n  File \"/mnt/d/linuxuserhome/sanmaro/.pyenv/versions/py3_7_tf115/lib/python3.7/site-packages/tensorflow_core/python/framework/ops.py\", line 3426, in _create_op_internal\n    op_def=op_def)\n  File \"/mnt/d/linuxuserhome/sanmaro/.pyenv/versions/py3_7_tf115/lib/python3.7/site-packages/tensorflow_core/python/framework/ops.py\", line 1748, in __init__\n    self._traceback = tf_stack.extract_stack()\n",
     "output_type": "error",
     "traceback": [
      "\u001b[0;31m---------------------------------------------------------------------------\u001b[0m",
      "\u001b[0;31mInvalidArgumentError\u001b[0m                      Traceback (most recent call last)",
      "\u001b[0;32m~/.pyenv/versions/py3_7_tf115/lib/python3.7/site-packages/tensorflow_core/python/client/session.py\u001b[0m in \u001b[0;36m_do_call\u001b[0;34m(self, fn, *args)\u001b[0m\n\u001b[1;32m   1364\u001b[0m     \u001b[0;32mtry\u001b[0m\u001b[0;34m:\u001b[0m\u001b[0;34m\u001b[0m\u001b[0;34m\u001b[0m\u001b[0m\n\u001b[0;32m-> 1365\u001b[0;31m       \u001b[0;32mreturn\u001b[0m \u001b[0mfn\u001b[0m\u001b[0;34m(\u001b[0m\u001b[0;34m*\u001b[0m\u001b[0margs\u001b[0m\u001b[0;34m)\u001b[0m\u001b[0;34m\u001b[0m\u001b[0;34m\u001b[0m\u001b[0m\n\u001b[0m\u001b[1;32m   1366\u001b[0m     \u001b[0;32mexcept\u001b[0m \u001b[0merrors\u001b[0m\u001b[0;34m.\u001b[0m\u001b[0mOpError\u001b[0m \u001b[0;32mas\u001b[0m \u001b[0me\u001b[0m\u001b[0;34m:\u001b[0m\u001b[0;34m\u001b[0m\u001b[0;34m\u001b[0m\u001b[0m\n",
      "\u001b[0;32m~/.pyenv/versions/py3_7_tf115/lib/python3.7/site-packages/tensorflow_core/python/client/session.py\u001b[0m in \u001b[0;36m_run_fn\u001b[0;34m(feed_dict, fetch_list, target_list, options, run_metadata)\u001b[0m\n\u001b[1;32m   1349\u001b[0m       return self._call_tf_sessionrun(options, feed_dict, fetch_list,\n\u001b[0;32m-> 1350\u001b[0;31m                                       target_list, run_metadata)\n\u001b[0m\u001b[1;32m   1351\u001b[0m \u001b[0;34m\u001b[0m\u001b[0m\n",
      "\u001b[0;32m~/.pyenv/versions/py3_7_tf115/lib/python3.7/site-packages/tensorflow_core/python/client/session.py\u001b[0m in \u001b[0;36m_call_tf_sessionrun\u001b[0;34m(self, options, feed_dict, fetch_list, target_list, run_metadata)\u001b[0m\n\u001b[1;32m   1442\u001b[0m                                             \u001b[0mfetch_list\u001b[0m\u001b[0;34m,\u001b[0m \u001b[0mtarget_list\u001b[0m\u001b[0;34m,\u001b[0m\u001b[0;34m\u001b[0m\u001b[0;34m\u001b[0m\u001b[0m\n\u001b[0;32m-> 1443\u001b[0;31m                                             run_metadata)\n\u001b[0m\u001b[1;32m   1444\u001b[0m \u001b[0;34m\u001b[0m\u001b[0m\n",
      "\u001b[0;31mInvalidArgumentError\u001b[0m: You must feed a value for placeholder tensor 'Placeholder' with dtype float\n\t [[{{node Placeholder}}]]",
      "\nDuring handling of the above exception, another exception occurred:\n",
      "\u001b[0;31mInvalidArgumentError\u001b[0m                      Traceback (most recent call last)",
      "\u001b[0;32m<ipython-input-17-ed050e8bddf6>\u001b[0m in \u001b[0;36m<module>\u001b[0;34m\u001b[0m\n\u001b[0;32m----> 1\u001b[0;31m \u001b[0mprint\u001b[0m\u001b[0;34m(\u001b[0m\u001b[0msess\u001b[0m\u001b[0;34m.\u001b[0m\u001b[0mrun\u001b[0m\u001b[0;34m(\u001b[0m\u001b[0md\u001b[0m\u001b[0;34m)\u001b[0m\u001b[0;34m)\u001b[0m\u001b[0;34m\u001b[0m\u001b[0;34m\u001b[0m\u001b[0m\n\u001b[0m",
      "\u001b[0;32m~/.pyenv/versions/py3_7_tf115/lib/python3.7/site-packages/tensorflow_core/python/client/session.py\u001b[0m in \u001b[0;36mrun\u001b[0;34m(self, fetches, feed_dict, options, run_metadata)\u001b[0m\n\u001b[1;32m    954\u001b[0m     \u001b[0;32mtry\u001b[0m\u001b[0;34m:\u001b[0m\u001b[0;34m\u001b[0m\u001b[0;34m\u001b[0m\u001b[0m\n\u001b[1;32m    955\u001b[0m       result = self._run(None, fetches, feed_dict, options_ptr,\n\u001b[0;32m--> 956\u001b[0;31m                          run_metadata_ptr)\n\u001b[0m\u001b[1;32m    957\u001b[0m       \u001b[0;32mif\u001b[0m \u001b[0mrun_metadata\u001b[0m\u001b[0;34m:\u001b[0m\u001b[0;34m\u001b[0m\u001b[0;34m\u001b[0m\u001b[0m\n\u001b[1;32m    958\u001b[0m         \u001b[0mproto_data\u001b[0m \u001b[0;34m=\u001b[0m \u001b[0mtf_session\u001b[0m\u001b[0;34m.\u001b[0m\u001b[0mTF_GetBuffer\u001b[0m\u001b[0;34m(\u001b[0m\u001b[0mrun_metadata_ptr\u001b[0m\u001b[0;34m)\u001b[0m\u001b[0;34m\u001b[0m\u001b[0;34m\u001b[0m\u001b[0m\n",
      "\u001b[0;32m~/.pyenv/versions/py3_7_tf115/lib/python3.7/site-packages/tensorflow_core/python/client/session.py\u001b[0m in \u001b[0;36m_run\u001b[0;34m(self, handle, fetches, feed_dict, options, run_metadata)\u001b[0m\n\u001b[1;32m   1178\u001b[0m     \u001b[0;32mif\u001b[0m \u001b[0mfinal_fetches\u001b[0m \u001b[0;32mor\u001b[0m \u001b[0mfinal_targets\u001b[0m \u001b[0;32mor\u001b[0m \u001b[0;34m(\u001b[0m\u001b[0mhandle\u001b[0m \u001b[0;32mand\u001b[0m \u001b[0mfeed_dict_tensor\u001b[0m\u001b[0;34m)\u001b[0m\u001b[0;34m:\u001b[0m\u001b[0;34m\u001b[0m\u001b[0;34m\u001b[0m\u001b[0m\n\u001b[1;32m   1179\u001b[0m       results = self._do_run(handle, final_targets, final_fetches,\n\u001b[0;32m-> 1180\u001b[0;31m                              feed_dict_tensor, options, run_metadata)\n\u001b[0m\u001b[1;32m   1181\u001b[0m     \u001b[0;32melse\u001b[0m\u001b[0;34m:\u001b[0m\u001b[0;34m\u001b[0m\u001b[0;34m\u001b[0m\u001b[0m\n\u001b[1;32m   1182\u001b[0m       \u001b[0mresults\u001b[0m \u001b[0;34m=\u001b[0m \u001b[0;34m[\u001b[0m\u001b[0;34m]\u001b[0m\u001b[0;34m\u001b[0m\u001b[0;34m\u001b[0m\u001b[0m\n",
      "\u001b[0;32m~/.pyenv/versions/py3_7_tf115/lib/python3.7/site-packages/tensorflow_core/python/client/session.py\u001b[0m in \u001b[0;36m_do_run\u001b[0;34m(self, handle, target_list, fetch_list, feed_dict, options, run_metadata)\u001b[0m\n\u001b[1;32m   1357\u001b[0m     \u001b[0;32mif\u001b[0m \u001b[0mhandle\u001b[0m \u001b[0;32mis\u001b[0m \u001b[0;32mNone\u001b[0m\u001b[0;34m:\u001b[0m\u001b[0;34m\u001b[0m\u001b[0;34m\u001b[0m\u001b[0m\n\u001b[1;32m   1358\u001b[0m       return self._do_call(_run_fn, feeds, fetches, targets, options,\n\u001b[0;32m-> 1359\u001b[0;31m                            run_metadata)\n\u001b[0m\u001b[1;32m   1360\u001b[0m     \u001b[0;32melse\u001b[0m\u001b[0;34m:\u001b[0m\u001b[0;34m\u001b[0m\u001b[0;34m\u001b[0m\u001b[0m\n\u001b[1;32m   1361\u001b[0m       \u001b[0;32mreturn\u001b[0m \u001b[0mself\u001b[0m\u001b[0;34m.\u001b[0m\u001b[0m_do_call\u001b[0m\u001b[0;34m(\u001b[0m\u001b[0m_prun_fn\u001b[0m\u001b[0;34m,\u001b[0m \u001b[0mhandle\u001b[0m\u001b[0;34m,\u001b[0m \u001b[0mfeeds\u001b[0m\u001b[0;34m,\u001b[0m \u001b[0mfetches\u001b[0m\u001b[0;34m)\u001b[0m\u001b[0;34m\u001b[0m\u001b[0;34m\u001b[0m\u001b[0m\n",
      "\u001b[0;32m~/.pyenv/versions/py3_7_tf115/lib/python3.7/site-packages/tensorflow_core/python/client/session.py\u001b[0m in \u001b[0;36m_do_call\u001b[0;34m(self, fn, *args)\u001b[0m\n\u001b[1;32m   1382\u001b[0m                     \u001b[0;34m'\\nsession_config.graph_options.rewrite_options.'\u001b[0m\u001b[0;34m\u001b[0m\u001b[0;34m\u001b[0m\u001b[0m\n\u001b[1;32m   1383\u001b[0m                     'disable_meta_optimizer = True')\n\u001b[0;32m-> 1384\u001b[0;31m       \u001b[0;32mraise\u001b[0m \u001b[0mtype\u001b[0m\u001b[0;34m(\u001b[0m\u001b[0me\u001b[0m\u001b[0;34m)\u001b[0m\u001b[0;34m(\u001b[0m\u001b[0mnode_def\u001b[0m\u001b[0;34m,\u001b[0m \u001b[0mop\u001b[0m\u001b[0;34m,\u001b[0m \u001b[0mmessage\u001b[0m\u001b[0;34m)\u001b[0m\u001b[0;34m\u001b[0m\u001b[0;34m\u001b[0m\u001b[0m\n\u001b[0m\u001b[1;32m   1385\u001b[0m \u001b[0;34m\u001b[0m\u001b[0m\n\u001b[1;32m   1386\u001b[0m   \u001b[0;32mdef\u001b[0m \u001b[0m_extend_graph\u001b[0m\u001b[0;34m(\u001b[0m\u001b[0mself\u001b[0m\u001b[0;34m)\u001b[0m\u001b[0;34m:\u001b[0m\u001b[0;34m\u001b[0m\u001b[0;34m\u001b[0m\u001b[0m\n",
      "\u001b[0;31mInvalidArgumentError\u001b[0m: You must feed a value for placeholder tensor 'Placeholder' with dtype float\n\t [[node Placeholder (defined at /mnt/d/linuxuserhome/sanmaro/.pyenv/versions/py3_7_tf115/lib/python3.7/site-packages/tensorflow_core/python/framework/ops.py:1748) ]]\n\nOriginal stack trace for 'Placeholder':\n  File \"/mnt/d/linuxuserhome/sanmaro/.pyenv/versions/3.7.10/lib/python3.7/runpy.py\", line 193, in _run_module_as_main\n    \"__main__\", mod_spec)\n  File \"/mnt/d/linuxuserhome/sanmaro/.pyenv/versions/3.7.10/lib/python3.7/runpy.py\", line 85, in _run_code\n    exec(code, run_globals)\n  File \"/mnt/d/linuxuserhome/sanmaro/.pyenv/versions/py3_7_tf115/lib/python3.7/site-packages/ipykernel/__main__.py\", line 3, in <module>\n    app.launch_new_instance()\n  File \"/mnt/d/linuxuserhome/sanmaro/.pyenv/versions/py3_7_tf115/lib/python3.7/site-packages/traitlets/config/application.py\", line 845, in launch_instance\n    app.start()\n  File \"/mnt/d/linuxuserhome/sanmaro/.pyenv/versions/py3_7_tf115/lib/python3.7/site-packages/ipykernel/kernelapp.py\", line 619, in start\n    self.io_loop.start()\n  File \"/mnt/d/linuxuserhome/sanmaro/.pyenv/versions/py3_7_tf115/lib/python3.7/site-packages/tornado/platform/asyncio.py\", line 199, in start\n    self.asyncio_loop.run_forever()\n  File \"/mnt/d/linuxuserhome/sanmaro/.pyenv/versions/3.7.10/lib/python3.7/asyncio/base_events.py\", line 541, in run_forever\n    self._run_once()\n  File \"/mnt/d/linuxuserhome/sanmaro/.pyenv/versions/3.7.10/lib/python3.7/asyncio/base_events.py\", line 1786, in _run_once\n    handle._run()\n  File \"/mnt/d/linuxuserhome/sanmaro/.pyenv/versions/3.7.10/lib/python3.7/asyncio/events.py\", line 88, in _run\n    self._context.run(self._callback, *self._args)\n  File \"/mnt/d/linuxuserhome/sanmaro/.pyenv/versions/py3_7_tf115/lib/python3.7/site-packages/tornado/ioloop.py\", line 688, in <lambda>\n    lambda f: self._run_callback(functools.partial(callback, future))\n  File \"/mnt/d/linuxuserhome/sanmaro/.pyenv/versions/py3_7_tf115/lib/python3.7/site-packages/tornado/ioloop.py\", line 741, in _run_callback\n    ret = callback()\n  File \"/mnt/d/linuxuserhome/sanmaro/.pyenv/versions/py3_7_tf115/lib/python3.7/site-packages/tornado/gen.py\", line 814, in inner\n    self.ctx_run(self.run)\n  File \"/mnt/d/linuxuserhome/sanmaro/.pyenv/versions/py3_7_tf115/lib/python3.7/site-packages/tornado/gen.py\", line 775, in run\n    yielded = self.gen.send(value)\n  File \"/mnt/d/linuxuserhome/sanmaro/.pyenv/versions/py3_7_tf115/lib/python3.7/site-packages/ipykernel/kernelbase.py\", line 358, in process_one\n    yield gen.maybe_future(dispatch(*args))\n  File \"/mnt/d/linuxuserhome/sanmaro/.pyenv/versions/py3_7_tf115/lib/python3.7/site-packages/tornado/gen.py\", line 234, in wrapper\n    yielded = ctx_run(next, result)\n  File \"/mnt/d/linuxuserhome/sanmaro/.pyenv/versions/py3_7_tf115/lib/python3.7/site-packages/ipykernel/kernelbase.py\", line 261, in dispatch_shell\n    yield gen.maybe_future(handler(stream, idents, msg))\n  File \"/mnt/d/linuxuserhome/sanmaro/.pyenv/versions/py3_7_tf115/lib/python3.7/site-packages/tornado/gen.py\", line 234, in wrapper\n    yielded = ctx_run(next, result)\n  File \"/mnt/d/linuxuserhome/sanmaro/.pyenv/versions/py3_7_tf115/lib/python3.7/site-packages/ipykernel/kernelbase.py\", line 538, in execute_request\n    user_expressions, allow_stdin,\n  File \"/mnt/d/linuxuserhome/sanmaro/.pyenv/versions/py3_7_tf115/lib/python3.7/site-packages/tornado/gen.py\", line 234, in wrapper\n    yielded = ctx_run(next, result)\n  File \"/mnt/d/linuxuserhome/sanmaro/.pyenv/versions/py3_7_tf115/lib/python3.7/site-packages/ipykernel/ipkernel.py\", line 302, in do_execute\n    res = shell.run_cell(code, store_history=store_history, silent=silent)\n  File \"/mnt/d/linuxuserhome/sanmaro/.pyenv/versions/py3_7_tf115/lib/python3.7/site-packages/ipykernel/zmqshell.py\", line 539, in run_cell\n    return super(ZMQInteractiveShell, self).run_cell(*args, **kwargs)\n  File \"/mnt/d/linuxuserhome/sanmaro/.pyenv/versions/py3_7_tf115/lib/python3.7/site-packages/IPython/core/interactiveshell.py\", line 2899, in run_cell\n    raw_cell, store_history, silent, shell_futures)\n  File \"/mnt/d/linuxuserhome/sanmaro/.pyenv/versions/py3_7_tf115/lib/python3.7/site-packages/IPython/core/interactiveshell.py\", line 2944, in _run_cell\n    return runner(coro)\n  File \"/mnt/d/linuxuserhome/sanmaro/.pyenv/versions/py3_7_tf115/lib/python3.7/site-packages/IPython/core/async_helpers.py\", line 68, in _pseudo_sync_runner\n    coro.send(None)\n  File \"/mnt/d/linuxuserhome/sanmaro/.pyenv/versions/py3_7_tf115/lib/python3.7/site-packages/IPython/core/interactiveshell.py\", line 3170, in run_cell_async\n    interactivity=interactivity, compiler=compiler, result=result)\n  File \"/mnt/d/linuxuserhome/sanmaro/.pyenv/versions/py3_7_tf115/lib/python3.7/site-packages/IPython/core/interactiveshell.py\", line 3361, in run_ast_nodes\n    if (await self.run_code(code, result,  async_=asy)):\n  File \"/mnt/d/linuxuserhome/sanmaro/.pyenv/versions/py3_7_tf115/lib/python3.7/site-packages/IPython/core/interactiveshell.py\", line 3441, in run_code\n    exec(code_obj, self.user_global_ns, self.user_ns)\n  File \"<ipython-input-4-56a07e16c0f3>\", line 2, in <module>\n    d = tf.placeholder(dtype=tf.float32, shape=None)\n  File \"/mnt/d/linuxuserhome/sanmaro/.pyenv/versions/py3_7_tf115/lib/python3.7/site-packages/tensorflow_core/python/ops/array_ops.py\", line 2619, in placeholder\n    return gen_array_ops.placeholder(dtype=dtype, shape=shape, name=name)\n  File \"/mnt/d/linuxuserhome/sanmaro/.pyenv/versions/py3_7_tf115/lib/python3.7/site-packages/tensorflow_core/python/ops/gen_array_ops.py\", line 6669, in placeholder\n    \"Placeholder\", dtype=dtype, shape=shape, name=name)\n  File \"/mnt/d/linuxuserhome/sanmaro/.pyenv/versions/py3_7_tf115/lib/python3.7/site-packages/tensorflow_core/python/framework/op_def_library.py\", line 794, in _apply_op_helper\n    op_def=op_def)\n  File \"/mnt/d/linuxuserhome/sanmaro/.pyenv/versions/py3_7_tf115/lib/python3.7/site-packages/tensorflow_core/python/util/deprecation.py\", line 507, in new_func\n    return func(*args, **kwargs)\n  File \"/mnt/d/linuxuserhome/sanmaro/.pyenv/versions/py3_7_tf115/lib/python3.7/site-packages/tensorflow_core/python/framework/ops.py\", line 3357, in create_op\n    attrs, op_def, compute_device)\n  File \"/mnt/d/linuxuserhome/sanmaro/.pyenv/versions/py3_7_tf115/lib/python3.7/site-packages/tensorflow_core/python/framework/ops.py\", line 3426, in _create_op_internal\n    op_def=op_def)\n  File \"/mnt/d/linuxuserhome/sanmaro/.pyenv/versions/py3_7_tf115/lib/python3.7/site-packages/tensorflow_core/python/framework/ops.py\", line 1748, in __init__\n    self._traceback = tf_stack.extract_stack()\n"
     ]
    }
   ],
   "source": [
    "print(sess.run(d))"
   ]
  },
  {
   "cell_type": "code",
   "execution_count": null,
   "id": "a4da1e88",
   "metadata": {},
   "outputs": [],
   "source": [
    "# Tensorboard\n",
    "# Tensorboard is a visualization tool that comes packaged with tensorflow. With tensorboard we can also track our loss metrics and other values to see how they are changing over training steps\n",
    "# For using tensorboard, we can save our graphs with by writing summaries about them with summary writers. Summaries are like condensed information about models.\n",
    "\n",
    "# We have to pass the directory name where our graph log files will be saved and the computational graph we want to save into the summary writer object when calling it.\n",
    "# sess.graph contains the default computational graph for this session and writer writes it into the directory provided in logdir parameter."
   ]
  },
  {
   "cell_type": "code",
   "execution_count": 18,
   "id": "094c890e",
   "metadata": {},
   "outputs": [],
   "source": [
    "writer =  tf.summary.FileWriter(logdir='./logs/first_graph', graph=sess.graph)\n",
    "writer.close()"
   ]
  },
  {
   "cell_type": "code",
   "execution_count": null,
   "id": "645abc1c",
   "metadata": {},
   "outputs": [],
   "source": [
    "# To run tensorboard, use the following command in the terminal of linux or MACOS"
   ]
  },
  {
   "cell_type": "code",
   "execution_count": null,
   "id": "603fd0c2",
   "metadata": {},
   "outputs": [],
   "source": [
    "tensorboard --logdir = path/to/log-directory"
   ]
  },
  {
   "cell_type": "code",
   "execution_count": null,
   "id": "639e2458",
   "metadata": {},
   "outputs": [],
   "source": [
    "# in windows, use tensorboard --logdir path/to/log-directory\n",
    "# 위예에서 logdir 는 './logs/first_graph'이다. "
   ]
  },
  {
   "cell_type": "code",
   "execution_count": null,
   "id": "d1884673",
   "metadata": {},
   "outputs": [],
   "source": [
    "tensorboard --logdir=./logs/first_graph"
   ]
  },
  {
   "cell_type": "code",
   "execution_count": null,
   "id": "29cd8189",
   "metadata": {},
   "outputs": [],
   "source": [
    "# Tensorboard's default port is 6006. So if you go to http://localhost:6006/#graphs tensorboard will be there."
   ]
  },
  {
   "cell_type": "code",
   "execution_count": null,
   "id": "0637a549",
   "metadata": {},
   "outputs": [],
   "source": [
    "# Note : Delete summary directory if you want to re-run the code to run from clean state"
   ]
  },
  {
   "cell_type": "code",
   "execution_count": null,
   "id": "ec271e14",
   "metadata": {},
   "outputs": [],
   "source": [
    "# Linear Regression From Scratch\n",
    "# Linear Regression is a simple but powerful commonly used technique used in both statistics and machine learning.\n",
    "# It's a linear model, in other words, it assumes a linear relationship between the input(x) and the output(y). Formally,\n",
    "# the model assumes that we can get the output value using a linear combination of the input values.\n",
    "\n",
    "# In a simple dataset with only one feature and one output to predict,  the form of the equation looks like\n",
    "#                  Y = W*X +B\n",
    "# We can see that for different values of input X we can get the predictions by using the equation."
   ]
  },
  {
   "cell_type": "code",
   "execution_count": null,
   "id": "16f115c4",
   "metadata": {},
   "outputs": [],
   "source": [
    "# First we are going to create our model parameter, W and b which stands for weight and bias"
   ]
  },
  {
   "cell_type": "code",
   "execution_count": 19,
   "id": "270544c2",
   "metadata": {},
   "outputs": [],
   "source": [
    "# Model Parameters\n",
    "W = tf.Variable([3.0], name='weight')\n",
    "b = tf.Variable([-2.0], name='bias')"
   ]
  },
  {
   "cell_type": "code",
   "execution_count": null,
   "id": "2ff6693e",
   "metadata": {},
   "outputs": [],
   "source": [
    "# We create two placholders X and y for the training set and labels. We'll feed the inputs to them during training."
   ]
  },
  {
   "cell_type": "code",
   "execution_count": 20,
   "id": "c19036dd",
   "metadata": {},
   "outputs": [],
   "source": [
    "# Model inptus\n",
    "# training data (features)\n",
    "X = tf.placeholder(tf.float32)\n",
    "# training data labels\n",
    "Y = tf.placeholder(tf.float32)"
   ]
  },
  {
   "cell_type": "code",
   "execution_count": null,
   "id": "d9510125",
   "metadata": {},
   "outputs": [],
   "source": [
    "# We define the model like the equations specified above for a single feature."
   ]
  },
  {
   "cell_type": "code",
   "execution_count": 21,
   "id": "6f65f51f",
   "metadata": {},
   "outputs": [],
   "source": [
    "# Model definition\n",
    "prediction = W*X+b"
   ]
  },
  {
   "cell_type": "code",
   "execution_count": null,
   "id": "62c8e0c9",
   "metadata": {},
   "outputs": [],
   "source": [
    "# We'll use sum of squared errors as our loss function. To implement it, for each instance we calculater the error first. Error is the difference between the prediction we get from the model and the original values\n",
    "# we were supposed to get. Then we square the error and add them up.\n",
    "# Since we are summing the squared errors or residuals (another name for errors) it's alos called the OLS or\n",
    "# ordinary least squares method. Note that errors are calculated for each sample or instnce, while the loss tell us how good our model is performing on the whole dataset."
   ]
  },
  {
   "cell_type": "code",
   "execution_count": 22,
   "id": "d25a11e7",
   "metadata": {},
   "outputs": [],
   "source": [
    "# loss function. Here we use sum of squared errors.\n",
    "loss = tf.reduce_sum(tf.square(prediction-Y))"
   ]
  },
  {
   "cell_type": "code",
   "execution_count": null,
   "id": "5c17ce6f",
   "metadata": {},
   "outputs": [],
   "source": [
    "# Optimizers are used for finding the best value for some parameters with respect to some loss function in machine learning models.\n",
    "# There's many kind of optimizers, the one we are using here is called Gradient Descent. We start with a random value for the weight and the bias.\n",
    "# The optimizer updates the wieght and the bias parameter in a direction (increasing or decreasing the numbers) to minimize the value of the loss. \n",
    "# We also provide a learning rate to use as a scale factor while updating"
   ]
  },
  {
   "cell_type": "code",
   "execution_count": 23,
   "id": "d17f7e40",
   "metadata": {},
   "outputs": [],
   "source": [
    "# training op\n",
    "train = tf.train.GradientDescentOptimizer(0.001).minimize(loss)"
   ]
  },
  {
   "cell_type": "code",
   "execution_count": null,
   "id": "625fd248",
   "metadata": {},
   "outputs": [],
   "source": [
    "# We create some random values for training set and label and feed them into the model during running the code. As\n",
    "# before we initialize all our variables before running them using global_variables_initializer.\n",
    "# We run the model for 2000 steps herr"
   ]
  },
  {
   "cell_type": "code",
   "execution_count": 24,
   "id": "ffdf9333",
   "metadata": {},
   "outputs": [],
   "source": [
    "# train data\n",
    "x = [1.1, 2.0, 3.5, 4.8]\n",
    "y = [2.0, 3.4, 4.2, 5.1]\n",
    "\n",
    "sess.run(tf.global_variables_initializer())\n",
    "for train_step in range(2000) :\n",
    "    sess.run(train, {X:x, Y:y})"
   ]
  },
  {
   "cell_type": "code",
   "execution_count": null,
   "id": "9c84ab39",
   "metadata": {},
   "outputs": [],
   "source": [
    "# We can see the final results after executing the model"
   ]
  },
  {
   "cell_type": "code",
   "execution_count": 25,
   "id": "b9e73502",
   "metadata": {},
   "outputs": [
    {
     "name": "stdout",
     "output_type": "stream",
     "text": [
      "W:[0.8422483]  b:[1.2378168] loss: 0.28800028562545776\n"
     ]
    }
   ],
   "source": [
    "weight, bias, loss = sess.run([W, b, loss], {X:x, Y:y})\n",
    "print('W:{}  b:{} loss: {}'.format(weight, bias, loss))\n"
   ]
  },
  {
   "cell_type": "code",
   "execution_count": null,
   "id": "977c9af6",
   "metadata": {},
   "outputs": [],
   "source": [
    "# Introducing Tensorflow Estimators\n",
    "# As mentioned earlier, estimators is a high level API integrated with Tensorflow that allows us to work with pre-implemented models and provides tools for quickly creating new models as need by customizing them.\n",
    "# The interface is loosely scikit-learn inspired and follows a train-evaluate-predict loop similar to scikit-learn. Estimators is the base class, canned estimators or pre-implemented models are the sub-class.\n",
    "# We are using the canned estimators in this tutorial"
   ]
  },
  {
   "cell_type": "code",
   "execution_count": null,
   "id": "acdc0e1d",
   "metadata": {},
   "outputs": [],
   "source": [
    "# Estimators deal with all the details of creating computational graphs, initializing variables, training the model and saving checkpoint and logging files for tensorboard behind the scene.\n",
    "# But to work with the estimators, we've to become comfortable with two new concepts, feature columns and nput functions. input functions are used for passing input data to the model for training and evaluation.\n",
    "# Feature columns are specifications for how the model should interprete the input data. We will cover the feature columns and input function in detail in the later sections."
   ]
  },
  {
   "cell_type": "code",
   "execution_count": null,
   "id": "9a6ff287",
   "metadata": {},
   "outputs": [],
   "source": [
    "# we have some training data on airbnb rental pricings and their prices.\n",
    "# we want to predict the price of those rentals from the features in the dataset.\n",
    "# we also know that we need a machine learning model to do that.\n",
    "# Tensorflow is offering pre-made model implementations for doing it and giving functionalities for representing our features in differenct ways using the feature columns.\n",
    "# We just need to build an input function and send our data to the estimators.\n",
    "# Feature columns willl connect the data from the input function to the estimators for training and evaluating the model."
   ]
  },
  {
   "cell_type": "code",
   "execution_count": null,
   "id": "25eb390c",
   "metadata": {},
   "outputs": [],
   "source": [
    "# General workflow\n",
    "# 1. Loading the libraries and dataset\n",
    "# 2. Data preprocessing\n",
    "# 3. Defining the feature columns\n",
    "# 4. Building input function\n",
    "# 5. Model Instantiation, training and evaluation\n",
    "# 6. Generating prediction\n",
    "# 7. Visualizing the model and the loss metrics using Tensorboard\n"
   ]
  },
  {
   "cell_type": "code",
   "execution_count": null,
   "id": "0ca24356",
   "metadata": {},
   "outputs": [],
   "source": [
    "# Working with Canned Estimators\n",
    "\n",
    "# Send the features and labels to the model\n",
    "# def input_fn():\n",
    "#     ......\n",
    "#     return {'security_deposit':[......],\n",
    "#             'beds':[......],\n",
    "#             'bathrooms':[.....],\n",
    "#             'minimum_nights': [.......],\n",
    "#              ....}, # dictionary of features\n",
    "#             [83, 25, 150.00, ...]  } # labels.."
   ]
  },
  {
   "cell_type": "code",
   "execution_count": null,
   "id": "c7ffddc7",
   "metadata": {},
   "outputs": [],
   "source": [
    "# feature_columns\n",
    "\n",
    "# feature_columns = [\n",
    "#        numeric_column('security_deposit'),\n",
    "#        numeric_column('beds'),\n",
    "#        numeric_column('bathrooms'),\n",
    "#        numeric_column(minimum_naights)\n",
    "#         ......\n",
    "#      ] # match the feature_names from input_fn"
   ]
  },
  {
   "cell_type": "code",
   "execution_count": null,
   "id": "a97d35a8",
   "metadata": {},
   "outputs": [],
   "source": [
    "# estimators..\n",
    "# regressor = tf.estimator.LinearRegressor(\n",
    "#        feature_columns = feature_columns, # 앞서 정의한 feature_columns\n",
    "#        model_dir = PATH\n",
    "#        )"
   ]
  },
  {
   "cell_type": "code",
   "execution_count": null,
   "id": "b5a16056",
   "metadata": {},
   "outputs": [],
   "source": [
    "# regressor.train(input_fn = train_input_fn)\n",
    "# regressor.evaluate(input_fn = eval_input_fn)"
   ]
  },
  {
   "cell_type": "code",
   "execution_count": null,
   "id": "6be4f3d7",
   "metadata": {},
   "outputs": [],
   "source": [
    "# input_fn에서는 입력과 라벨에 해당하는 placeholder에 들어가는 feed_dict에 해당하는 것을 반환하는 것 같음..."
   ]
  },
  {
   "cell_type": "code",
   "execution_count": 26,
   "id": "1f66b949",
   "metadata": {},
   "outputs": [],
   "source": [
    "#Load the libraries\n",
    "import pandas as pd\n",
    "import numpy as np\n",
    "import matplotlib.pyplot as plt\n",
    "import tensorflow as tf\n",
    "\n",
    "%matplotlib inline\n",
    "\n",
    "# only displays the most important warnings\n",
    "#tf.logging.set_verbosity(tf.logging.FATAL)\n",
    "tf.logging.set_verbosity(tf.logging.INFO)"
   ]
  },
  {
   "cell_type": "code",
   "execution_count": null,
   "id": "a3bffd21",
   "metadata": {},
   "outputs": [],
   "source": [
    "# Data Overview\n",
    "# The dataset has 3585 rows and 95 columns. However we will only use a subset of the features. These features will be used.\n",
    "# property_type : Categorical. Describes the type of the property.\n",
    "# room_type :  Categorical. Describes the type of the room.\n",
    "# bathrooms : Number of Bathrooms.\n",
    "# bedrooms : Number of bedrooms.\n",
    "# beds : Number of beds\n",
    "# bed_type : Type of the bed in listing. Categorical feature.\n",
    "# accomodates : Number of people the rental will accommodate.\n",
    "# host_total_listings_count :  number of listings posted by the host\n",
    "# number_of_reviews : Number of reviews received by the rental\n",
    "# review_scores_value : Average value of the reviews for this listing\n",
    "# neighborhood_cleansed : Categorical feature. Describes the neighborhood of the rental\n",
    "# cleaning_fee : Cleaning fee for the rental\n",
    "# minimum_nights : Minimum nights the guest must stay to be considered for rental.\n",
    "# security_deposti : Amount of security deposit the guest has to pay to the host before renting.\n",
    "# host_is_superhost : Categorical. True if the host is a superhost. False otherwise.\n",
    "# instant_bookable : Categorical. True if the rental is instantly bookable. False otherwise.\n",
    "# price : Continuous target variable for the regression task."
   ]
  },
  {
   "cell_type": "code",
   "execution_count": null,
   "id": "26cd83ff",
   "metadata": {},
   "outputs": [],
   "source": [
    "# Now we'll load the datset with pandas. Tensorflow integrates well with pandas and provides many useful functions to work with it."
   ]
  },
  {
   "cell_type": "code",
   "execution_count": 29,
   "id": "8e332ed8",
   "metadata": {},
   "outputs": [
    {
     "name": "stdout",
     "output_type": "stream",
     "text": [
      "(3585, 17)\n"
     ]
    },
    {
     "data": {
      "text/html": [
       "<div>\n",
       "<style scoped>\n",
       "    .dataframe tbody tr th:only-of-type {\n",
       "        vertical-align: middle;\n",
       "    }\n",
       "\n",
       "    .dataframe tbody tr th {\n",
       "        vertical-align: top;\n",
       "    }\n",
       "\n",
       "    .dataframe thead th {\n",
       "        text-align: right;\n",
       "    }\n",
       "</style>\n",
       "<table border=\"1\" class=\"dataframe\">\n",
       "  <thead>\n",
       "    <tr style=\"text-align: right;\">\n",
       "      <th></th>\n",
       "      <th>host_is_superhost</th>\n",
       "      <th>host_total_listings_count</th>\n",
       "      <th>neighbourhood_cleansed</th>\n",
       "      <th>property_type</th>\n",
       "      <th>room_type</th>\n",
       "      <th>accommodates</th>\n",
       "      <th>bathrooms</th>\n",
       "      <th>bedrooms</th>\n",
       "      <th>beds</th>\n",
       "      <th>bed_type</th>\n",
       "      <th>price</th>\n",
       "      <th>security_deposit</th>\n",
       "      <th>cleaning_fee</th>\n",
       "      <th>minimum_nights</th>\n",
       "      <th>number_of_reviews</th>\n",
       "      <th>review_scores_value</th>\n",
       "      <th>instant_bookable</th>\n",
       "    </tr>\n",
       "  </thead>\n",
       "  <tbody>\n",
       "    <tr>\n",
       "      <th>0</th>\n",
       "      <td>f</td>\n",
       "      <td>1</td>\n",
       "      <td>Roslindale</td>\n",
       "      <td>House</td>\n",
       "      <td>Entire home/apt</td>\n",
       "      <td>4</td>\n",
       "      <td>1.5</td>\n",
       "      <td>2.0</td>\n",
       "      <td>3.0</td>\n",
       "      <td>Real Bed</td>\n",
       "      <td>$250.00</td>\n",
       "      <td>NaN</td>\n",
       "      <td>$35.00</td>\n",
       "      <td>2</td>\n",
       "      <td>0</td>\n",
       "      <td>NaN</td>\n",
       "      <td>f</td>\n",
       "    </tr>\n",
       "    <tr>\n",
       "      <th>1</th>\n",
       "      <td>f</td>\n",
       "      <td>1</td>\n",
       "      <td>Roslindale</td>\n",
       "      <td>Apartment</td>\n",
       "      <td>Private room</td>\n",
       "      <td>2</td>\n",
       "      <td>1.0</td>\n",
       "      <td>1.0</td>\n",
       "      <td>1.0</td>\n",
       "      <td>Real Bed</td>\n",
       "      <td>$65.00</td>\n",
       "      <td>$95.00</td>\n",
       "      <td>$10.00</td>\n",
       "      <td>2</td>\n",
       "      <td>36</td>\n",
       "      <td>9.0</td>\n",
       "      <td>t</td>\n",
       "    </tr>\n",
       "  </tbody>\n",
       "</table>\n",
       "</div>"
      ],
      "text/plain": [
       "  host_is_superhost  host_total_listings_count neighbourhood_cleansed  \\\n",
       "0                 f                          1             Roslindale   \n",
       "1                 f                          1             Roslindale   \n",
       "\n",
       "  property_type        room_type  accommodates  bathrooms  bedrooms  beds  \\\n",
       "0         House  Entire home/apt             4        1.5       2.0   3.0   \n",
       "1     Apartment     Private room             2        1.0       1.0   1.0   \n",
       "\n",
       "   bed_type    price security_deposit cleaning_fee  minimum_nights  \\\n",
       "0  Real Bed  $250.00              NaN       $35.00               2   \n",
       "1  Real Bed   $65.00           $95.00       $10.00               2   \n",
       "\n",
       "   number_of_reviews  review_scores_value instant_bookable  \n",
       "0                  0                  NaN                f  \n",
       "1                 36                  9.0                t  "
      ]
     },
     "execution_count": 29,
     "metadata": {},
     "output_type": "execute_result"
    }
   ],
   "source": [
    "used_features = ['property_type', 'room_type', 'bathrooms', 'bedrooms', 'beds', 'bed_type',\n",
    "                'accommodates', 'host_total_listings_count', 'number_of_reviews', 'review_scores_value',\n",
    "                'neighbourhood_cleansed', 'cleaning_fee', 'minimum_nights', 'security_deposit', 'host_is_superhost',\n",
    "                'instant_bookable', 'price']\n",
    "boston = pd.read_csv('./data/boston_listings.csv', usecols= used_features)\n",
    "print(boston.shape)\n",
    "boston.head()\n",
    "boston.head(2)"
   ]
  },
  {
   "cell_type": "code",
   "execution_count": 30,
   "id": "0c73263b",
   "metadata": {},
   "outputs": [
    {
     "data": {
      "text/html": [
       "<div>\n",
       "<style scoped>\n",
       "    .dataframe tbody tr th:only-of-type {\n",
       "        vertical-align: middle;\n",
       "    }\n",
       "\n",
       "    .dataframe tbody tr th {\n",
       "        vertical-align: top;\n",
       "    }\n",
       "\n",
       "    .dataframe thead th {\n",
       "        text-align: right;\n",
       "    }\n",
       "</style>\n",
       "<table border=\"1\" class=\"dataframe\">\n",
       "  <thead>\n",
       "    <tr style=\"text-align: right;\">\n",
       "      <th></th>\n",
       "      <th>host_is_superhost</th>\n",
       "      <th>host_total_listings_count</th>\n",
       "      <th>neighbourhood_cleansed</th>\n",
       "      <th>property_type</th>\n",
       "      <th>room_type</th>\n",
       "      <th>accommodates</th>\n",
       "      <th>bathrooms</th>\n",
       "      <th>bedrooms</th>\n",
       "      <th>beds</th>\n",
       "      <th>bed_type</th>\n",
       "      <th>price</th>\n",
       "      <th>security_deposit</th>\n",
       "      <th>cleaning_fee</th>\n",
       "      <th>minimum_nights</th>\n",
       "      <th>number_of_reviews</th>\n",
       "      <th>review_scores_value</th>\n",
       "      <th>instant_bookable</th>\n",
       "    </tr>\n",
       "  </thead>\n",
       "  <tbody>\n",
       "    <tr>\n",
       "      <th>0</th>\n",
       "      <td>f</td>\n",
       "      <td>1</td>\n",
       "      <td>Roslindale</td>\n",
       "      <td>House</td>\n",
       "      <td>Entire home/apt</td>\n",
       "      <td>4</td>\n",
       "      <td>1.5</td>\n",
       "      <td>2.0</td>\n",
       "      <td>3.0</td>\n",
       "      <td>Real Bed</td>\n",
       "      <td>$250.00</td>\n",
       "      <td>NaN</td>\n",
       "      <td>$35.00</td>\n",
       "      <td>2</td>\n",
       "      <td>0</td>\n",
       "      <td>NaN</td>\n",
       "      <td>f</td>\n",
       "    </tr>\n",
       "    <tr>\n",
       "      <th>1</th>\n",
       "      <td>f</td>\n",
       "      <td>1</td>\n",
       "      <td>Roslindale</td>\n",
       "      <td>Apartment</td>\n",
       "      <td>Private room</td>\n",
       "      <td>2</td>\n",
       "      <td>1.0</td>\n",
       "      <td>1.0</td>\n",
       "      <td>1.0</td>\n",
       "      <td>Real Bed</td>\n",
       "      <td>$65.00</td>\n",
       "      <td>$95.00</td>\n",
       "      <td>$10.00</td>\n",
       "      <td>2</td>\n",
       "      <td>36</td>\n",
       "      <td>9.0</td>\n",
       "      <td>t</td>\n",
       "    </tr>\n",
       "    <tr>\n",
       "      <th>2</th>\n",
       "      <td>t</td>\n",
       "      <td>1</td>\n",
       "      <td>Roslindale</td>\n",
       "      <td>Apartment</td>\n",
       "      <td>Private room</td>\n",
       "      <td>2</td>\n",
       "      <td>1.0</td>\n",
       "      <td>1.0</td>\n",
       "      <td>1.0</td>\n",
       "      <td>Real Bed</td>\n",
       "      <td>$65.00</td>\n",
       "      <td>NaN</td>\n",
       "      <td>NaN</td>\n",
       "      <td>3</td>\n",
       "      <td>41</td>\n",
       "      <td>10.0</td>\n",
       "      <td>f</td>\n",
       "    </tr>\n",
       "    <tr>\n",
       "      <th>3</th>\n",
       "      <td>f</td>\n",
       "      <td>1</td>\n",
       "      <td>Roslindale</td>\n",
       "      <td>House</td>\n",
       "      <td>Private room</td>\n",
       "      <td>4</td>\n",
       "      <td>1.0</td>\n",
       "      <td>1.0</td>\n",
       "      <td>2.0</td>\n",
       "      <td>Real Bed</td>\n",
       "      <td>$75.00</td>\n",
       "      <td>$100.00</td>\n",
       "      <td>$50.00</td>\n",
       "      <td>1</td>\n",
       "      <td>1</td>\n",
       "      <td>10.0</td>\n",
       "      <td>f</td>\n",
       "    </tr>\n",
       "    <tr>\n",
       "      <th>4</th>\n",
       "      <td>t</td>\n",
       "      <td>1</td>\n",
       "      <td>Roslindale</td>\n",
       "      <td>House</td>\n",
       "      <td>Private room</td>\n",
       "      <td>2</td>\n",
       "      <td>1.5</td>\n",
       "      <td>1.0</td>\n",
       "      <td>2.0</td>\n",
       "      <td>Real Bed</td>\n",
       "      <td>$79.00</td>\n",
       "      <td>NaN</td>\n",
       "      <td>$15.00</td>\n",
       "      <td>2</td>\n",
       "      <td>29</td>\n",
       "      <td>10.0</td>\n",
       "      <td>f</td>\n",
       "    </tr>\n",
       "  </tbody>\n",
       "</table>\n",
       "</div>"
      ],
      "text/plain": [
       "  host_is_superhost  host_total_listings_count neighbourhood_cleansed  \\\n",
       "0                 f                          1             Roslindale   \n",
       "1                 f                          1             Roslindale   \n",
       "2                 t                          1             Roslindale   \n",
       "3                 f                          1             Roslindale   \n",
       "4                 t                          1             Roslindale   \n",
       "\n",
       "  property_type        room_type  accommodates  bathrooms  bedrooms  beds  \\\n",
       "0         House  Entire home/apt             4        1.5       2.0   3.0   \n",
       "1     Apartment     Private room             2        1.0       1.0   1.0   \n",
       "2     Apartment     Private room             2        1.0       1.0   1.0   \n",
       "3         House     Private room             4        1.0       1.0   2.0   \n",
       "4         House     Private room             2        1.5       1.0   2.0   \n",
       "\n",
       "   bed_type    price security_deposit cleaning_fee  minimum_nights  \\\n",
       "0  Real Bed  $250.00              NaN       $35.00               2   \n",
       "1  Real Bed   $65.00           $95.00       $10.00               2   \n",
       "2  Real Bed   $65.00              NaN          NaN               3   \n",
       "3  Real Bed   $75.00          $100.00       $50.00               1   \n",
       "4  Real Bed   $79.00              NaN       $15.00               2   \n",
       "\n",
       "   number_of_reviews  review_scores_value instant_bookable  \n",
       "0                  0                  NaN                f  \n",
       "1                 36                  9.0                t  \n",
       "2                 41                 10.0                f  \n",
       "3                  1                 10.0                f  \n",
       "4                 29                 10.0                f  "
      ]
     },
     "execution_count": 30,
     "metadata": {},
     "output_type": "execute_result"
    }
   ],
   "source": [
    "boston.head()"
   ]
  },
  {
   "cell_type": "code",
   "execution_count": null,
   "id": "8f35713c",
   "metadata": {},
   "outputs": [],
   "source": [
    "# Data Preprocessing\n",
    "# To use the features in our tensorflow model, we need to convert them to Tensors. But before that we need to takse some more data cleaning steps to prepare\n",
    "# our data for machine learning. Here's a brief overview of the cleaning steps.\n",
    "#\n",
    "# price, security_depoit and cleaning_fee are numbers, but they are loaded as strings. These numbers also contain some non-numeric characters($ and ,).\n",
    "#      We'll remove the non-numeric characters from the features, conver them to float and fill the missing values with the median value of each feature.\n",
    "#\n",
    "# Similarly, some features like bathroom, bed has some missing values which are also filled with the median.\n",
    "# property_type is categorical variable. The missing values are filled with the most common category Apartment."
   ]
  },
  {
   "cell_type": "code",
   "execution_count": 31,
   "id": "11f19e32",
   "metadata": {},
   "outputs": [],
   "source": [
    "for feature in  ['cleaning_fee', 'security_deposit', 'price']:\n",
    "    boston[feature] = boston[feature].map(lambda x: x.replace('$','').replace(',', ''), na_action='ignore')\n",
    "    boston[feature] = boston[feature].astype(float)\n",
    "    boston[feature].fillna(boston[feature].median(), inplace=True)\n",
    "\n",
    "for feature in ['bathrooms', 'bedrooms', 'beds', 'review_scores_value']:\n",
    "    boston[feature].fillna(boston[feature].median(), inplace=True)\n",
    "    \n",
    "boston['property_type'].fillna('Apartment', inplace=True)"
   ]
  },
  {
   "cell_type": "code",
   "execution_count": null,
   "id": "f374125f",
   "metadata": {},
   "outputs": [],
   "source": [
    "# Before moving on to the other features, we check out target variable price."
   ]
  },
  {
   "cell_type": "code",
   "execution_count": 32,
   "id": "e5f1a764",
   "metadata": {},
   "outputs": [
    {
     "data": {
      "text/plain": [
       "Text(0.5, 1.0, 'Price histogram before subsetting and log-transformation')"
      ]
     },
     "execution_count": 32,
     "metadata": {},
     "output_type": "execute_result"
    },
    {
     "data": {
      "image/png": "[encoded data removed]",
      "text/plain": [
       "<Figure size 432x288 with 1 Axes>"
      ]
     },
     "metadata": {
      "needs_background": "light"
     },
     "output_type": "display_data"
    }
   ],
   "source": [
    "boston['price'].plot(kind='hist', grid=True)\n",
    "plt.title('Price histogram before subsetting and log-transformation')"
   ]
  },
  {
   "cell_type": "code",
   "execution_count": 33,
   "id": "0a8eed1e",
   "metadata": {},
   "outputs": [
    {
     "data": {
      "text/plain": [
       "8.521483565683951"
      ]
     },
     "execution_count": 33,
     "metadata": {},
     "output_type": "execute_result"
    }
   ],
   "source": [
    "boston['price'].skew()"
   ]
  },
  {
   "cell_type": "code",
   "execution_count": null,
   "id": "c7b88bf0",
   "metadata": {},
   "outputs": [],
   "source": [
    "# Prices are heavily skewed in this dataset. In the histogram we can also see most of the data falls under 500. So we'll use a subset of our dataset where the price\n",
    "# ranges from 50-500 for now to remove very large and very small prices. We'll also log-transform the target variable to reduce skewness."
   ]
  },
  {
   "cell_type": "code",
   "execution_count": 34,
   "id": "69768800",
   "metadata": {},
   "outputs": [
    {
     "name": "stdout",
     "output_type": "stream",
     "text": [
      "(3269, 17)\n"
     ]
    },
    {
     "data": {
      "image/png": "[encoded data removed]",
      "text/plain": [
       "<Figure size 432x288 with 1 Axes>"
      ]
     },
     "metadata": {
      "needs_background": "light"
     },
     "output_type": "display_data"
    }
   ],
   "source": [
    "boston = boston[(boston['price']>50)&(boston['price']<500)]\n",
    "print(boston.shape)\n",
    "target = np.log(boston.price)\n",
    "target.hist()\n",
    "plt.title('price distribution after the subsetting and log-tansformation');"
   ]
  },
  {
   "cell_type": "code",
   "execution_count": 35,
   "id": "1cd65187",
   "metadata": {},
   "outputs": [
    {
     "ename": "NameError",
     "evalue": "name 'featrures' is not defined",
     "output_type": "error",
     "traceback": [
      "\u001b[0;31m---------------------------------------------------------------------------\u001b[0m",
      "\u001b[0;31mNameError\u001b[0m                                 Traceback (most recent call last)",
      "\u001b[0;32m<ipython-input-35-4b478cf02a9c>\u001b[0m in \u001b[0;36m<module>\u001b[0;34m\u001b[0m\n\u001b[1;32m      1\u001b[0m \u001b[0mfeatures\u001b[0m \u001b[0;34m=\u001b[0m \u001b[0mboston\u001b[0m\u001b[0;34m.\u001b[0m\u001b[0mdrop\u001b[0m\u001b[0;34m(\u001b[0m\u001b[0;34m'price'\u001b[0m\u001b[0;34m,\u001b[0m \u001b[0maxis\u001b[0m\u001b[0;34m=\u001b[0m\u001b[0;36m1\u001b[0m\u001b[0;34m)\u001b[0m\u001b[0;34m\u001b[0m\u001b[0;34m\u001b[0m\u001b[0m\n\u001b[0;32m----> 2\u001b[0;31m \u001b[0mprint\u001b[0m\u001b[0;34m(\u001b[0m\u001b[0mfeatrures\u001b[0m\u001b[0;34m.\u001b[0m\u001b[0mshape\u001b[0m\u001b[0;34m)\u001b[0m\u001b[0;34m\u001b[0m\u001b[0;34m\u001b[0m\u001b[0m\n\u001b[0m",
      "\u001b[0;31mNameError\u001b[0m: name 'featrures' is not defined"
     ]
    }
   ],
   "source": [
    "features = boston.drop('price', axis=1)\n"
   ]
  },
  {
   "cell_type": "code",
   "execution_count": 36,
   "id": "cf304e75",
   "metadata": {},
   "outputs": [
    {
     "name": "stdout",
     "output_type": "stream",
     "text": [
      "(3269, 16)\n"
     ]
    }
   ],
   "source": [
    "print(features.shape)"
   ]
  },
  {
   "cell_type": "code",
   "execution_count": 37,
   "id": "a21be49d",
   "metadata": {},
   "outputs": [
    {
     "data": {
      "text/html": [
       "<div>\n",
       "<style scoped>\n",
       "    .dataframe tbody tr th:only-of-type {\n",
       "        vertical-align: middle;\n",
       "    }\n",
       "\n",
       "    .dataframe tbody tr th {\n",
       "        vertical-align: top;\n",
       "    }\n",
       "\n",
       "    .dataframe thead th {\n",
       "        text-align: right;\n",
       "    }\n",
       "</style>\n",
       "<table border=\"1\" class=\"dataframe\">\n",
       "  <thead>\n",
       "    <tr style=\"text-align: right;\">\n",
       "      <th></th>\n",
       "      <th>host_is_superhost</th>\n",
       "      <th>host_total_listings_count</th>\n",
       "      <th>neighbourhood_cleansed</th>\n",
       "      <th>property_type</th>\n",
       "      <th>room_type</th>\n",
       "      <th>accommodates</th>\n",
       "      <th>bathrooms</th>\n",
       "      <th>bedrooms</th>\n",
       "      <th>beds</th>\n",
       "      <th>bed_type</th>\n",
       "      <th>security_deposit</th>\n",
       "      <th>cleaning_fee</th>\n",
       "      <th>minimum_nights</th>\n",
       "      <th>number_of_reviews</th>\n",
       "      <th>review_scores_value</th>\n",
       "      <th>instant_bookable</th>\n",
       "    </tr>\n",
       "  </thead>\n",
       "  <tbody>\n",
       "    <tr>\n",
       "      <th>0</th>\n",
       "      <td>f</td>\n",
       "      <td>1</td>\n",
       "      <td>Roslindale</td>\n",
       "      <td>House</td>\n",
       "      <td>Entire home/apt</td>\n",
       "      <td>4</td>\n",
       "      <td>1.5</td>\n",
       "      <td>2.0</td>\n",
       "      <td>3.0</td>\n",
       "      <td>Real Bed</td>\n",
       "      <td>250.0</td>\n",
       "      <td>35.0</td>\n",
       "      <td>2</td>\n",
       "      <td>0</td>\n",
       "      <td>9.0</td>\n",
       "      <td>f</td>\n",
       "    </tr>\n",
       "    <tr>\n",
       "      <th>1</th>\n",
       "      <td>f</td>\n",
       "      <td>1</td>\n",
       "      <td>Roslindale</td>\n",
       "      <td>Apartment</td>\n",
       "      <td>Private room</td>\n",
       "      <td>2</td>\n",
       "      <td>1.0</td>\n",
       "      <td>1.0</td>\n",
       "      <td>1.0</td>\n",
       "      <td>Real Bed</td>\n",
       "      <td>95.0</td>\n",
       "      <td>10.0</td>\n",
       "      <td>2</td>\n",
       "      <td>36</td>\n",
       "      <td>9.0</td>\n",
       "      <td>t</td>\n",
       "    </tr>\n",
       "    <tr>\n",
       "      <th>2</th>\n",
       "      <td>t</td>\n",
       "      <td>1</td>\n",
       "      <td>Roslindale</td>\n",
       "      <td>Apartment</td>\n",
       "      <td>Private room</td>\n",
       "      <td>2</td>\n",
       "      <td>1.0</td>\n",
       "      <td>1.0</td>\n",
       "      <td>1.0</td>\n",
       "      <td>Real Bed</td>\n",
       "      <td>250.0</td>\n",
       "      <td>50.0</td>\n",
       "      <td>3</td>\n",
       "      <td>41</td>\n",
       "      <td>10.0</td>\n",
       "      <td>f</td>\n",
       "    </tr>\n",
       "    <tr>\n",
       "      <th>3</th>\n",
       "      <td>f</td>\n",
       "      <td>1</td>\n",
       "      <td>Roslindale</td>\n",
       "      <td>House</td>\n",
       "      <td>Private room</td>\n",
       "      <td>4</td>\n",
       "      <td>1.0</td>\n",
       "      <td>1.0</td>\n",
       "      <td>2.0</td>\n",
       "      <td>Real Bed</td>\n",
       "      <td>100.0</td>\n",
       "      <td>50.0</td>\n",
       "      <td>1</td>\n",
       "      <td>1</td>\n",
       "      <td>10.0</td>\n",
       "      <td>f</td>\n",
       "    </tr>\n",
       "    <tr>\n",
       "      <th>4</th>\n",
       "      <td>t</td>\n",
       "      <td>1</td>\n",
       "      <td>Roslindale</td>\n",
       "      <td>House</td>\n",
       "      <td>Private room</td>\n",
       "      <td>2</td>\n",
       "      <td>1.5</td>\n",
       "      <td>1.0</td>\n",
       "      <td>2.0</td>\n",
       "      <td>Real Bed</td>\n",
       "      <td>250.0</td>\n",
       "      <td>15.0</td>\n",
       "      <td>2</td>\n",
       "      <td>29</td>\n",
       "      <td>10.0</td>\n",
       "      <td>f</td>\n",
       "    </tr>\n",
       "  </tbody>\n",
       "</table>\n",
       "</div>"
      ],
      "text/plain": [
       "  host_is_superhost  host_total_listings_count neighbourhood_cleansed  \\\n",
       "0                 f                          1             Roslindale   \n",
       "1                 f                          1             Roslindale   \n",
       "2                 t                          1             Roslindale   \n",
       "3                 f                          1             Roslindale   \n",
       "4                 t                          1             Roslindale   \n",
       "\n",
       "  property_type        room_type  accommodates  bathrooms  bedrooms  beds  \\\n",
       "0         House  Entire home/apt             4        1.5       2.0   3.0   \n",
       "1     Apartment     Private room             2        1.0       1.0   1.0   \n",
       "2     Apartment     Private room             2        1.0       1.0   1.0   \n",
       "3         House     Private room             4        1.0       1.0   2.0   \n",
       "4         House     Private room             2        1.5       1.0   2.0   \n",
       "\n",
       "   bed_type  security_deposit  cleaning_fee  minimum_nights  \\\n",
       "0  Real Bed             250.0          35.0               2   \n",
       "1  Real Bed              95.0          10.0               2   \n",
       "2  Real Bed             250.0          50.0               3   \n",
       "3  Real Bed             100.0          50.0               1   \n",
       "4  Real Bed             250.0          15.0               2   \n",
       "\n",
       "   number_of_reviews  review_scores_value instant_bookable  \n",
       "0                  0                  9.0                f  \n",
       "1                 36                  9.0                t  \n",
       "2                 41                 10.0                f  \n",
       "3                  1                 10.0                f  \n",
       "4                 29                 10.0                f  "
      ]
     },
     "execution_count": 37,
     "metadata": {},
     "output_type": "execute_result"
    }
   ],
   "source": [
    "features.head()"
   ]
  },
  {
   "cell_type": "code",
   "execution_count": null,
   "id": "c139992b",
   "metadata": {},
   "outputs": [],
   "source": [
    "# split the data into train and test set\n",
    "# Now that we have our features and the target, we can use scikit-learn to split the data for convenience.\n",
    "# Scikit-learn provides a train_test_split function for splitting a panda DataFrame into a training and testing set.\n",
    "#\n",
    "# train_test_split accpets the features and the target as parameters and returns the randomly suffled data. We have set\n",
    "# 33% of the data in the test set and the rest are in training set.\n",
    "# The test_size parameter controls what portion of the data should be in the test set. We also set a random_state for reproducability."
   ]
  },
  {
   "cell_type": "code",
   "execution_count": 38,
   "id": "6921b961",
   "metadata": {},
   "outputs": [],
   "source": [
    "from sklearn.model_selection import train_test_split\n",
    "\n",
    "X_train, X_test, y_train, y_test = train_test_split(\n",
    "    features, target, test_size=0.33, random_state=42)"
   ]
  },
  {
   "cell_type": "code",
   "execution_count": null,
   "id": "8137fc1a",
   "metadata": {},
   "outputs": [],
   "source": [
    "# Introductin Feature Columns\n",
    "# Generally, machine learning models take numbers as input and output numbers for efficient implementation. In tensorflow, the models take Dense Tensors as input and outputs Dense Tensors.\n",
    "# But real world datsets have sprse features like product id, category, location, video id etc.\n",
    "# For large datasets, converting each of the categorical features to numerical representations often consume a huge amount of time and the process is also error rpone.\n",
    "# There are also other feature preproecessing steps like bucketization, scaling, crossing fearures, embedding etc prople often take before fedding the data to the models.\n",
    "# To simplify this process Tensorflwo offers FeatureColumns abstraction."
   ]
  },
  {
   "cell_type": "code",
   "execution_count": null,
   "id": "c1edd1a5",
   "metadata": {},
   "outputs": [],
   "source": [
    "# When we instantiate a canned estimator we have to pass it a list of FeatureColumns for the feature_column parameter.\n",
    "# FeatureColumns handle the conversioin of the sparse or dense(numerical) features to a dense Tensor usable by the core model\n",
    "#\n",
    "# The type of Feature column to use depnds on the feature type and the model type.\n",
    "# Feature type : Numeric and categorical features need to be handled differently\n",
    "# Model type : Linear models and the neural network models handle categorical features differently.\n"
   ]
  },
  {
   "cell_type": "code",
   "execution_count": null,
   "id": "acd3fc5b",
   "metadata": {},
   "outputs": [],
   "source": [
    "# Dense column\n",
    "#   - numeric_column\n",
    "#   - indicator_column\n",
    "#   - embedding_column\n",
    "#\n",
    "# categorical column\n",
    "#    - categorical_column_with_identity\n",
    "#    - categorical_column_from_vocabulary_file\n",
    "#    - categorical_column_with_vocabulary_list\n",
    "#    - categorical_column_with_hash_bucket\n",
    "#    - crossed_column\n",
    "#\n",
    "# Dense column + categorical column\n",
    "#     - bucketized_column\n",
    "#"
   ]
  },
  {
   "cell_type": "code",
   "execution_count": null,
   "id": "25435793",
   "metadata": {},
   "outputs": [],
   "source": [
    "# in this tutorial we'll show how to handle numeric and the categorical features with two different FeatureColumn.\n",
    "# To learn more about this topic, you can consult a grea tutorial published by the Tensorflow team in Google Research Blog\n",
    "\n",
    "# First we'll separate the column names of the numeric features and the categorical features."
   ]
  },
  {
   "cell_type": "code",
   "execution_count": 51,
   "id": "c328ac79",
   "metadata": {},
   "outputs": [],
   "source": [
    "# Get all the numeric feature names\n",
    "numeric_columns = ['host_total_listings_count', 'accommodates', 'bathrooms', 'bedrooms', 'beds',\n",
    "                   'security_deposit', 'cleaning_fee', 'minimum_nights', 'number_of_reviews', 'review_scores_value']\n",
    "\n",
    "# Get all the categorical featur names that contains strings\n",
    "categorical_columns = ['host_is_superhost', 'neighbourhood_cleansed', 'property_type', 'room_type', 'bed_type', \n",
    "                       'instant_bookable']"
   ]
  },
  {
   "cell_type": "code",
   "execution_count": null,
   "id": "5d4e56f7",
   "metadata": {},
   "outputs": [],
   "source": [
    "# Numeric Feature Columns\n",
    "# Numeric features can be represented by numeric_column which is used for real valued features. When we create a numeric_column we have to pass a\n",
    "# unique string to its key parameter. The value of key will be used as the name of the column. We can also specify the data type or shape of the numeric_column if necesary.\n",
    "# but here we will just use the defaults.\n",
    "#\n",
    "# We use a list comprehension to create numeric_column for all the numeric features. We basically create a numeric_column for each column in the numeric_columns list we made before."
   ]
  },
  {
   "cell_type": "code",
   "execution_count": 52,
   "id": "3055c52e",
   "metadata": {},
   "outputs": [
    {
     "name": "stdout",
     "output_type": "stream",
     "text": [
      "NumericColumn(key='host_total_listings_count', shape=(1,), default_value=None, dtype=tf.float32, normalizer_fn=None)\n"
     ]
    }
   ],
   "source": [
    "numeric_features = [tf.feature_column.numeric_column(key=column) for column in numeric_columns]\n",
    "\n",
    "print(numeric_features[0])\n"
   ]
  },
  {
   "cell_type": "code",
   "execution_count": null,
   "id": "bd32a0fb",
   "metadata": {},
   "outputs": [],
   "source": [
    "# Categorical Feature Columns\n",
    "# There are many ways to handle categorical featurs in tensorflow.\n",
    "# categorical_column_with_vocabulary_list is just one of them. For small number of categories we give the categorical column \n",
    "# the fixed list of values the column will take. It represents each categorical feature in it's one-hot vector representation.\n",
    "#\n",
    "# In the one hot representation we replace each categorical instance with a n-dimenstional boolearn vector which has the size of the number\n",
    "# of categories in the feature and marks the presence and absence of each category with 1 and 0. For example if we have a feature 'Gender' with \n",
    "# two categories (male, female), each time we see 'male' we will replace it with a vector [1,0] and each time we see 'female' \n",
    "# we'll replace it with a vector [0,1]\n",
    "#\n",
    "# categorical_column_with_vocabulary_list must have following inputs:\n",
    "#  key : a unique string identifying the input feature which would be used as the name of the column\n",
    "#  vocabulary_list : An ordered list defining the possible values for this categorical feature\n",
    "#\n",
    "# The syntax goes like this."
   ]
  },
  {
   "cell_type": "code",
   "execution_count": 53,
   "id": "f7ca2179",
   "metadata": {},
   "outputs": [],
   "source": [
    "Property_type = ['apartment', 'condo', 'apartment', 'villa', 'house', 'house', ...]\n",
    "property_column = tf.feature_column.categorical_column_with_vocabulary_list(key='Property_type', \n",
    "                                vocabulary_list=['house', 'apartment', 'condo', 'villa'])"
   ]
  },
  {
   "cell_type": "code",
   "execution_count": null,
   "id": "6cdc0878",
   "metadata": {},
   "outputs": [],
   "source": [
    "# Categorical column representation of 'Property_type' feature\n",
    "# house --> [1, 0, 0, 0]\n",
    "# apartment ===> [ 0, 1, 0, 0]\n",
    "# condo ==> [0, 0, 1, 0]\n",
    "# villa ==> [0, 0, 0, 1]"
   ]
  },
  {
   "cell_type": "code",
   "execution_count": null,
   "id": "5cac8c1c",
   "metadata": {},
   "outputs": [],
   "source": [
    "# Other feature column for categorical features are\n",
    "# - categorical_column_with_identity : returns the column as it is\n",
    "# - categorical_column_from_vocabulary_file : instead of giving the column values in a list, we read it from a file\n",
    "# - categorical_column_with_hash_bucket : If the number of values a categorical column can take is really large, instead of writing all the\n",
    "#      possible values in a list and giving it, we can use hashing to let tensorlfow take care of it behind the scene. But ehere's a chance of hash collision\n",
    "#      where two or more ctegories can be mapped to same place.\n",
    "# - crossed_column : we can cross a categorical feature with a numerical or another categorical feature. For example, \n",
    "#      let's say we take a categorical feature 'Gender' and another feature Education, we can create new features like \n",
    "#      female_x_phd or female_x_bachelors."
   ]
  },
  {
   "cell_type": "code",
   "execution_count": 54,
   "id": "7dd4a107",
   "metadata": {},
   "outputs": [
    {
     "name": "stdout",
     "output_type": "stream",
     "text": [
      "VocabularyListCategoricalColumn(key='room_type', vocabulary_list=('Entire home/apt', 'Private room', 'Shared room'), dtype=tf.string, default_value=-1, num_oov_buckets=0)\n"
     ]
    }
   ],
   "source": [
    "categorical_features = [tf.feature_column.categorical_column_with_vocabulary_list(key=column, vocabulary_list=features[column].unique())\n",
    "                           for column in categorical_columns]\n",
    "\n",
    "print(categorical_features[3])"
   ]
  },
  {
   "cell_type": "code",
   "execution_count": null,
   "id": "9659e040",
   "metadata": {},
   "outputs": [],
   "source": [
    "# In this case, use another list comprehension to create all the categorical feature columns directly instead of writing our the vocabulary list for all of them.\n",
    "# featues[column].unique returns a set vocabulary_list parameter to those values. Then we combine all the numeric and the categorical feature columns to one list so that\n",
    "# we can pass it to our canned estimator."
   ]
  },
  {
   "cell_type": "code",
   "execution_count": null,
   "id": "2972372b",
   "metadata": {},
   "outputs": [],
   "source": []
  },
  {
   "cell_type": "code",
   "execution_count": 55,
   "id": "3aae2596",
   "metadata": {},
   "outputs": [],
   "source": [
    "linear_features = numeric_features + categorical_features"
   ]
  },
  {
   "cell_type": "code",
   "execution_count": null,
   "id": "dcc08cf2",
   "metadata": {},
   "outputs": [],
   "source": [
    "# Build Input function\n",
    "# When we train our model we have to pass the features and the labels to the model. Estimators require that we use an input function for this.\n",
    "# The input function must return a tuple containing two elements.\n",
    "# 1.A dictionary that contains the feature column names as key and maps them to the tensors containing the feature data for a training batch\n",
    "# 2. A list of lables for the training batch."
   ]
  },
  {
   "cell_type": "code",
   "execution_count": null,
   "id": "185a0781",
   "metadata": {},
   "outputs": [],
   "source": [
    "# The structure of an input function looks lilke this\n",
    "#\n",
    "# def my_input_fn():\n",
    "#    #preprocess your data here...\n",
    "#\n",
    "#    # ....\n",
    "#    # then return\n",
    "#    #  1) mapping of feature columns to Tesnsors with the corresponding feature data\n",
    "#    # and 2) a Tensor containing labels\n",
    "#    return feature_cols, labels"
   ]
  },
  {
   "cell_type": "code",
   "execution_count": null,
   "id": "adc84552",
   "metadata": {},
   "outputs": [],
   "source": [
    "# Luckily tensorflow provides functionality for feeding a pandas Dataframe straight into a tensorflow estimator with the pandas_input_fn function.\n",
    "# pandas_input_fn has many parameters but we will use the following\n",
    "#   x : pandas DataFrame object that has the features\n",
    "#   y : pandas Series object that has the labels\n",
    "#   batch_size : a number specifying the batch size\n",
    "#   shuffle : boolean whether to shuffle the data or not\n",
    "#   num_epochs : int. number of epochs to iterate over the data. one epoch means going over all the training data once. None means it will cycle throughinput data forever."
   ]
  },
  {
   "cell_type": "code",
   "execution_count": null,
   "id": "e1f8e603",
   "metadata": {},
   "outputs": [],
   "source": [
    "# Note that pandas_input_fn returns an input function that would feed the data to the tensorflow model. Here we create two input functions \n",
    "# training_input_fn and eval_input_fn that takes the training and test set features and labels respectively\n",
    "\n",
    "#\n",
    "# num_epoch is set to None in the training_input_fn because we want to go over the training dataset multiple times as the model trains.\n",
    "# We want to go over the test dataset only once to evaluate the model, so we set num_epoch to 1"
   ]
  },
  {
   "cell_type": "code",
   "execution_count": 56,
   "id": "6491fcee",
   "metadata": {},
   "outputs": [],
   "source": [
    "# Create training input function\n",
    "training_input_fn = tf.estimator.inputs.pandas_input_fn(x=X_train,\n",
    "                                                       y=y_train,\n",
    "                                                       batch_size=32,\n",
    "                                                       shuffle=True,\n",
    "                                                       num_epochs = None)\n",
    "\n",
    "# create testing input function\n",
    "eval_input_fn = tf.estimator.inputs.pandas_input_fn(x=X_test,\n",
    "                                                   y=y_test,\n",
    "                                                   batch_size=32,\n",
    "                                                   shuffle=False,\n",
    "                                                   num_epochs=1)"
   ]
  },
  {
   "cell_type": "code",
   "execution_count": null,
   "id": "e89d2d4d",
   "metadata": {},
   "outputs": [],
   "source": [
    "# instantiate Model\n",
    "# We instantiate the linear model by passing the list containing the feature columns to the feature_columns parameter. We also specify a model direcotry with the model_dir parameter\n",
    "# where tensorflow will store the model graph and other information. \n",
    "# We'll be abte to visualize the model architecture and the loss metrics later with tensorboard using them.\n",
    "# \n",
    "# We can choose different optimizers by using the optimizer parameter, but we'll go with the defaults here. The default loss function is sum of squared errors."
   ]
  },
  {
   "cell_type": "code",
   "execution_count": 57,
   "id": "7c78c7c1",
   "metadata": {},
   "outputs": [
    {
     "name": "stdout",
     "output_type": "stream",
     "text": [
      "INFO:tensorflow:Using default config.\n",
      "INFO:tensorflow:Using config: {'_model_dir': './model/linear_regressor', '_tf_random_seed': None, '_save_summary_steps': 100, '_save_checkpoints_steps': None, '_save_checkpoints_secs': 600, '_session_config': allow_soft_placement: true\n",
      "graph_options {\n",
      "  rewrite_options {\n",
      "    meta_optimizer_iterations: ONE\n",
      "  }\n",
      "}\n",
      ", '_keep_checkpoint_max': 5, '_keep_checkpoint_every_n_hours': 10000, '_log_step_count_steps': 100, '_train_distribute': None, '_device_fn': None, '_protocol': None, '_eval_distribute': None, '_experimental_distribute': None, '_experimental_max_worker_delay_secs': None, '_session_creation_timeout_secs': 7200, '_service': None, '_cluster_spec': <tensorflow.python.training.server_lib.ClusterSpec object at 0x7f154890bc90>, '_task_type': 'worker', '_task_id': 0, '_global_id_in_cluster': 0, '_master': '', '_evaluation_master': '', '_is_chief': True, '_num_ps_replicas': 0, '_num_worker_replicas': 1}\n"
     ]
    }
   ],
   "source": [
    "linear_regressor = tf.estimator.LinearRegressor(feature_columns=linear_features,\n",
    "                                               model_dir = './model/linear_regressor')"
   ]
  },
  {
   "cell_type": "code",
   "execution_count": null,
   "id": "b5a41f76",
   "metadata": {},
   "outputs": [],
   "source": [
    "# Train model\n",
    "# We pass the training_input_fn to the input_fn parameter of the train method and specify the number of steps we want to train the model. Note that\n",
    "# we have to pass the funtion object(input_fn = training_input_fn) to the input_fn parameter, not the return value of the function call (train_input_fn())"
   ]
  },
  {
   "cell_type": "code",
   "execution_count": 58,
   "id": "efac370d",
   "metadata": {},
   "outputs": [
    {
     "name": "stdout",
     "output_type": "stream",
     "text": [
      "INFO:tensorflow:Calling model_fn.\n",
      "WARNING:tensorflow:From /mnt/d/linuxuserhome/sanmaro/.pyenv/versions/py3_7_tf115/lib/python3.7/site-packages/tensorflow_estimator/python/estimator/canned/linear.py:308: to_float (from tensorflow.python.ops.math_ops) is deprecated and will be removed in a future version.\n",
      "Instructions for updating:\n",
      "Use `tf.cast` instead.\n",
      "INFO:tensorflow:Done calling model_fn.\n",
      "INFO:tensorflow:Create CheckpointSaverHook.\n",
      "INFO:tensorflow:Graph was finalized.\n",
      "INFO:tensorflow:Running local_init_op.\n",
      "INFO:tensorflow:Done running local_init_op.\n",
      "WARNING:tensorflow:From /mnt/d/linuxuserhome/sanmaro/.pyenv/versions/py3_7_tf115/lib/python3.7/site-packages/tensorflow_core/python/training/monitored_session.py:882: start_queue_runners (from tensorflow.python.training.queue_runner_impl) is deprecated and will be removed in a future version.\n",
      "Instructions for updating:\n",
      "To construct input pipelines, use the `tf.data` module.\n",
      "INFO:tensorflow:Saving checkpoints for 0 into ./model/linear_regressor/model.ckpt.\n",
      "INFO:tensorflow:loss = 786.11926, step = 1\n",
      "INFO:tensorflow:global_step/sec: 395.666\n",
      "INFO:tensorflow:loss = 24.293745, step = 101 (0.254 sec)\n",
      "INFO:tensorflow:global_step/sec: 680.531\n",
      "INFO:tensorflow:loss = 13.4727, step = 201 (0.147 sec)\n",
      "INFO:tensorflow:global_step/sec: 670.328\n",
      "INFO:tensorflow:loss = 8.314789, step = 301 (0.151 sec)\n",
      "INFO:tensorflow:global_step/sec: 694.962\n",
      "INFO:tensorflow:loss = 10.429558, step = 401 (0.144 sec)\n",
      "INFO:tensorflow:global_step/sec: 646.283\n",
      "INFO:tensorflow:loss = 8.939793, step = 501 (0.155 sec)\n",
      "INFO:tensorflow:global_step/sec: 653.052\n",
      "INFO:tensorflow:loss = 6.6101065, step = 601 (0.153 sec)\n",
      "INFO:tensorflow:global_step/sec: 564.681\n",
      "INFO:tensorflow:loss = 7.3223457, step = 701 (0.175 sec)\n",
      "INFO:tensorflow:global_step/sec: 503.259\n",
      "INFO:tensorflow:loss = 3.518042, step = 801 (0.202 sec)\n",
      "INFO:tensorflow:global_step/sec: 581.986\n",
      "INFO:tensorflow:loss = 3.6282654, step = 901 (0.170 sec)\n",
      "INFO:tensorflow:global_step/sec: 629.105\n",
      "INFO:tensorflow:loss = 7.2287445, step = 1001 (0.158 sec)\n",
      "INFO:tensorflow:global_step/sec: 682.995\n",
      "INFO:tensorflow:loss = 11.001104, step = 1101 (0.148 sec)\n",
      "INFO:tensorflow:global_step/sec: 721.304\n",
      "INFO:tensorflow:loss = 6.9618535, step = 1201 (0.138 sec)\n",
      "INFO:tensorflow:global_step/sec: 711.197\n",
      "INFO:tensorflow:loss = 4.545634, step = 1301 (0.141 sec)\n",
      "INFO:tensorflow:global_step/sec: 723.412\n",
      "INFO:tensorflow:loss = 5.6754036, step = 1401 (0.137 sec)\n",
      "INFO:tensorflow:global_step/sec: 710.627\n",
      "INFO:tensorflow:loss = 10.698057, step = 1501 (0.141 sec)\n",
      "INFO:tensorflow:global_step/sec: 699.584\n",
      "INFO:tensorflow:loss = 6.2786837, step = 1601 (0.145 sec)\n",
      "INFO:tensorflow:global_step/sec: 722.105\n",
      "INFO:tensorflow:loss = 3.780636, step = 1701 (0.137 sec)\n",
      "INFO:tensorflow:global_step/sec: 742.261\n",
      "INFO:tensorflow:loss = 3.0723858, step = 1801 (0.135 sec)\n",
      "INFO:tensorflow:global_step/sec: 705.428\n",
      "INFO:tensorflow:loss = 4.717748, step = 1901 (0.141 sec)\n",
      "INFO:tensorflow:Saving checkpoints for 2000 into ./model/linear_regressor/model.ckpt.\n",
      "INFO:tensorflow:Loss for final step: 5.6840434.\n"
     ]
    },
    {
     "data": {
      "text/plain": [
       "<tensorflow_estimator.python.estimator.canned.linear.LinearRegressor at 0x7f154865add0>"
      ]
     },
     "execution_count": 58,
     "metadata": {},
     "output_type": "execute_result"
    }
   ],
   "source": [
    "linear_regressor.train(input_fn = training_input_fn, steps=2000)"
   ]
  },
  {
   "cell_type": "code",
   "execution_count": null,
   "id": "3d05b406",
   "metadata": {},
   "outputs": [],
   "source": [
    "# Evaluate Model\n",
    "# For evaluating the model we simply pass the eval_input_fn to the imput_fn parameter in regressor.evluate method as we did earlier eith the\n",
    "# fit method. It returns a dict containing loss after evluating the model on the test set. \n",
    "# Currently loss is defined as mean squared error MSE in the linear regressor model."
   ]
  },
  {
   "cell_type": "code",
   "execution_count": 60,
   "id": "93f41312",
   "metadata": {},
   "outputs": [
    {
     "name": "stdout",
     "output_type": "stream",
     "text": [
      "INFO:tensorflow:Calling model_fn.\n",
      "INFO:tensorflow:Done calling model_fn.\n",
      "INFO:tensorflow:Starting evaluation at 2021-06-30T23:27:11Z\n",
      "INFO:tensorflow:Graph was finalized.\n",
      "INFO:tensorflow:Restoring parameters from ./model/linear_regressor/model.ckpt-2000\n",
      "INFO:tensorflow:Running local_init_op.\n",
      "INFO:tensorflow:Done running local_init_op.\n",
      "INFO:tensorflow:Finished evaluation at 2021-06-30-23:27:11\n",
      "INFO:tensorflow:Saving dict for global step 2000: average_loss = 0.15730597, global_step = 2000, label/mean = 4.9762683, loss = 4.9921513, prediction/mean = 5.075131\n",
      "INFO:tensorflow:Saving 'checkpoint_path' summary for global step 2000: ./model/linear_regressor/model.ckpt-2000\n"
     ]
    }
   ],
   "source": [
    "eval=linear_regressor.evaluate(input_fn = eval_input_fn)"
   ]
  },
  {
   "cell_type": "code",
   "execution_count": 61,
   "id": "e796181d",
   "metadata": {},
   "outputs": [
    {
     "name": "stdout",
     "output_type": "stream",
     "text": [
      "4.9921513\n"
     ]
    }
   ],
   "source": [
    "print(eval['loss'])"
   ]
  },
  {
   "cell_type": "code",
   "execution_count": null,
   "id": "a25bbbdb",
   "metadata": {},
   "outputs": [],
   "source": [
    "# prediction\n",
    "# linearRegressor.predict method returns a generator for yielding predictions. Since we have set the num_epoch to 1 the input function\n",
    "# we are using to feed the data to the evaluation function will go over the test dataset only once.\n",
    "# We can eaily convert it to a list for getting the predictions."
   ]
  },
  {
   "cell_type": "code",
   "execution_count": 63,
   "id": "4f371c03",
   "metadata": {},
   "outputs": [
    {
     "name": "stdout",
     "output_type": "stream",
     "text": [
      "INFO:tensorflow:Calling model_fn.\n",
      "INFO:tensorflow:Done calling model_fn.\n",
      "INFO:tensorflow:Graph was finalized.\n",
      "INFO:tensorflow:Restoring parameters from ./model/linear_regressor/model.ckpt-2000\n",
      "INFO:tensorflow:Running local_init_op.\n",
      "INFO:tensorflow:Done running local_init_op.\n"
     ]
    },
    {
     "data": {
      "text/plain": [
       "[4.56527,\n",
       " 4.6818624,\n",
       " 4.609328,\n",
       " 4.9863873,\n",
       " 5.0135784,\n",
       " 5.313418,\n",
       " 5.4584613,\n",
       " 5.9916515,\n",
       " 4.536171,\n",
       " 4.469878,\n",
       " 5.6229343,\n",
       " 4.53522,\n",
       " 5.693219,\n",
       " 5.8766623,\n",
       " 5.1139646,\n",
       " 5.7834177,\n",
       " 4.5926924,\n",
       " 5.1646414,\n",
       " 5.564065,\n",
       " 4.3651743,\n",
       " 5.363653,\n",
       " 5.3296723,\n",
       " 4.44089,\n",
       " 4.206328,\n",
       " 5.0323033,\n",
       " 4.579748,\n",
       " 4.566149,\n",
       " 5.465703,\n",
       " 5.435743,\n",
       " 4.978512,\n",
       " 5.5804844,\n",
       " 4.2601132,\n",
       " 4.5152197,\n",
       " 5.0448627,\n",
       " 4.5225983,\n",
       " 4.7608647,\n",
       " 5.3711476,\n",
       " 4.5288477,\n",
       " 5.5466976,\n",
       " 5.54945,\n",
       " 5.3797436,\n",
       " 5.6877813,\n",
       " 5.0082192,\n",
       " 4.716586,\n",
       " 5.1849227,\n",
       " 4.176996,\n",
       " 4.466215,\n",
       " 5.3647532,\n",
       " 4.7867475,\n",
       " 4.8402076,\n",
       " 4.630908,\n",
       " 5.5375586,\n",
       " 5.3001037,\n",
       " 5.4480824,\n",
       " 5.598991,\n",
       " 3.8108065,\n",
       " 4.7823806,\n",
       " 4.3304915,\n",
       " 5.343681,\n",
       " 4.3615217,\n",
       " 5.1419463,\n",
       " 4.3521504,\n",
       " 5.5378866,\n",
       " 5.97429,\n",
       " 6.0109115,\n",
       " 5.3296723,\n",
       " 4.8451414,\n",
       " 6.2237124,\n",
       " 4.780585,\n",
       " 4.5042305,\n",
       " 5.3440366,\n",
       " 5.0164337,\n",
       " 4.5072618,\n",
       " 4.759874,\n",
       " 4.518792,\n",
       " 5.188066,\n",
       " 5.282288,\n",
       " 4.5248237,\n",
       " 5.4775696,\n",
       " 5.336378,\n",
       " 4.4457874,\n",
       " 4.989557,\n",
       " 5.785449,\n",
       " 4.4644637,\n",
       " 5.2565103,\n",
       " 4.764019,\n",
       " 5.4173183,\n",
       " 5.0324383,\n",
       " 5.089183,\n",
       " 5.977125,\n",
       " 4.5996714,\n",
       " 4.8930225,\n",
       " 4.304212,\n",
       " 4.508946,\n",
       " 4.591726,\n",
       " 4.5333333,\n",
       " 4.505083,\n",
       " 5.052638,\n",
       " 4.561474,\n",
       " 5.9955034,\n",
       " 4.871623,\n",
       " 5.6177464,\n",
       " 5.3185124,\n",
       " 5.3099866,\n",
       " 4.546528,\n",
       " 5.2318997,\n",
       " 5.697952,\n",
       " 5.245268,\n",
       " 5.4851546,\n",
       " 5.0041575,\n",
       " 5.417489,\n",
       " 4.352468,\n",
       " 5.4224567,\n",
       " 4.4332027,\n",
       " 4.9336157,\n",
       " 5.5859714,\n",
       " 5.1917696,\n",
       " 5.0186152,\n",
       " 5.069525,\n",
       " 4.8126135,\n",
       " 5.563252,\n",
       " 5.6568203,\n",
       " 5.3641157,\n",
       " 4.799367,\n",
       " 4.4743533,\n",
       " 4.9458437,\n",
       " 5.274563,\n",
       " 4.8166256,\n",
       " 5.240452,\n",
       " 5.654786,\n",
       " 4.9696937,\n",
       " 4.555234,\n",
       " 4.799046,\n",
       " 5.192111,\n",
       " 4.4927244,\n",
       " 6.5115814,\n",
       " 5.1174483,\n",
       " 5.5251036,\n",
       " 4.9333687,\n",
       " 4.2075214,\n",
       " 4.756419,\n",
       " 6.49519,\n",
       " 5.252695,\n",
       " 5.272419,\n",
       " 6.97856,\n",
       " 4.779212,\n",
       " 5.1238475,\n",
       " 4.44557,\n",
       " 4.5716305,\n",
       " 5.978088,\n",
       " 5.1776266,\n",
       " 5.0333652,\n",
       " 4.559388,\n",
       " 4.709217,\n",
       " 5.4986577,\n",
       " 5.4805336,\n",
       " 5.143119,\n",
       " 5.228067,\n",
       " 5.1077614,\n",
       " 4.456483,\n",
       " 5.325243,\n",
       " 4.8474097,\n",
       " 4.780558,\n",
       " 4.8398747,\n",
       " 5.1975946,\n",
       " 5.3815503,\n",
       " 4.6833973,\n",
       " 5.4041367,\n",
       " 5.246591,\n",
       " 4.1253076,\n",
       " 5.472119,\n",
       " 4.628278,\n",
       " 4.737191,\n",
       " 5.9044676,\n",
       " 5.3453364,\n",
       " 4.598236,\n",
       " 4.8221874,\n",
       " 5.148005,\n",
       " 5.729797,\n",
       " 5.010834,\n",
       " 4.9795046,\n",
       " 5.1459403,\n",
       " 4.4860415,\n",
       " 4.631512,\n",
       " 4.913501,\n",
       " 4.827114,\n",
       " 4.542605,\n",
       " 5.252383,\n",
       " 4.5963917,\n",
       " 4.8451414,\n",
       " 4.450993,\n",
       " 5.2056994,\n",
       " 5.1519294,\n",
       " 4.3895025,\n",
       " 4.691994,\n",
       " 5.096179,\n",
       " 4.6304364,\n",
       " 4.9815784,\n",
       " 5.6214337,\n",
       " 5.19085,\n",
       " 4.870698,\n",
       " 5.8987904,\n",
       " 5.471544,\n",
       " 5.289852,\n",
       " 4.5035157,\n",
       " 4.614183,\n",
       " 4.4673185,\n",
       " 4.6605716,\n",
       " 2.5624113,\n",
       " 4.810108,\n",
       " 5.4570994,\n",
       " 5.1228533,\n",
       " 4.531176,\n",
       " 5.0309944,\n",
       " 4.8206306,\n",
       " 4.666418,\n",
       " 5.2056,\n",
       " 5.313817,\n",
       " 5.024843,\n",
       " 5.596416,\n",
       " 5.383285,\n",
       " 5.1025076,\n",
       " 5.165132,\n",
       " 5.3916664,\n",
       " 4.892166,\n",
       " 5.5619802,\n",
       " 4.1391435,\n",
       " 4.1329722,\n",
       " 5.55293,\n",
       " 5.1716666,\n",
       " 4.572527,\n",
       " 4.6828995,\n",
       " 4.8559294,\n",
       " 5.092208,\n",
       " 5.6163845,\n",
       " 4.645668,\n",
       " 5.2468643,\n",
       " 4.9994373,\n",
       " 4.3949676,\n",
       " 4.704385,\n",
       " 5.1297464,\n",
       " 5.4172306,\n",
       " 4.7418027,\n",
       " 5.447108,\n",
       " 4.3531966,\n",
       " 4.7464495,\n",
       " 4.6330166,\n",
       " 4.857737,\n",
       " 5.408829,\n",
       " 4.3792944,\n",
       " 5.1279883,\n",
       " 5.632287,\n",
       " 4.9200563,\n",
       " 5.3889985,\n",
       " 4.211801,\n",
       " 5.4891043,\n",
       " 4.5876265,\n",
       " 5.630279,\n",
       " 4.508852,\n",
       " 4.666354,\n",
       " 5.417103,\n",
       " 4.4004755,\n",
       " 5.2540584,\n",
       " 4.5396085,\n",
       " 5.371188,\n",
       " 4.8694124,\n",
       " 5.2992263,\n",
       " 5.924911,\n",
       " 5.1566486,\n",
       " 5.8261495,\n",
       " 5.379836,\n",
       " 4.8922358,\n",
       " 5.191478,\n",
       " 4.4545794,\n",
       " 5.2927804,\n",
       " 5.501155,\n",
       " 4.2305727,\n",
       " 4.5648623,\n",
       " 4.3759828,\n",
       " 4.822051,\n",
       " 5.4769764,\n",
       " 4.8847494,\n",
       " 5.7750034,\n",
       " 5.0077276,\n",
       " 4.4382224,\n",
       " 5.029864,\n",
       " 4.9582553,\n",
       " 5.9771833,\n",
       " 4.701764,\n",
       " 5.296604,\n",
       " 4.474702,\n",
       " 5.9877563,\n",
       " 4.7255993,\n",
       " 4.6327066,\n",
       " 4.212416,\n",
       " 5.125173,\n",
       " 5.17842,\n",
       " 5.3124003,\n",
       " 4.894824,\n",
       " 4.744363,\n",
       " 4.942487,\n",
       " 5.157142,\n",
       " 4.5555286,\n",
       " 5.637467,\n",
       " 4.646639,\n",
       " 5.4774985,\n",
       " 5.374129,\n",
       " 4.7486506,\n",
       " 6.102599,\n",
       " 5.500701,\n",
       " 5.5830307,\n",
       " 5.5827107,\n",
       " 5.71142,\n",
       " 5.383047,\n",
       " 5.769963,\n",
       " 5.4424396,\n",
       " 4.8020906,\n",
       " 5.1288967,\n",
       " 4.3895864,\n",
       " 5.4687624,\n",
       " 6.017953,\n",
       " 4.705752,\n",
       " 4.9592166,\n",
       " 5.4502077,\n",
       " 4.810584,\n",
       " 5.1336856,\n",
       " 5.3360944,\n",
       " 4.828755,\n",
       " 5.189998,\n",
       " 5.319684,\n",
       " 5.560993,\n",
       " 6.0334063,\n",
       " 4.0046887,\n",
       " 4.757143,\n",
       " 4.829084,\n",
       " 6.1123323,\n",
       " 5.642853,\n",
       " 4.2759027,\n",
       " 4.784297,\n",
       " 4.482141,\n",
       " 4.19561,\n",
       " 4.2864,\n",
       " 4.78335,\n",
       " 5.619516,\n",
       " 5.399784,\n",
       " 5.4464684,\n",
       " 4.7384396,\n",
       " 5.4284863,\n",
       " 4.6997776,\n",
       " 4.634885,\n",
       " 5.1540875,\n",
       " 4.9189262,\n",
       " 5.5660443,\n",
       " 4.5442543,\n",
       " 5.2478867,\n",
       " 5.1908975,\n",
       " 4.564019,\n",
       " 4.537933,\n",
       " 5.4884615,\n",
       " 4.496146,\n",
       " 4.395918,\n",
       " 5.536245,\n",
       " 5.451466,\n",
       " 6.1051245,\n",
       " 6.178531,\n",
       " 4.5230556,\n",
       " 4.9401016,\n",
       " 5.657276,\n",
       " 4.827545,\n",
       " 5.3903565,\n",
       " 4.48841,\n",
       " 5.2787323,\n",
       " 4.558835,\n",
       " 5.647128,\n",
       " 4.6866274,\n",
       " 4.7139516,\n",
       " 4.4753885,\n",
       " 5.4681516,\n",
       " 4.871627,\n",
       " 5.290226,\n",
       " 5.8001113,\n",
       " 4.5091686,\n",
       " 5.7683773,\n",
       " 3.1991863,\n",
       " 4.632658,\n",
       " 5.526696,\n",
       " 5.7621455,\n",
       " 4.573546,\n",
       " 5.0500307,\n",
       " 5.2371864,\n",
       " 5.5827107,\n",
       " 5.245547,\n",
       " 4.946045,\n",
       " 5.147048,\n",
       " 4.967804,\n",
       " 4.830309,\n",
       " 5.153028,\n",
       " 5.750604,\n",
       " 5.9006987,\n",
       " 5.6349254,\n",
       " 5.3713627,\n",
       " 4.2690163,\n",
       " 4.40265,\n",
       " 5.283455,\n",
       " 7.090378,\n",
       " 4.855647,\n",
       " 5.1664534,\n",
       " 5.282496,\n",
       " 5.8114223,\n",
       " 4.3678904,\n",
       " 5.5265,\n",
       " 5.4509087,\n",
       " 4.2460127,\n",
       " 5.1964407,\n",
       " 5.735265,\n",
       " 5.440324,\n",
       " 5.6689115,\n",
       " 6.890237,\n",
       " 4.683857,\n",
       " 4.375799,\n",
       " 5.870863,\n",
       " 5.135661,\n",
       " 4.374556,\n",
       " 4.805867,\n",
       " 5.49714,\n",
       " 4.8717422,\n",
       " 5.413306,\n",
       " 5.4115257,\n",
       " 5.617084,\n",
       " 5.673806,\n",
       " 4.653752,\n",
       " 4.1337647,\n",
       " 4.627541,\n",
       " 5.110018,\n",
       " 4.7699633,\n",
       " 5.070586,\n",
       " 5.2798595,\n",
       " 5.2514915,\n",
       " 4.871711,\n",
       " 4.875481,\n",
       " 4.6976275,\n",
       " 4.363111,\n",
       " 5.2078176,\n",
       " 5.9802012,\n",
       " 4.831041,\n",
       " 5.129022,\n",
       " 4.710324,\n",
       " 5.251585,\n",
       " 5.5629253,\n",
       " 4.9505396,\n",
       " 5.8091474,\n",
       " 4.4973555,\n",
       " 5.3130093,\n",
       " 3.7003007,\n",
       " 4.448483,\n",
       " 5.7074327,\n",
       " 4.6946745,\n",
       " 3.597252,\n",
       " 4.368965,\n",
       " 6.734962,\n",
       " 5.315824,\n",
       " 5.257673,\n",
       " 4.868789,\n",
       " 4.981052,\n",
       " 5.3121724,\n",
       " 5.4646506,\n",
       " 4.302127,\n",
       " 5.3139114,\n",
       " 4.622258,\n",
       " 5.2473803,\n",
       " 5.1725693,\n",
       " 5.023756,\n",
       " 5.3736625,\n",
       " 5.87357,\n",
       " 5.693969,\n",
       " 5.443609,\n",
       " 5.0078926,\n",
       " 4.8681307,\n",
       " 5.22755,\n",
       " 5.0241303,\n",
       " 5.482441,\n",
       " 5.4637384,\n",
       " 4.4287276,\n",
       " 6.0881205,\n",
       " 5.806656,\n",
       " 5.683408,\n",
       " 5.2706566,\n",
       " 4.796318,\n",
       " 4.4923162,\n",
       " 5.2998605,\n",
       " 5.9539623,\n",
       " 4.656692,\n",
       " 5.68532,\n",
       " 4.741579,\n",
       " 5.3724575,\n",
       " 4.45222,\n",
       " 5.5827107,\n",
       " 5.4901066,\n",
       " 5.4514856,\n",
       " 5.9771833,\n",
       " 5.3720512,\n",
       " 4.3841953,\n",
       " 5.4601793,\n",
       " 5.3139114,\n",
       " 5.5827107,\n",
       " 4.5757775,\n",
       " 4.789064,\n",
       " 5.004857,\n",
       " 5.330514,\n",
       " 5.280032,\n",
       " 4.6775684,\n",
       " 5.3296723,\n",
       " 5.417152,\n",
       " 4.515278,\n",
       " 5.4204817,\n",
       " 4.759881,\n",
       " 5.42194,\n",
       " 6.2011538,\n",
       " 5.0034795,\n",
       " 4.358045,\n",
       " 5.2034917,\n",
       " 5.4986577,\n",
       " 4.092656,\n",
       " 4.99381,\n",
       " 5.8766623,\n",
       " 5.1007023,\n",
       " 4.3175287,\n",
       " 5.9186845,\n",
       " 5.1211023,\n",
       " 4.983642,\n",
       " 5.564584,\n",
       " 5.5607643,\n",
       " 5.578851,\n",
       " 4.214012,\n",
       " 4.6007223,\n",
       " 4.9149094,\n",
       " 5.8766623,\n",
       " 4.5492315,\n",
       " 5.749735,\n",
       " 4.7829976,\n",
       " 4.7706895,\n",
       " 6.1118307,\n",
       " 5.125401,\n",
       " 4.627314,\n",
       " 5.315303,\n",
       " 4.5654736,\n",
       " 4.9700255,\n",
       " 4.9648247,\n",
       " 5.0974603,\n",
       " 4.7892675,\n",
       " 5.1547675,\n",
       " 5.0054502,\n",
       " 4.4911804,\n",
       " 4.423328,\n",
       " 4.4789276,\n",
       " 4.7924595,\n",
       " 4.5519867,\n",
       " 4.792378,\n",
       " 4.228957,\n",
       " 5.4148154,\n",
       " 4.3357034,\n",
       " 5.2001286,\n",
       " 4.01009,\n",
       " 5.730567,\n",
       " 5.222298,\n",
       " 5.4452677,\n",
       " 4.5435433,\n",
       " 4.736876,\n",
       " 5.133214,\n",
       " 5.051386,\n",
       " 4.9189262,\n",
       " 5.3739047,\n",
       " 5.0528708,\n",
       " 5.298086,\n",
       " 4.552045,\n",
       " 5.3096538,\n",
       " 5.5179977,\n",
       " 4.6965413,\n",
       " 4.7446055,\n",
       " 5.208364,\n",
       " 4.8883142,\n",
       " 5.1476765,\n",
       " 4.052473,\n",
       " 5.4432893,\n",
       " 5.258004,\n",
       " 5.8319974,\n",
       " 5.1329,\n",
       " 5.3342237,\n",
       " 5.50152,\n",
       " 4.856212,\n",
       " 4.758924,\n",
       " 5.026069,\n",
       " 5.4078593,\n",
       " 5.056206,\n",
       " 4.0711102,\n",
       " 4.7139807,\n",
       " 4.4109383,\n",
       " 5.2258706,\n",
       " 5.7338634,\n",
       " 4.386525,\n",
       " 5.2587175,\n",
       " 5.3176455,\n",
       " 4.6102457,\n",
       " 4.957222,\n",
       " 4.611463,\n",
       " 5.133503,\n",
       " 5.370555,\n",
       " 4.464056,\n",
       " 5.267346,\n",
       " 5.273116,\n",
       " 5.132842,\n",
       " 6.039378,\n",
       " 4.351963,\n",
       " 4.6988306,\n",
       " 5.2752433,\n",
       " 5.665959,\n",
       " 5.060799,\n",
       " 4.2532015,\n",
       " 5.886908,\n",
       " 5.691107,\n",
       " 5.4152513,\n",
       " 4.4959254,\n",
       " 4.902727,\n",
       " 5.83191,\n",
       " 4.535642,\n",
       " 5.2692904,\n",
       " 5.886908,\n",
       " 4.7891736,\n",
       " 4.3494363,\n",
       " 4.76753,\n",
       " 5.589432,\n",
       " 6.0041027,\n",
       " 4.836498,\n",
       " 5.9771833,\n",
       " 5.186762,\n",
       " 4.3047824,\n",
       " 4.373786,\n",
       " 5.6376376,\n",
       " 5.854355,\n",
       " 4.285069,\n",
       " 4.843155,\n",
       " 5.0816116,\n",
       " 3.9868326,\n",
       " 4.1291127,\n",
       " 4.850941,\n",
       " 5.4762425,\n",
       " 4.734788,\n",
       " 5.4933853,\n",
       " 5.3024974,\n",
       " 4.789093,\n",
       " 5.7075205,\n",
       " 5.4793143,\n",
       " 5.22682,\n",
       " 4.321971,\n",
       " 4.843747,\n",
       " 6.1517773,\n",
       " 5.0669723,\n",
       " 5.324845,\n",
       " 4.082425,\n",
       " 4.6949573,\n",
       " 5.986654,\n",
       " 5.559921,\n",
       " 5.419496,\n",
       " 4.435821,\n",
       " 4.45473,\n",
       " 4.828115,\n",
       " 4.973163,\n",
       " 5.005477,\n",
       " 5.57647,\n",
       " 4.8206306,\n",
       " 5.2521996,\n",
       " 5.481475,\n",
       " 4.721223,\n",
       " 5.3510566,\n",
       " 4.455687,\n",
       " 5.5058036,\n",
       " 4.5949383,\n",
       " 5.623138,\n",
       " 5.1708074,\n",
       " 4.991214,\n",
       " 5.980425,\n",
       " 4.443678,\n",
       " 4.751877,\n",
       " 4.910026,\n",
       " 4.9686,\n",
       " 4.5671844,\n",
       " 4.7553477,\n",
       " 5.8931303,\n",
       " 4.4778533,\n",
       " 5.2387204,\n",
       " 5.2798414,\n",
       " 4.5107193,\n",
       " 4.5674996,\n",
       " 4.443553,\n",
       " 5.6231203,\n",
       " 5.3588567,\n",
       " 4.485957,\n",
       " 5.5766444,\n",
       " 4.9906516,\n",
       " 5.0370674,\n",
       " 4.4724064,\n",
       " 4.3678126,\n",
       " 5.370555,\n",
       " 4.424994,\n",
       " 5.9771833,\n",
       " 5.0331287,\n",
       " 5.452139,\n",
       " 5.516,\n",
       " 5.3006926,\n",
       " 5.12388,\n",
       " 4.4807625,\n",
       " 5.4744706,\n",
       " 4.531637,\n",
       " 5.1123276,\n",
       " 4.742959,\n",
       " 6.322935,\n",
       " 4.771832,\n",
       " 5.5880427,\n",
       " 4.5385714,\n",
       " 4.4672127,\n",
       " 5.185733,\n",
       " 4.251246,\n",
       " 4.6400995,\n",
       " 5.093447,\n",
       " 5.340587,\n",
       " 5.9874115,\n",
       " 4.46678,\n",
       " 5.499162,\n",
       " 4.6186914,\n",
       " 4.4040394,\n",
       " 4.045492,\n",
       " 5.439209,\n",
       " 4.555521,\n",
       " 5.4655275,\n",
       " 5.7617307,\n",
       " 5.541914,\n",
       " 4.988945,\n",
       " 5.0735183,\n",
       " 4.7380004,\n",
       " 5.5820003,\n",
       " 4.8214045,\n",
       " 6.0211573,\n",
       " 4.9039974,\n",
       " 5.2161613,\n",
       " 4.6438165,\n",
       " 4.8067136,\n",
       " 5.523112,\n",
       " 5.5827107,\n",
       " 5.0647583,\n",
       " 5.133563,\n",
       " 5.3712754,\n",
       " 4.6788697,\n",
       " 5.481151,\n",
       " 5.956356,\n",
       " 5.56528,\n",
       " 5.621376,\n",
       " 5.6778293,\n",
       " 4.8763638,\n",
       " 5.3739047,\n",
       " 5.445649,\n",
       " 4.6102147,\n",
       " 4.560916,\n",
       " 5.29114,\n",
       " 4.772267,\n",
       " 4.4423723,\n",
       " 5.1953006,\n",
       " 6.0808372,\n",
       " 4.684019,\n",
       " 4.342802,\n",
       " 4.532275,\n",
       " 4.710702,\n",
       " 5.7642074,\n",
       " 5.2581744,\n",
       " 6.12862,\n",
       " 6.0085697,\n",
       " 6.488179,\n",
       " 5.4986577,\n",
       " 3.9379811,\n",
       " 4.587263,\n",
       " 5.3712754,\n",
       " 5.096369,\n",
       " 5.4655232,\n",
       " 5.73274,\n",
       " 5.5215654,\n",
       " 5.128041,\n",
       " 4.900009,\n",
       " 4.6327066,\n",
       " 5.631229,\n",
       " 3.605905,\n",
       " 4.6018043,\n",
       " 5.7177944,\n",
       " 6.3062897,\n",
       " 4.4224052,\n",
       " 4.2264805,\n",
       " 5.098427,\n",
       " 5.1506357,\n",
       " 4.5168667,\n",
       " 5.29352,\n",
       " 5.371247,\n",
       " 4.5141473,\n",
       " 5.6486974,\n",
       " 5.1857805,\n",
       " 5.066656,\n",
       " 4.6431184,\n",
       " 5.950344,\n",
       " 5.6085143,\n",
       " 5.226139,\n",
       " 4.7432513,\n",
       " 4.9544797,\n",
       " 5.40421,\n",
       " 4.7785006,\n",
       " 4.6188083,\n",
       " 4.3737926,\n",
       " 5.5643263,\n",
       " 5.0664988,\n",
       " 4.796977,\n",
       " 5.7487907,\n",
       " 5.2573004,\n",
       " 5.079715,\n",
       " 4.616196,\n",
       " 5.248927,\n",
       " 5.2450504,\n",
       " 5.9944806,\n",
       " 4.454902,\n",
       " 5.1181164,\n",
       " 5.2274427,\n",
       " 4.7432513,\n",
       " 5.481743,\n",
       " 4.074962,\n",
       " 5.237727,\n",
       " 5.3275275,\n",
       " 5.0926,\n",
       " 4.755554,\n",
       " 4.911786,\n",
       " 5.306252,\n",
       " 4.744724,\n",
       " 5.1829762,\n",
       " 5.951771,\n",
       " 4.3958616,\n",
       " 4.7096033,\n",
       " 4.491326,\n",
       " 5.857354,\n",
       " 4.2564473,\n",
       " 5.433321,\n",
       " 4.422638,\n",
       " 5.1356435,\n",
       " 4.662635,\n",
       " 5.297745,\n",
       " 5.006463,\n",
       " 4.7186003,\n",
       " 4.803482,\n",
       " 5.322616,\n",
       " 4.5376983,\n",
       " 4.8223653,\n",
       " 4.1250067,\n",
       " 5.2064695,\n",
       " 3.623653,\n",
       " 5.1987414,\n",
       " 4.8981705,\n",
       " 4.907872,\n",
       " 4.5450926,\n",
       " 5.6833363,\n",
       " 4.7343125,\n",
       " 5.3972893,\n",
       " 5.764253,\n",
       " 5.3740582,\n",
       " 5.343895,\n",
       " 4.7379713,\n",
       " 5.017068,\n",
       " 4.8320384,\n",
       " 4.8760505,\n",
       " 4.8599186,\n",
       " 5.5826235,\n",
       " 6.1419363,\n",
       " 5.3644295,\n",
       " 5.701168,\n",
       " 5.0721364,\n",
       " 6.005722,\n",
       " 5.859774,\n",
       " 4.8084073,\n",
       " 4.739622,\n",
       " 5.5119066,\n",
       " 5.0902963,\n",
       " 5.9948807,\n",
       " 5.1109743,\n",
       " 5.092293,\n",
       " 5.93154,\n",
       " 4.770441,\n",
       " 4.862429,\n",
       " 4.534301,\n",
       " 5.5459757,\n",
       " 4.826413,\n",
       " 5.5864882,\n",
       " 5.55456,\n",
       " 5.502512,\n",
       " 5.227363,\n",
       " 5.1993723,\n",
       " 5.159962,\n",
       " 4.9765215,\n",
       " 5.7541237,\n",
       " 6.4950447,\n",
       " 5.1591187,\n",
       " 4.3468556,\n",
       " 5.545199,\n",
       " 5.1789536,\n",
       " 5.602368,\n",
       " 4.2010674,\n",
       " 5.707433,\n",
       " 4.635682,\n",
       " 5.4796944,\n",
       " 5.7061477,\n",
       " 5.7840877,\n",
       " 5.099782,\n",
       " 5.170108,\n",
       " 5.63151,\n",
       " 4.9042854,\n",
       " 5.114029,\n",
       " 5.2866564,\n",
       " 4.440255,\n",
       " 5.560935,\n",
       " 5.437866,\n",
       " 5.1421776,\n",
       " 4.598207,\n",
       " 5.0043726,\n",
       " 5.1437798,\n",
       " 5.140019,\n",
       " 4.3654523,\n",
       " 4.752733,\n",
       " 4.4945917,\n",
       " 4.530658,\n",
       " 5.25959,\n",
       " 5.332043,\n",
       " 5.734935,\n",
       " 5.200962,\n",
       " 5.290802,\n",
       " 4.0390854,\n",
       " 4.9180856,\n",
       " 4.438623,\n",
       " 5.4799576,\n",
       " 5.1025944,\n",
       " 4.6297774,\n",
       " 5.0331116,\n",
       " 4.8574934,\n",
       " 5.926835,\n",
       " 5.3736715,\n",
       " 5.7381387,\n",
       " 4.376102,\n",
       " 4.6105905,\n",
       " 5.203664,\n",
       " 4.310815,\n",
       " 4.235726,\n",
       " 5.43154,\n",
       " 4.5763307,\n",
       " 4.5487804,\n",
       " 4.729886,\n",
       " 5.6883097,\n",
       " 5.371159,\n",
       " 5.220648,\n",
       " 5.5408006,\n",
       " 6.270928,\n",
       " 4.781924,\n",
       " 5.6521173,\n",
       " 5.191374,\n",
       " 4.529115,\n",
       " 5.994902,\n",
       " 4.8858805,\n",
       " 4.871472,\n",
       " 5.122657,\n",
       " 4.9413624,\n",
       " 5.4487543,\n",
       " 4.975053,\n",
       " 5.0593,\n",
       " 4.4782996,\n",
       " 5.2775564,\n",
       " 5.0037622,\n",
       " 4.8541403,\n",
       " 6.111928,\n",
       " 4.8468866,\n",
       " 5.14072,\n",
       " 4.8848686,\n",
       " 5.4360604,\n",
       " 5.412392,\n",
       " 4.8429775,\n",
       " 4.766766,\n",
       " 5.3301444,\n",
       " 4.6329255,\n",
       " 4.678033,\n",
       " 4.9347887,\n",
       " 4.220321,\n",
       " 5.0474157,\n",
       " 5.821707,\n",
       " 5.677709,\n",
       " 5.627343,\n",
       " 5.74317,\n",
       " 5.924618,\n",
       " 4.820399,\n",
       " 4.772446,\n",
       " 4.4350996,\n",
       " 4.8180366,\n",
       " 4.9079103,\n",
       " ...]"
      ]
     },
     "execution_count": 63,
     "metadata": {},
     "output_type": "execute_result"
    }
   ],
   "source": [
    "pred = list(linear_regressor.predict(input_fn=eval_input_fn))\n",
    "pred = [p['predictions'][0] for p in pred]\n",
    "pred"
   ]
  },
  {
   "cell_type": "code",
   "execution_count": null,
   "id": "f5513fb5",
   "metadata": {},
   "outputs": [],
   "source": [
    "# Since we had log-transformed the price before we've to use the exponential function to inverse it and get our prices for the rental values in original dollar terms."
   ]
  },
  {
   "cell_type": "code",
   "execution_count": 64,
   "id": "2b46c1bc",
   "metadata": {},
   "outputs": [
    {
     "name": "stdout",
     "output_type": "stream",
     "text": [
      "[ 96.088524 107.97097  100.41662  ... 146.03276   76.96138  165.70822 ]\n"
     ]
    }
   ],
   "source": [
    "prices = np.exp(pred)\n",
    "print(prices)"
   ]
  },
  {
   "cell_type": "code",
   "execution_count": null,
   "id": "a7444c09",
   "metadata": {},
   "outputs": [],
   "source": [
    "# Visualizing loss and model architecture with tensorboard\n",
    "# As mentioned earlier, Tensorboard makes visualizing any model really easy. We simply need to set the logdir parameter to the directory we have saved our estimator model when we want to visualize it.\n",
    "# When we instantiated the model we can set the model_dir parameter to store the model. Tensorflow automatically save checkpoints and the details of the models under the hood in the model directory\n",
    "# and we visualize them with tensorboard.\n",
    "# Let's visualize our linear model with Tensorboard first. Type the following commands in the terminal\n",
    "# tensorboard --logdir=./model/linear_regressor\n",
    "# or\n",
    "# tensorboard --logdir ./model/linear_regressor (for windows)"
   ]
  },
  {
   "cell_type": "code",
   "execution_count": null,
   "id": "15320eee",
   "metadata": {},
   "outputs": [],
   "source": [
    "# Visualizing Feature Weights\n",
    "# We may want to check the feature weights for the linear_regressor model. We can find the vairable names for each feature from the model by using the get_variable_names method first\n",
    "# and then get the weights by using those name. Here we demonstrate how to get the feature weights for the neighbourhoods and visualize them with a pandas dataframe for convenience\n",
    "\n",
    "#\n",
    "# First we check how the variable names look like by printing a few names."
   ]
  },
  {
   "cell_type": "code",
   "execution_count": 65,
   "id": "f3bc8837",
   "metadata": {},
   "outputs": [
    {
     "data": {
      "text/plain": [
       "['linear/linear_model/bathrooms/weights/part_0/Ftrl',\n",
       " 'linear/linear_model/bathrooms/weights/part_0/Ftrl_1',\n",
       " 'linear/linear_model/bed_type/weights',\n",
       " 'linear/linear_model/bed_type/weights/part_0/Ftrl',\n",
       " 'linear/linear_model/bed_type/weights/part_0/Ftrl_1']"
      ]
     },
     "execution_count": 65,
     "metadata": {},
     "output_type": "execute_result"
    }
   ],
   "source": [
    "linear_regressor.get_variable_names()[5:10]"
   ]
  },
  {
   "cell_type": "code",
   "execution_count": 66,
   "id": "60c261f0",
   "metadata": {},
   "outputs": [
    {
     "name": "stdout",
     "output_type": "stream",
     "text": [
      "variable name count : 52\n"
     ]
    }
   ],
   "source": [
    "vns = linear_regressor.get_variable_names()\n",
    "print('variable name count : {}'.format(len(vns)))"
   ]
  },
  {
   "cell_type": "code",
   "execution_count": null,
   "id": "f709fde4",
   "metadata": {},
   "outputs": [],
   "source": [
    "# Then we get the feature weights for the neighbourhodd_cleansed categorical feature and store them in property_weights.\n",
    "# I've made a Dataframe with the feature weights as values and the different neighbourhood names as index for convenience."
   ]
  },
  {
   "cell_type": "code",
   "execution_count": null,
   "id": "dbe601c5",
   "metadata": {},
   "outputs": [],
   "source": [
    "property_weights = linear_regressor.get_variable_value('linear/linear_model/neighbourhood_cleansed/weights').flatten()\n",
    "property_key = boston['neighbourhood_cleansed'].value_counts().keys()\n",
    "\n",
    "pd.DataFrame({'Weights':prope})"
   ]
  }
 ],
 "metadata": {
  "kernelspec": {
   "display_name": "py3_7_tf115",
   "language": "python",
   "name": "py3_7_tf115"
  },
  "language_info": {
   "codemirror_mode": {
    "name": "ipython",
    "version": 3
   },
   "file_extension": ".py",
   "mimetype": "text/x-python",
   "name": "python",
   "nbconvert_exporter": "python",
   "pygments_lexer": "ipython3",
   "version": "3.7.10"
  }
 },
 "nbformat": 4,
 "nbformat_minor": 5
}
